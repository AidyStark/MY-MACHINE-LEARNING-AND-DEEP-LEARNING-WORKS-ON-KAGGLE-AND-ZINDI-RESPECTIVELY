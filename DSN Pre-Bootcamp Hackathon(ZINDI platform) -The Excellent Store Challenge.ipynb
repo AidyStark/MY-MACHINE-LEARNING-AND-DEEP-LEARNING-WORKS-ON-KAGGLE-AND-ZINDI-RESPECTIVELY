{
  "nbformat": 4,
  "nbformat_minor": 0,
  "metadata": {
    "colab": {
      "name": "DSN Pre-Bootcamp Hackathon(ZINDI platform): The Excellent Store Challenge.ipynb",
      "provenance": [],
      "collapsed_sections": [],
      "authorship_tag": "ABX9TyPZa1ar4K7498PD4cVTIa29",
      "include_colab_link": true
    },
    "kernelspec": {
      "name": "python3",
      "display_name": "Python 3"
    }
  },
  "cells": [
    {
      "cell_type": "markdown",
      "metadata": {
        "id": "view-in-github",
        "colab_type": "text"
      },
      "source": [
        "<a href=\"https://colab.research.google.com/github/Adeyinka-hub/MY-MACHINE-LEARNING-AND-DEEP-LEARNING-WORKS-ON-KAGGLE-AND-ZINDI-RESPECTIVELY/blob/master/DSN%20Pre-Bootcamp%20Hackathon(ZINDI%20platform)%20-The%20Excellent%20Store%20Challenge.ipynb\" target=\"_parent\"><img src=\"https://colab.research.google.com/assets/colab-badge.svg\" alt=\"Open In Colab\"/></a>"
      ]
    },
    {
      "cell_type": "markdown",
      "metadata": {
        "id": "z4h1kwF1kpxj",
        "colab_type": "text"
      },
      "source": [
        "# 19th position on Zindi Leaderboard"
      ]
    },
    {
      "cell_type": "code",
      "metadata": {
        "id": "RS3LUW5hVnyV",
        "colab_type": "code",
        "colab": {}
      },
      "source": [
        "import pandas as pd\n",
        "import numpy as np"
      ],
      "execution_count": null,
      "outputs": []
    },
    {
      "cell_type": "code",
      "metadata": {
        "id": "XcFd2U_IUz0p",
        "colab_type": "code",
        "colab": {}
      },
      "source": [
        "train = pd.read_csv('/content/train (43).csv')\n",
        "test = pd.read_csv('/content/test (28).csv')\n",
        "sub = pd.read_csv('/content/SampleSubmission (22).csv')"
      ],
      "execution_count": null,
      "outputs": []
    },
    {
      "cell_type": "code",
      "metadata": {
        "id": "bZuzyvVOVYpo",
        "colab_type": "code",
        "colab": {
          "base_uri": "https://localhost:8080/",
          "height": 309
        },
        "outputId": "b6cfb48c-057a-4496-bb30-2481a4ce5079"
      },
      "source": [
        "train.head()"
      ],
      "execution_count": null,
      "outputs": [
        {
          "output_type": "execute_result",
          "data": {
            "text/html": [
              "<div>\n",
              "<style scoped>\n",
              "    .dataframe tbody tr th:only-of-type {\n",
              "        vertical-align: middle;\n",
              "    }\n",
              "\n",
              "    .dataframe tbody tr th {\n",
              "        vertical-align: top;\n",
              "    }\n",
              "\n",
              "    .dataframe thead th {\n",
              "        text-align: right;\n",
              "    }\n",
              "</style>\n",
              "<table border=\"1\" class=\"dataframe\">\n",
              "  <thead>\n",
              "    <tr style=\"text-align: right;\">\n",
              "      <th></th>\n",
              "      <th>Item_ID</th>\n",
              "      <th>Store_ID</th>\n",
              "      <th>Item_Store_ID</th>\n",
              "      <th>Item_Weight</th>\n",
              "      <th>Item_Sugar_Content</th>\n",
              "      <th>Item_Visibility</th>\n",
              "      <th>Item_Type</th>\n",
              "      <th>Item_Price</th>\n",
              "      <th>Store_Start_Year</th>\n",
              "      <th>Store_Size</th>\n",
              "      <th>Store_Location_Type</th>\n",
              "      <th>Store_Type</th>\n",
              "      <th>Item_Store_Returns</th>\n",
              "    </tr>\n",
              "  </thead>\n",
              "  <tbody>\n",
              "    <tr>\n",
              "      <th>0</th>\n",
              "      <td>DRA12</td>\n",
              "      <td>BABATUNJI010</td>\n",
              "      <td>DRA12_BABATUNJI010</td>\n",
              "      <td>11.6</td>\n",
              "      <td>Low Sugar</td>\n",
              "      <td>0.068535</td>\n",
              "      <td>Soft Drinks</td>\n",
              "      <td>357.54</td>\n",
              "      <td>2005</td>\n",
              "      <td>NaN</td>\n",
              "      <td>Cluster 3</td>\n",
              "      <td>Grocery Store</td>\n",
              "      <td>709.08</td>\n",
              "    </tr>\n",
              "    <tr>\n",
              "      <th>1</th>\n",
              "      <td>DRA12</td>\n",
              "      <td>BABATUNJI013</td>\n",
              "      <td>DRA12_BABATUNJI013</td>\n",
              "      <td>11.6</td>\n",
              "      <td>Low Sugar</td>\n",
              "      <td>0.040912</td>\n",
              "      <td>Soft Drinks</td>\n",
              "      <td>355.79</td>\n",
              "      <td>1994</td>\n",
              "      <td>High</td>\n",
              "      <td>Cluster 3</td>\n",
              "      <td>Supermarket Type1</td>\n",
              "      <td>6381.69</td>\n",
              "    </tr>\n",
              "    <tr>\n",
              "      <th>2</th>\n",
              "      <td>DRA12</td>\n",
              "      <td>BABATUNJI017</td>\n",
              "      <td>DRA12_BABATUNJI017</td>\n",
              "      <td>11.6</td>\n",
              "      <td>Low Sugar</td>\n",
              "      <td>0.041178</td>\n",
              "      <td>Soft Drinks</td>\n",
              "      <td>350.79</td>\n",
              "      <td>2014</td>\n",
              "      <td>NaN</td>\n",
              "      <td>Cluster 2</td>\n",
              "      <td>Supermarket Type1</td>\n",
              "      <td>6381.69</td>\n",
              "    </tr>\n",
              "    <tr>\n",
              "      <th>3</th>\n",
              "      <td>DRA12</td>\n",
              "      <td>BABATUNJI018</td>\n",
              "      <td>DRA12_BABATUNJI018</td>\n",
              "      <td>11.6</td>\n",
              "      <td>Low Sugar</td>\n",
              "      <td>0.041113</td>\n",
              "      <td>Soft Drinks</td>\n",
              "      <td>355.04</td>\n",
              "      <td>2016</td>\n",
              "      <td>Medium</td>\n",
              "      <td>Cluster 3</td>\n",
              "      <td>Supermarket Type2</td>\n",
              "      <td>2127.23</td>\n",
              "    </tr>\n",
              "    <tr>\n",
              "      <th>4</th>\n",
              "      <td>DRA12</td>\n",
              "      <td>BABATUNJI035</td>\n",
              "      <td>DRA12_BABATUNJI035</td>\n",
              "      <td>11.6</td>\n",
              "      <td>Ultra Low Sugar</td>\n",
              "      <td>0.000000</td>\n",
              "      <td>Soft Drinks</td>\n",
              "      <td>354.79</td>\n",
              "      <td>2011</td>\n",
              "      <td>Small</td>\n",
              "      <td>Cluster 2</td>\n",
              "      <td>Supermarket Type1</td>\n",
              "      <td>2481.77</td>\n",
              "    </tr>\n",
              "  </tbody>\n",
              "</table>\n",
              "</div>"
            ],
            "text/plain": [
              "  Item_ID      Store_ID  ...         Store_Type  Item_Store_Returns\n",
              "0   DRA12  BABATUNJI010  ...      Grocery Store              709.08\n",
              "1   DRA12  BABATUNJI013  ...  Supermarket Type1             6381.69\n",
              "2   DRA12  BABATUNJI017  ...  Supermarket Type1             6381.69\n",
              "3   DRA12  BABATUNJI018  ...  Supermarket Type2             2127.23\n",
              "4   DRA12  BABATUNJI035  ...  Supermarket Type1             2481.77\n",
              "\n",
              "[5 rows x 13 columns]"
            ]
          },
          "metadata": {
            "tags": []
          },
          "execution_count": 157
        }
      ]
    },
    {
      "cell_type": "code",
      "metadata": {
        "id": "fSqddPjuVYm7",
        "colab_type": "code",
        "colab": {
          "base_uri": "https://localhost:8080/",
          "height": 309
        },
        "outputId": "0004eb9c-8338-42c5-b3bf-af81d9767733"
      },
      "source": [
        "test.head()"
      ],
      "execution_count": null,
      "outputs": [
        {
          "output_type": "execute_result",
          "data": {
            "text/html": [
              "<div>\n",
              "<style scoped>\n",
              "    .dataframe tbody tr th:only-of-type {\n",
              "        vertical-align: middle;\n",
              "    }\n",
              "\n",
              "    .dataframe tbody tr th {\n",
              "        vertical-align: top;\n",
              "    }\n",
              "\n",
              "    .dataframe thead th {\n",
              "        text-align: right;\n",
              "    }\n",
              "</style>\n",
              "<table border=\"1\" class=\"dataframe\">\n",
              "  <thead>\n",
              "    <tr style=\"text-align: right;\">\n",
              "      <th></th>\n",
              "      <th>Item_ID</th>\n",
              "      <th>Store_ID</th>\n",
              "      <th>Item_Store_ID</th>\n",
              "      <th>Item_Weight</th>\n",
              "      <th>Item_Sugar_Content</th>\n",
              "      <th>Item_Visibility</th>\n",
              "      <th>Item_Type</th>\n",
              "      <th>Item_Price</th>\n",
              "      <th>Store_Start_Year</th>\n",
              "      <th>Store_Size</th>\n",
              "      <th>Store_Location_Type</th>\n",
              "      <th>Store_Type</th>\n",
              "    </tr>\n",
              "  </thead>\n",
              "  <tbody>\n",
              "    <tr>\n",
              "      <th>0</th>\n",
              "      <td>DRA59</td>\n",
              "      <td>BABATUNJI010</td>\n",
              "      <td>DRA59_BABATUNJI010</td>\n",
              "      <td>8.270</td>\n",
              "      <td>Normal Sugar</td>\n",
              "      <td>0.214125</td>\n",
              "      <td>Soft Drinks</td>\n",
              "      <td>459.98</td>\n",
              "      <td>2005</td>\n",
              "      <td>NaN</td>\n",
              "      <td>Cluster 3</td>\n",
              "      <td>Grocery Store</td>\n",
              "    </tr>\n",
              "    <tr>\n",
              "      <th>1</th>\n",
              "      <td>DRA59</td>\n",
              "      <td>BABATUNJI013</td>\n",
              "      <td>DRA59_BABATUNJI013</td>\n",
              "      <td>8.270</td>\n",
              "      <td>Normal Sugar</td>\n",
              "      <td>0.127821</td>\n",
              "      <td>Soft Drinks</td>\n",
              "      <td>464.98</td>\n",
              "      <td>1994</td>\n",
              "      <td>High</td>\n",
              "      <td>Cluster 3</td>\n",
              "      <td>Supermarket Type1</td>\n",
              "    </tr>\n",
              "    <tr>\n",
              "      <th>2</th>\n",
              "      <td>DRB01</td>\n",
              "      <td>BABATUNJI013</td>\n",
              "      <td>DRB01_BABATUNJI013</td>\n",
              "      <td>7.390</td>\n",
              "      <td>Low Sugar</td>\n",
              "      <td>0.082171</td>\n",
              "      <td>Soft Drinks</td>\n",
              "      <td>477.38</td>\n",
              "      <td>1994</td>\n",
              "      <td>High</td>\n",
              "      <td>Cluster 3</td>\n",
              "      <td>Supermarket Type1</td>\n",
              "    </tr>\n",
              "    <tr>\n",
              "      <th>3</th>\n",
              "      <td>DRB13</td>\n",
              "      <td>BABATUNJI010</td>\n",
              "      <td>DRB13_BABATUNJI010</td>\n",
              "      <td>6.115</td>\n",
              "      <td>Normal Sugar</td>\n",
              "      <td>0.011791</td>\n",
              "      <td>Soft Drinks</td>\n",
              "      <td>472.63</td>\n",
              "      <td>2005</td>\n",
              "      <td>NaN</td>\n",
              "      <td>Cluster 3</td>\n",
              "      <td>Grocery Store</td>\n",
              "    </tr>\n",
              "    <tr>\n",
              "      <th>4</th>\n",
              "      <td>DRB13</td>\n",
              "      <td>BABATUNJI013</td>\n",
              "      <td>DRB13_BABATUNJI013</td>\n",
              "      <td>6.115</td>\n",
              "      <td>Normal Sugar</td>\n",
              "      <td>0.007038</td>\n",
              "      <td>Soft Drinks</td>\n",
              "      <td>473.13</td>\n",
              "      <td>1994</td>\n",
              "      <td>High</td>\n",
              "      <td>Cluster 3</td>\n",
              "      <td>Supermarket Type1</td>\n",
              "    </tr>\n",
              "  </tbody>\n",
              "</table>\n",
              "</div>"
            ],
            "text/plain": [
              "  Item_ID      Store_ID  ... Store_Location_Type         Store_Type\n",
              "0   DRA59  BABATUNJI010  ...           Cluster 3      Grocery Store\n",
              "1   DRA59  BABATUNJI013  ...           Cluster 3  Supermarket Type1\n",
              "2   DRB01  BABATUNJI013  ...           Cluster 3  Supermarket Type1\n",
              "3   DRB13  BABATUNJI010  ...           Cluster 3      Grocery Store\n",
              "4   DRB13  BABATUNJI013  ...           Cluster 3  Supermarket Type1\n",
              "\n",
              "[5 rows x 12 columns]"
            ]
          },
          "metadata": {
            "tags": []
          },
          "execution_count": 158
        }
      ]
    },
    {
      "cell_type": "code",
      "metadata": {
        "id": "ilfC0W4x1gyb",
        "colab_type": "code",
        "colab": {
          "base_uri": "https://localhost:8080/",
          "height": 255
        },
        "outputId": "3c953ac4-ddb9-4082-dbe5-ee2048d6aa88"
      },
      "source": [
        "train.isnull().sum()"
      ],
      "execution_count": null,
      "outputs": [
        {
          "output_type": "execute_result",
          "data": {
            "text/plain": [
              "Item_ID                   0\n",
              "Store_ID                  0\n",
              "Item_Store_ID             0\n",
              "Item_Weight             802\n",
              "Item_Sugar_Content        0\n",
              "Item_Visibility           0\n",
              "Item_Type                 0\n",
              "Item_Price                0\n",
              "Store_Start_Year          0\n",
              "Store_Size             1450\n",
              "Store_Location_Type       0\n",
              "Store_Type                0\n",
              "Item_Store_Returns        0\n",
              "dtype: int64"
            ]
          },
          "metadata": {
            "tags": []
          },
          "execution_count": 159
        }
      ]
    },
    {
      "cell_type": "code",
      "metadata": {
        "id": "cDYigf181v4j",
        "colab_type": "code",
        "colab": {
          "base_uri": "https://localhost:8080/",
          "height": 238
        },
        "outputId": "de35537a-bedb-4edd-c3c0-5b6f92413657"
      },
      "source": [
        "test.isnull().sum()"
      ],
      "execution_count": null,
      "outputs": [
        {
          "output_type": "execute_result",
          "data": {
            "text/plain": [
              "Item_ID                  0\n",
              "Store_ID                 0\n",
              "Item_Store_ID            0\n",
              "Item_Weight            661\n",
              "Item_Sugar_Content       0\n",
              "Item_Visibility          0\n",
              "Item_Type                0\n",
              "Item_Price               0\n",
              "Store_Start_Year         0\n",
              "Store_Size             959\n",
              "Store_Location_Type      0\n",
              "Store_Type               0\n",
              "dtype: int64"
            ]
          },
          "metadata": {
            "tags": []
          },
          "execution_count": 160
        }
      ]
    },
    {
      "cell_type": "code",
      "metadata": {
        "id": "S-fzfsmxlUv9",
        "colab_type": "code",
        "colab": {}
      },
      "source": [
        "train['Item_Type_count']= train.groupby([\"Item_Type\"])[\"Item_Store_ID\"].transform(\"count\")\n",
        "test['Item_Type_count'] = test.groupby([\"Item_Type\"])[\"Item_Store_ID\"].transform(\"count\")\n",
        "\n",
        "train['Store_Size_count']= train.groupby([\"Store_Size\"])[\"Item_Store_ID\"].transform(\"count\")\n",
        "test['Store_Size_count'] = test.groupby([\"Store_Size\"])[\"Item_Store_ID\"].transform(\"count\")\n",
        "\n",
        "train['Store_Type_count']= train.groupby([\"Store_Type\"])[\"Item_Store_ID\"].transform(\"count\")\n",
        "test['Store_Type_count'] = test.groupby([\"Store_Type\"])[\"Item_Store_ID\"].transform(\"count\")"
      ],
      "execution_count": null,
      "outputs": []
    },
    {
      "cell_type": "code",
      "metadata": {
        "id": "JS0h1A3KxKgy",
        "colab_type": "code",
        "colab": {
          "base_uri": "https://localhost:8080/",
          "height": 309
        },
        "outputId": "2c359364-2541-4efd-aa62-49fbdd07f4ea"
      },
      "source": [
        "train.head()"
      ],
      "execution_count": null,
      "outputs": [
        {
          "output_type": "execute_result",
          "data": {
            "text/html": [
              "<div>\n",
              "<style scoped>\n",
              "    .dataframe tbody tr th:only-of-type {\n",
              "        vertical-align: middle;\n",
              "    }\n",
              "\n",
              "    .dataframe tbody tr th {\n",
              "        vertical-align: top;\n",
              "    }\n",
              "\n",
              "    .dataframe thead th {\n",
              "        text-align: right;\n",
              "    }\n",
              "</style>\n",
              "<table border=\"1\" class=\"dataframe\">\n",
              "  <thead>\n",
              "    <tr style=\"text-align: right;\">\n",
              "      <th></th>\n",
              "      <th>Item_ID</th>\n",
              "      <th>Store_ID</th>\n",
              "      <th>Item_Store_ID</th>\n",
              "      <th>Item_Weight</th>\n",
              "      <th>Item_Sugar_Content</th>\n",
              "      <th>Item_Visibility</th>\n",
              "      <th>Item_Type</th>\n",
              "      <th>Item_Price</th>\n",
              "      <th>Store_Start_Year</th>\n",
              "      <th>Store_Size</th>\n",
              "      <th>Store_Location_Type</th>\n",
              "      <th>Store_Type</th>\n",
              "      <th>Item_Store_Returns</th>\n",
              "      <th>Item_Type_count</th>\n",
              "      <th>Store_Size_count</th>\n",
              "      <th>Store_Type_count</th>\n",
              "    </tr>\n",
              "  </thead>\n",
              "  <tbody>\n",
              "    <tr>\n",
              "      <th>0</th>\n",
              "      <td>DRA12</td>\n",
              "      <td>BABATUNJI010</td>\n",
              "      <td>DRA12_BABATUNJI010</td>\n",
              "      <td>11.6</td>\n",
              "      <td>Low Sugar</td>\n",
              "      <td>0.068535</td>\n",
              "      <td>Soft Drinks</td>\n",
              "      <td>357.54</td>\n",
              "      <td>2005</td>\n",
              "      <td>NaN</td>\n",
              "      <td>Cluster 3</td>\n",
              "      <td>Grocery Store</td>\n",
              "      <td>709.08</td>\n",
              "      <td>261</td>\n",
              "      <td>NaN</td>\n",
              "      <td>724</td>\n",
              "    </tr>\n",
              "    <tr>\n",
              "      <th>1</th>\n",
              "      <td>DRA12</td>\n",
              "      <td>BABATUNJI013</td>\n",
              "      <td>DRA12_BABATUNJI013</td>\n",
              "      <td>11.6</td>\n",
              "      <td>Low Sugar</td>\n",
              "      <td>0.040912</td>\n",
              "      <td>Soft Drinks</td>\n",
              "      <td>355.79</td>\n",
              "      <td>1994</td>\n",
              "      <td>High</td>\n",
              "      <td>Cluster 3</td>\n",
              "      <td>Supermarket Type1</td>\n",
              "      <td>6381.69</td>\n",
              "      <td>261</td>\n",
              "      <td>594.0</td>\n",
              "      <td>3304</td>\n",
              "    </tr>\n",
              "    <tr>\n",
              "      <th>2</th>\n",
              "      <td>DRA12</td>\n",
              "      <td>BABATUNJI017</td>\n",
              "      <td>DRA12_BABATUNJI017</td>\n",
              "      <td>11.6</td>\n",
              "      <td>Low Sugar</td>\n",
              "      <td>0.041178</td>\n",
              "      <td>Soft Drinks</td>\n",
              "      <td>350.79</td>\n",
              "      <td>2014</td>\n",
              "      <td>NaN</td>\n",
              "      <td>Cluster 2</td>\n",
              "      <td>Supermarket Type1</td>\n",
              "      <td>6381.69</td>\n",
              "      <td>261</td>\n",
              "      <td>NaN</td>\n",
              "      <td>3304</td>\n",
              "    </tr>\n",
              "    <tr>\n",
              "      <th>3</th>\n",
              "      <td>DRA12</td>\n",
              "      <td>BABATUNJI018</td>\n",
              "      <td>DRA12_BABATUNJI018</td>\n",
              "      <td>11.6</td>\n",
              "      <td>Low Sugar</td>\n",
              "      <td>0.041113</td>\n",
              "      <td>Soft Drinks</td>\n",
              "      <td>355.04</td>\n",
              "      <td>2016</td>\n",
              "      <td>Medium</td>\n",
              "      <td>Cluster 3</td>\n",
              "      <td>Supermarket Type2</td>\n",
              "      <td>2127.23</td>\n",
              "      <td>261</td>\n",
              "      <td>1582.0</td>\n",
              "      <td>500</td>\n",
              "    </tr>\n",
              "    <tr>\n",
              "      <th>4</th>\n",
              "      <td>DRA12</td>\n",
              "      <td>BABATUNJI035</td>\n",
              "      <td>DRA12_BABATUNJI035</td>\n",
              "      <td>11.6</td>\n",
              "      <td>Ultra Low Sugar</td>\n",
              "      <td>0.000000</td>\n",
              "      <td>Soft Drinks</td>\n",
              "      <td>354.79</td>\n",
              "      <td>2011</td>\n",
              "      <td>Small</td>\n",
              "      <td>Cluster 2</td>\n",
              "      <td>Supermarket Type1</td>\n",
              "      <td>2481.77</td>\n",
              "      <td>261</td>\n",
              "      <td>1364.0</td>\n",
              "      <td>3304</td>\n",
              "    </tr>\n",
              "  </tbody>\n",
              "</table>\n",
              "</div>"
            ],
            "text/plain": [
              "  Item_ID      Store_ID  ... Store_Size_count  Store_Type_count\n",
              "0   DRA12  BABATUNJI010  ...              NaN               724\n",
              "1   DRA12  BABATUNJI013  ...            594.0              3304\n",
              "2   DRA12  BABATUNJI017  ...              NaN              3304\n",
              "3   DRA12  BABATUNJI018  ...           1582.0               500\n",
              "4   DRA12  BABATUNJI035  ...           1364.0              3304\n",
              "\n",
              "[5 rows x 16 columns]"
            ]
          },
          "metadata": {
            "tags": []
          },
          "execution_count": 162
        }
      ]
    },
    {
      "cell_type": "code",
      "metadata": {
        "id": "7H4fGZpWVCdg",
        "colab_type": "code",
        "colab": {}
      },
      "source": [
        "train['no_of_year_till_date'] = 2020 - train['Store_Start_Year']\n",
        "test['no_of_year_till_date'] = 2020 - test['Store_Start_Year']\n",
        "train = train.drop(['Store_Start_Year'], axis = 1)\n",
        "test = test.drop(['Store_Start_Year'], axis = 1)"
      ],
      "execution_count": null,
      "outputs": []
    },
    {
      "cell_type": "code",
      "metadata": {
        "id": "3qgWlm5tUd7e",
        "colab_type": "code",
        "colab": {}
      },
      "source": [
        "train = train.drop(['Item_ID','Store_ID'], axis = 1)\n",
        "test = test.drop(['Item_ID','Store_ID'], axis = 1)"
      ],
      "execution_count": null,
      "outputs": []
    },
    {
      "cell_type": "code",
      "metadata": {
        "id": "bZg4gutWcr4J",
        "colab_type": "code",
        "colab": {
          "base_uri": "https://localhost:8080/",
          "height": 34
        },
        "outputId": "83c560bd-0f14-4673-a52c-ea3f5406dae2"
      },
      "source": [
        "train.shape, test.shape"
      ],
      "execution_count": null,
      "outputs": [
        {
          "output_type": "execute_result",
          "data": {
            "text/plain": [
              "((4990, 14), (3532, 13))"
            ]
          },
          "metadata": {
            "tags": []
          },
          "execution_count": 165
        }
      ]
    },
    {
      "cell_type": "code",
      "metadata": {
        "id": "x9d51uJ0dUzx",
        "colab_type": "code",
        "colab": {
          "base_uri": "https://localhost:8080/",
          "height": 309
        },
        "outputId": "e3dfc4b5-cb87-459e-fe43-40a5455b5c1f"
      },
      "source": [
        "train.head()"
      ],
      "execution_count": null,
      "outputs": [
        {
          "output_type": "execute_result",
          "data": {
            "text/html": [
              "<div>\n",
              "<style scoped>\n",
              "    .dataframe tbody tr th:only-of-type {\n",
              "        vertical-align: middle;\n",
              "    }\n",
              "\n",
              "    .dataframe tbody tr th {\n",
              "        vertical-align: top;\n",
              "    }\n",
              "\n",
              "    .dataframe thead th {\n",
              "        text-align: right;\n",
              "    }\n",
              "</style>\n",
              "<table border=\"1\" class=\"dataframe\">\n",
              "  <thead>\n",
              "    <tr style=\"text-align: right;\">\n",
              "      <th></th>\n",
              "      <th>Item_Store_ID</th>\n",
              "      <th>Item_Weight</th>\n",
              "      <th>Item_Sugar_Content</th>\n",
              "      <th>Item_Visibility</th>\n",
              "      <th>Item_Type</th>\n",
              "      <th>Item_Price</th>\n",
              "      <th>Store_Size</th>\n",
              "      <th>Store_Location_Type</th>\n",
              "      <th>Store_Type</th>\n",
              "      <th>Item_Store_Returns</th>\n",
              "      <th>Item_Type_count</th>\n",
              "      <th>Store_Size_count</th>\n",
              "      <th>Store_Type_count</th>\n",
              "      <th>no_of_year_till_date</th>\n",
              "    </tr>\n",
              "  </thead>\n",
              "  <tbody>\n",
              "    <tr>\n",
              "      <th>0</th>\n",
              "      <td>DRA12_BABATUNJI010</td>\n",
              "      <td>11.6</td>\n",
              "      <td>Low Sugar</td>\n",
              "      <td>0.068535</td>\n",
              "      <td>Soft Drinks</td>\n",
              "      <td>357.54</td>\n",
              "      <td>NaN</td>\n",
              "      <td>Cluster 3</td>\n",
              "      <td>Grocery Store</td>\n",
              "      <td>709.08</td>\n",
              "      <td>261</td>\n",
              "      <td>NaN</td>\n",
              "      <td>724</td>\n",
              "      <td>15</td>\n",
              "    </tr>\n",
              "    <tr>\n",
              "      <th>1</th>\n",
              "      <td>DRA12_BABATUNJI013</td>\n",
              "      <td>11.6</td>\n",
              "      <td>Low Sugar</td>\n",
              "      <td>0.040912</td>\n",
              "      <td>Soft Drinks</td>\n",
              "      <td>355.79</td>\n",
              "      <td>High</td>\n",
              "      <td>Cluster 3</td>\n",
              "      <td>Supermarket Type1</td>\n",
              "      <td>6381.69</td>\n",
              "      <td>261</td>\n",
              "      <td>594.0</td>\n",
              "      <td>3304</td>\n",
              "      <td>26</td>\n",
              "    </tr>\n",
              "    <tr>\n",
              "      <th>2</th>\n",
              "      <td>DRA12_BABATUNJI017</td>\n",
              "      <td>11.6</td>\n",
              "      <td>Low Sugar</td>\n",
              "      <td>0.041178</td>\n",
              "      <td>Soft Drinks</td>\n",
              "      <td>350.79</td>\n",
              "      <td>NaN</td>\n",
              "      <td>Cluster 2</td>\n",
              "      <td>Supermarket Type1</td>\n",
              "      <td>6381.69</td>\n",
              "      <td>261</td>\n",
              "      <td>NaN</td>\n",
              "      <td>3304</td>\n",
              "      <td>6</td>\n",
              "    </tr>\n",
              "    <tr>\n",
              "      <th>3</th>\n",
              "      <td>DRA12_BABATUNJI018</td>\n",
              "      <td>11.6</td>\n",
              "      <td>Low Sugar</td>\n",
              "      <td>0.041113</td>\n",
              "      <td>Soft Drinks</td>\n",
              "      <td>355.04</td>\n",
              "      <td>Medium</td>\n",
              "      <td>Cluster 3</td>\n",
              "      <td>Supermarket Type2</td>\n",
              "      <td>2127.23</td>\n",
              "      <td>261</td>\n",
              "      <td>1582.0</td>\n",
              "      <td>500</td>\n",
              "      <td>4</td>\n",
              "    </tr>\n",
              "    <tr>\n",
              "      <th>4</th>\n",
              "      <td>DRA12_BABATUNJI035</td>\n",
              "      <td>11.6</td>\n",
              "      <td>Ultra Low Sugar</td>\n",
              "      <td>0.000000</td>\n",
              "      <td>Soft Drinks</td>\n",
              "      <td>354.79</td>\n",
              "      <td>Small</td>\n",
              "      <td>Cluster 2</td>\n",
              "      <td>Supermarket Type1</td>\n",
              "      <td>2481.77</td>\n",
              "      <td>261</td>\n",
              "      <td>1364.0</td>\n",
              "      <td>3304</td>\n",
              "      <td>9</td>\n",
              "    </tr>\n",
              "  </tbody>\n",
              "</table>\n",
              "</div>"
            ],
            "text/plain": [
              "        Item_Store_ID  Item_Weight  ... Store_Type_count  no_of_year_till_date\n",
              "0  DRA12_BABATUNJI010         11.6  ...              724                    15\n",
              "1  DRA12_BABATUNJI013         11.6  ...             3304                    26\n",
              "2  DRA12_BABATUNJI017         11.6  ...             3304                     6\n",
              "3  DRA12_BABATUNJI018         11.6  ...              500                     4\n",
              "4  DRA12_BABATUNJI035         11.6  ...             3304                     9\n",
              "\n",
              "[5 rows x 14 columns]"
            ]
          },
          "metadata": {
            "tags": []
          },
          "execution_count": 166
        }
      ]
    },
    {
      "cell_type": "code",
      "metadata": {
        "id": "K0QvytX_ddn-",
        "colab_type": "code",
        "colab": {
          "base_uri": "https://localhost:8080/",
          "height": 309
        },
        "outputId": "a0127788-9a43-42ed-83fd-235d97c96c9b"
      },
      "source": [
        "test.head()"
      ],
      "execution_count": null,
      "outputs": [
        {
          "output_type": "execute_result",
          "data": {
            "text/html": [
              "<div>\n",
              "<style scoped>\n",
              "    .dataframe tbody tr th:only-of-type {\n",
              "        vertical-align: middle;\n",
              "    }\n",
              "\n",
              "    .dataframe tbody tr th {\n",
              "        vertical-align: top;\n",
              "    }\n",
              "\n",
              "    .dataframe thead th {\n",
              "        text-align: right;\n",
              "    }\n",
              "</style>\n",
              "<table border=\"1\" class=\"dataframe\">\n",
              "  <thead>\n",
              "    <tr style=\"text-align: right;\">\n",
              "      <th></th>\n",
              "      <th>Item_Store_ID</th>\n",
              "      <th>Item_Weight</th>\n",
              "      <th>Item_Sugar_Content</th>\n",
              "      <th>Item_Visibility</th>\n",
              "      <th>Item_Type</th>\n",
              "      <th>Item_Price</th>\n",
              "      <th>Store_Size</th>\n",
              "      <th>Store_Location_Type</th>\n",
              "      <th>Store_Type</th>\n",
              "      <th>Item_Type_count</th>\n",
              "      <th>Store_Size_count</th>\n",
              "      <th>Store_Type_count</th>\n",
              "      <th>no_of_year_till_date</th>\n",
              "    </tr>\n",
              "  </thead>\n",
              "  <tbody>\n",
              "    <tr>\n",
              "      <th>0</th>\n",
              "      <td>DRA59_BABATUNJI010</td>\n",
              "      <td>8.270</td>\n",
              "      <td>Normal Sugar</td>\n",
              "      <td>0.214125</td>\n",
              "      <td>Soft Drinks</td>\n",
              "      <td>459.98</td>\n",
              "      <td>NaN</td>\n",
              "      <td>Cluster 3</td>\n",
              "      <td>Grocery Store</td>\n",
              "      <td>184</td>\n",
              "      <td>NaN</td>\n",
              "      <td>358</td>\n",
              "      <td>15</td>\n",
              "    </tr>\n",
              "    <tr>\n",
              "      <th>1</th>\n",
              "      <td>DRA59_BABATUNJI013</td>\n",
              "      <td>8.270</td>\n",
              "      <td>Normal Sugar</td>\n",
              "      <td>0.127821</td>\n",
              "      <td>Soft Drinks</td>\n",
              "      <td>464.98</td>\n",
              "      <td>High</td>\n",
              "      <td>Cluster 3</td>\n",
              "      <td>Supermarket Type1</td>\n",
              "      <td>184</td>\n",
              "      <td>338.0</td>\n",
              "      <td>2273</td>\n",
              "      <td>26</td>\n",
              "    </tr>\n",
              "    <tr>\n",
              "      <th>2</th>\n",
              "      <td>DRB01_BABATUNJI013</td>\n",
              "      <td>7.390</td>\n",
              "      <td>Low Sugar</td>\n",
              "      <td>0.082171</td>\n",
              "      <td>Soft Drinks</td>\n",
              "      <td>477.38</td>\n",
              "      <td>High</td>\n",
              "      <td>Cluster 3</td>\n",
              "      <td>Supermarket Type1</td>\n",
              "      <td>184</td>\n",
              "      <td>338.0</td>\n",
              "      <td>2273</td>\n",
              "      <td>26</td>\n",
              "    </tr>\n",
              "    <tr>\n",
              "      <th>3</th>\n",
              "      <td>DRB13_BABATUNJI010</td>\n",
              "      <td>6.115</td>\n",
              "      <td>Normal Sugar</td>\n",
              "      <td>0.011791</td>\n",
              "      <td>Soft Drinks</td>\n",
              "      <td>472.63</td>\n",
              "      <td>NaN</td>\n",
              "      <td>Cluster 3</td>\n",
              "      <td>Grocery Store</td>\n",
              "      <td>184</td>\n",
              "      <td>NaN</td>\n",
              "      <td>358</td>\n",
              "      <td>15</td>\n",
              "    </tr>\n",
              "    <tr>\n",
              "      <th>4</th>\n",
              "      <td>DRB13_BABATUNJI013</td>\n",
              "      <td>6.115</td>\n",
              "      <td>Normal Sugar</td>\n",
              "      <td>0.007038</td>\n",
              "      <td>Soft Drinks</td>\n",
              "      <td>473.13</td>\n",
              "      <td>High</td>\n",
              "      <td>Cluster 3</td>\n",
              "      <td>Supermarket Type1</td>\n",
              "      <td>184</td>\n",
              "      <td>338.0</td>\n",
              "      <td>2273</td>\n",
              "      <td>26</td>\n",
              "    </tr>\n",
              "  </tbody>\n",
              "</table>\n",
              "</div>"
            ],
            "text/plain": [
              "        Item_Store_ID  Item_Weight  ... Store_Type_count  no_of_year_till_date\n",
              "0  DRA59_BABATUNJI010        8.270  ...              358                    15\n",
              "1  DRA59_BABATUNJI013        8.270  ...             2273                    26\n",
              "2  DRB01_BABATUNJI013        7.390  ...             2273                    26\n",
              "3  DRB13_BABATUNJI010        6.115  ...              358                    15\n",
              "4  DRB13_BABATUNJI013        6.115  ...             2273                    26\n",
              "\n",
              "[5 rows x 13 columns]"
            ]
          },
          "metadata": {
            "tags": []
          },
          "execution_count": 167
        }
      ]
    },
    {
      "cell_type": "code",
      "metadata": {
        "id": "lV_nwWWLd9SF",
        "colab_type": "code",
        "colab": {
          "base_uri": "https://localhost:8080/",
          "height": 102
        },
        "outputId": "d0c6987b-d9c5-4fa5-fec2-9d0c391a6771"
      },
      "source": [
        "train.columns"
      ],
      "execution_count": null,
      "outputs": [
        {
          "output_type": "execute_result",
          "data": {
            "text/plain": [
              "Index(['Item_Store_ID', 'Item_Weight', 'Item_Sugar_Content', 'Item_Visibility',\n",
              "       'Item_Type', 'Item_Price', 'Store_Size', 'Store_Location_Type',\n",
              "       'Store_Type', 'Item_Store_Returns', 'Item_Type_count',\n",
              "       'Store_Size_count', 'Store_Type_count', 'no_of_year_till_date'],\n",
              "      dtype='object')"
            ]
          },
          "metadata": {
            "tags": []
          },
          "execution_count": 168
        }
      ]
    },
    {
      "cell_type": "code",
      "metadata": {
        "id": "K7clTo_YqfBa",
        "colab_type": "code",
        "colab": {
          "base_uri": "https://localhost:8080/",
          "height": 374
        },
        "outputId": "e3841d58-d2e8-45a7-c22a-a6e1794b972a"
      },
      "source": [
        "train.info()"
      ],
      "execution_count": null,
      "outputs": [
        {
          "output_type": "stream",
          "text": [
            "<class 'pandas.core.frame.DataFrame'>\n",
            "RangeIndex: 4990 entries, 0 to 4989\n",
            "Data columns (total 14 columns):\n",
            " #   Column                Non-Null Count  Dtype  \n",
            "---  ------                --------------  -----  \n",
            " 0   Item_Store_ID         4990 non-null   object \n",
            " 1   Item_Weight           4188 non-null   float64\n",
            " 2   Item_Sugar_Content    4990 non-null   object \n",
            " 3   Item_Visibility       4990 non-null   float64\n",
            " 4   Item_Type             4990 non-null   object \n",
            " 5   Item_Price            4990 non-null   float64\n",
            " 6   Store_Size            3540 non-null   object \n",
            " 7   Store_Location_Type   4990 non-null   object \n",
            " 8   Store_Type            4990 non-null   object \n",
            " 9   Item_Store_Returns    4990 non-null   float64\n",
            " 10  Item_Type_count       4990 non-null   int64  \n",
            " 11  Store_Size_count      3540 non-null   float64\n",
            " 12  Store_Type_count      4990 non-null   int64  \n",
            " 13  no_of_year_till_date  4990 non-null   int64  \n",
            "dtypes: float64(5), int64(3), object(6)\n",
            "memory usage: 545.9+ KB\n"
          ],
          "name": "stdout"
        }
      ]
    },
    {
      "cell_type": "code",
      "metadata": {
        "id": "kzJAJbiTON7M",
        "colab_type": "code",
        "colab": {}
      },
      "source": [
        "train = train.fillna(value=0)\n",
        "test = test.fillna(value=0)"
      ],
      "execution_count": null,
      "outputs": []
    },
    {
      "cell_type": "code",
      "metadata": {
        "id": "Zf0Oc3_BON25",
        "colab_type": "code",
        "colab": {}
      },
      "source": [
        "categorical_feats = [\n",
        "    f for f in train.columns if train[f].dtype == 'object']\n",
        "\n",
        "categorical_feats\n",
        "for f_ in categorical_feats:\n",
        "    \n",
        "    train[f_] = train[f_].astype('category').cat.codes"
      ],
      "execution_count": null,
      "outputs": []
    },
    {
      "cell_type": "code",
      "metadata": {
        "id": "2zpKJ8-8ONzf",
        "colab_type": "code",
        "colab": {}
      },
      "source": [
        "categorical_feats = [\n",
        "    f for f in test.columns if test[f].dtype == 'object']\n",
        "\n",
        "categorical_feats\n",
        "for f_ in categorical_feats:\n",
        "    \n",
        "    test[f_] = test[f_].astype('category').cat.codes"
      ],
      "execution_count": null,
      "outputs": []
    },
    {
      "cell_type": "code",
      "metadata": {
        "id": "CYNluNALONvP",
        "colab_type": "code",
        "colab": {
          "base_uri": "https://localhost:8080/",
          "height": 224
        },
        "outputId": "fcc9e77c-0006-4d61-9a6e-cbf2f865276e"
      },
      "source": [
        "train.head()"
      ],
      "execution_count": null,
      "outputs": [
        {
          "output_type": "execute_result",
          "data": {
            "text/html": [
              "<div>\n",
              "<style scoped>\n",
              "    .dataframe tbody tr th:only-of-type {\n",
              "        vertical-align: middle;\n",
              "    }\n",
              "\n",
              "    .dataframe tbody tr th {\n",
              "        vertical-align: top;\n",
              "    }\n",
              "\n",
              "    .dataframe thead th {\n",
              "        text-align: right;\n",
              "    }\n",
              "</style>\n",
              "<table border=\"1\" class=\"dataframe\">\n",
              "  <thead>\n",
              "    <tr style=\"text-align: right;\">\n",
              "      <th></th>\n",
              "      <th>Item_Store_ID</th>\n",
              "      <th>Item_Weight</th>\n",
              "      <th>Item_Sugar_Content</th>\n",
              "      <th>Item_Visibility</th>\n",
              "      <th>Item_Type</th>\n",
              "      <th>Item_Price</th>\n",
              "      <th>Store_Size</th>\n",
              "      <th>Store_Location_Type</th>\n",
              "      <th>Store_Type</th>\n",
              "      <th>Item_Store_Returns</th>\n",
              "      <th>Item_Type_count</th>\n",
              "      <th>Store_Size_count</th>\n",
              "      <th>Store_Type_count</th>\n",
              "      <th>no_of_year_till_date</th>\n",
              "    </tr>\n",
              "  </thead>\n",
              "  <tbody>\n",
              "    <tr>\n",
              "      <th>0</th>\n",
              "      <td>0</td>\n",
              "      <td>11.6</td>\n",
              "      <td>0</td>\n",
              "      <td>0.068535</td>\n",
              "      <td>14</td>\n",
              "      <td>357.54</td>\n",
              "      <td>0</td>\n",
              "      <td>2</td>\n",
              "      <td>0</td>\n",
              "      <td>709.08</td>\n",
              "      <td>261</td>\n",
              "      <td>0.0</td>\n",
              "      <td>724</td>\n",
              "      <td>15</td>\n",
              "    </tr>\n",
              "    <tr>\n",
              "      <th>1</th>\n",
              "      <td>1</td>\n",
              "      <td>11.6</td>\n",
              "      <td>0</td>\n",
              "      <td>0.040912</td>\n",
              "      <td>14</td>\n",
              "      <td>355.79</td>\n",
              "      <td>1</td>\n",
              "      <td>2</td>\n",
              "      <td>1</td>\n",
              "      <td>6381.69</td>\n",
              "      <td>261</td>\n",
              "      <td>594.0</td>\n",
              "      <td>3304</td>\n",
              "      <td>26</td>\n",
              "    </tr>\n",
              "    <tr>\n",
              "      <th>2</th>\n",
              "      <td>2</td>\n",
              "      <td>11.6</td>\n",
              "      <td>0</td>\n",
              "      <td>0.041178</td>\n",
              "      <td>14</td>\n",
              "      <td>350.79</td>\n",
              "      <td>0</td>\n",
              "      <td>1</td>\n",
              "      <td>1</td>\n",
              "      <td>6381.69</td>\n",
              "      <td>261</td>\n",
              "      <td>0.0</td>\n",
              "      <td>3304</td>\n",
              "      <td>6</td>\n",
              "    </tr>\n",
              "    <tr>\n",
              "      <th>3</th>\n",
              "      <td>3</td>\n",
              "      <td>11.6</td>\n",
              "      <td>0</td>\n",
              "      <td>0.041113</td>\n",
              "      <td>14</td>\n",
              "      <td>355.04</td>\n",
              "      <td>2</td>\n",
              "      <td>2</td>\n",
              "      <td>2</td>\n",
              "      <td>2127.23</td>\n",
              "      <td>261</td>\n",
              "      <td>1582.0</td>\n",
              "      <td>500</td>\n",
              "      <td>4</td>\n",
              "    </tr>\n",
              "    <tr>\n",
              "      <th>4</th>\n",
              "      <td>4</td>\n",
              "      <td>11.6</td>\n",
              "      <td>2</td>\n",
              "      <td>0.000000</td>\n",
              "      <td>14</td>\n",
              "      <td>354.79</td>\n",
              "      <td>3</td>\n",
              "      <td>1</td>\n",
              "      <td>1</td>\n",
              "      <td>2481.77</td>\n",
              "      <td>261</td>\n",
              "      <td>1364.0</td>\n",
              "      <td>3304</td>\n",
              "      <td>9</td>\n",
              "    </tr>\n",
              "  </tbody>\n",
              "</table>\n",
              "</div>"
            ],
            "text/plain": [
              "   Item_Store_ID  Item_Weight  ...  Store_Type_count  no_of_year_till_date\n",
              "0              0         11.6  ...               724                    15\n",
              "1              1         11.6  ...              3304                    26\n",
              "2              2         11.6  ...              3304                     6\n",
              "3              3         11.6  ...               500                     4\n",
              "4              4         11.6  ...              3304                     9\n",
              "\n",
              "[5 rows x 14 columns]"
            ]
          },
          "metadata": {
            "tags": []
          },
          "execution_count": 173
        }
      ]
    },
    {
      "cell_type": "code",
      "metadata": {
        "id": "dB9FaHz2R3df",
        "colab_type": "code",
        "colab": {}
      },
      "source": [
        "test_id = test['Item_Store_ID']"
      ],
      "execution_count": null,
      "outputs": []
    },
    {
      "cell_type": "code",
      "metadata": {
        "id": "-mX_e-ZzR89q",
        "colab_type": "code",
        "colab": {}
      },
      "source": [
        "test = test.drop(['Item_Store_ID'],axis =1)"
      ],
      "execution_count": null,
      "outputs": []
    },
    {
      "cell_type": "code",
      "metadata": {
        "id": "JCC-mtVCO6Rk",
        "colab_type": "code",
        "colab": {}
      },
      "source": [
        "X=train.drop(['Item_Store_Returns','Item_Store_ID'], axis=1)\n",
        "y= train.Item_Store_Returns"
      ],
      "execution_count": null,
      "outputs": []
    },
    {
      "cell_type": "code",
      "metadata": {
        "id": "P9IOYprIO6sm",
        "colab_type": "code",
        "colab": {}
      },
      "source": [
        " import numpy as np\n",
        "import os, random, math, glob\n",
        "from IPython.display import Image as IM\n",
        "from IPython.display import clear_output\n",
        "from matplotlib import pyplot as plt\n",
        "import time\n",
        "from sklearn.model_selection import StratifiedKFold\n",
        "from sklearn.preprocessing import StandardScaler\n",
        "import seaborn as sns\n",
        "import warnings\n",
        "warnings.filterwarnings('ignore')"
      ],
      "execution_count": null,
      "outputs": []
    },
    {
      "cell_type": "code",
      "metadata": {
        "id": "OM-m_ms5UB0h",
        "colab_type": "code",
        "colab": {}
      },
      "source": [
        "from sklearn.model_selection import train_test_split\n",
        "X_train, X_val, y_train, y_val = train_test_split(X, y, train_size=0.7, random_state=1234)"
      ],
      "execution_count": null,
      "outputs": []
    },
    {
      "cell_type": "code",
      "metadata": {
        "id": "IbjeZdZVUGkW",
        "colab_type": "code",
        "colab": {
          "base_uri": "https://localhost:8080/",
          "height": 34
        },
        "outputId": "ba5043ec-d829-4cda-9240-33a1562070e7"
      },
      "source": [
        "categorical_features_indices = np.where(X.dtypes != np.float)[0]; categorical_features_indices"
      ],
      "execution_count": null,
      "outputs": [
        {
          "output_type": "execute_result",
          "data": {
            "text/plain": [
              "array([ 1,  3,  5,  6,  7,  8, 10, 11])"
            ]
          },
          "metadata": {
            "tags": []
          },
          "execution_count": 179
        }
      ]
    },
    {
      "cell_type": "code",
      "metadata": {
        "id": "UdJQneRsUTqL",
        "colab_type": "code",
        "colab": {
          "base_uri": "https://localhost:8080/",
          "height": 442
        },
        "outputId": "30256800-161c-44d0-a3a6-5181a5e77507"
      },
      "source": [
        "from sklearn.metrics import mean_squared_error\n",
        "from lightgbm import LGBMRegressor\n",
        "from math import sqrt\n",
        "from sklearn.model_selection import GridSearchCV\n",
        "error_test=[]\n",
        "from sklearn.model_selection import KFold,StratifiedKFold, TimeSeriesSplit\n",
        "fold=KFold(n_splits=5, random_state=42)\n",
        "y_pred_error=[]\n",
        "for train_index, test_index in fold.split(X,y):\n",
        "    X_train, X_val = X.iloc[train_index], X.iloc[test_index]\n",
        "    y_train, y_val = y.iloc[train_index], y.iloc[test_index]\n",
        "    \n",
        "    model=LGBMRegressor(n_estimators=1000,eval_metric='RMSE',reg_lambda=3,depth=4,learning_rate=0.21202)\n",
        "    model.fit(X_train,y_train,eval_set=[(X_train,y_train),(X_val, y_val)], early_stopping_rounds=200,verbose=100)\n",
        "    preds=model.predict(X_val)\n",
        "    error_test.append(sqrt(mean_squared_error(y_val,preds)))\n",
        "    pred = model.predict(test)\n",
        "    y_pred_error.append(pred)"
      ],
      "execution_count": null,
      "outputs": [
        {
          "output_type": "stream",
          "text": [
            "Training until validation scores don't improve for 200 rounds.\n",
            "[100]\ttraining's l2: 3.75648e+06\tvalid_1's l2: 9.79743e+06\n",
            "[200]\ttraining's l2: 2.41659e+06\tvalid_1's l2: 1.04263e+07\n",
            "Early stopping, best iteration is:\n",
            "[10]\ttraining's l2: 7.47326e+06\tvalid_1's l2: 8.67061e+06\n",
            "Training until validation scores don't improve for 200 rounds.\n",
            "[100]\ttraining's l2: 3.72069e+06\tvalid_1's l2: 1.07265e+07\n",
            "[200]\ttraining's l2: 2.29421e+06\tvalid_1's l2: 1.13693e+07\n",
            "Early stopping, best iteration is:\n",
            "[9]\ttraining's l2: 7.37649e+06\tvalid_1's l2: 9.69434e+06\n",
            "Training until validation scores don't improve for 200 rounds.\n",
            "[100]\ttraining's l2: 3.7124e+06\tvalid_1's l2: 1.00597e+07\n",
            "[200]\ttraining's l2: 2.30266e+06\tvalid_1's l2: 1.09683e+07\n",
            "Early stopping, best iteration is:\n",
            "[17]\ttraining's l2: 6.64998e+06\tvalid_1's l2: 9.05364e+06\n",
            "Training until validation scores don't improve for 200 rounds.\n",
            "[100]\ttraining's l2: 3.78967e+06\tvalid_1's l2: 9.67231e+06\n",
            "[200]\ttraining's l2: 2.40601e+06\tvalid_1's l2: 1.01058e+07\n",
            "Early stopping, best iteration is:\n",
            "[14]\ttraining's l2: 6.8942e+06\tvalid_1's l2: 8.99073e+06\n",
            "Training until validation scores don't improve for 200 rounds.\n",
            "[100]\ttraining's l2: 3.91692e+06\tvalid_1's l2: 8.46624e+06\n",
            "[200]\ttraining's l2: 2.4543e+06\tvalid_1's l2: 8.92038e+06\n",
            "Early stopping, best iteration is:\n",
            "[12]\ttraining's l2: 7.55103e+06\tvalid_1's l2: 7.465e+06\n"
          ],
          "name": "stdout"
        }
      ]
    },
    {
      "cell_type": "code",
      "metadata": {
        "id": "cJOzzT4eVdgF",
        "colab_type": "code",
        "colab": {}
      },
      "source": [
        "sub_id = sub['Item_Store_ID']"
      ],
      "execution_count": null,
      "outputs": []
    },
    {
      "cell_type": "code",
      "metadata": {
        "id": "PRlUi-uHVF7O",
        "colab_type": "code",
        "colab": {}
      },
      "source": [
        "sub['Item_Store_ID'] = sub_id\n",
        "sub['Item_Store_Returns'] = np.mean(y_pred_error, 0)"
      ],
      "execution_count": null,
      "outputs": []
    },
    {
      "cell_type": "code",
      "metadata": {
        "id": "nBW7aY77VlUo",
        "colab_type": "code",
        "colab": {
          "base_uri": "https://localhost:8080/",
          "height": 204
        },
        "outputId": "e3eac532-c320-4308-a8fb-c1fe25263d82"
      },
      "source": [
        "sub.head()"
      ],
      "execution_count": null,
      "outputs": [
        {
          "output_type": "execute_result",
          "data": {
            "text/html": [
              "<div>\n",
              "<style scoped>\n",
              "    .dataframe tbody tr th:only-of-type {\n",
              "        vertical-align: middle;\n",
              "    }\n",
              "\n",
              "    .dataframe tbody tr th {\n",
              "        vertical-align: top;\n",
              "    }\n",
              "\n",
              "    .dataframe thead th {\n",
              "        text-align: right;\n",
              "    }\n",
              "</style>\n",
              "<table border=\"1\" class=\"dataframe\">\n",
              "  <thead>\n",
              "    <tr style=\"text-align: right;\">\n",
              "      <th></th>\n",
              "      <th>Item_Store_ID</th>\n",
              "      <th>Item_Store_Returns</th>\n",
              "    </tr>\n",
              "  </thead>\n",
              "  <tbody>\n",
              "    <tr>\n",
              "      <th>0</th>\n",
              "      <td>DRA59_BABATUNJI010</td>\n",
              "      <td>1676.353543</td>\n",
              "    </tr>\n",
              "    <tr>\n",
              "      <th>1</th>\n",
              "      <td>DRA59_BABATUNJI013</td>\n",
              "      <td>7521.955408</td>\n",
              "    </tr>\n",
              "    <tr>\n",
              "      <th>2</th>\n",
              "      <td>DRB01_BABATUNJI013</td>\n",
              "      <td>7354.947330</td>\n",
              "    </tr>\n",
              "    <tr>\n",
              "      <th>3</th>\n",
              "      <td>DRB13_BABATUNJI010</td>\n",
              "      <td>1517.498157</td>\n",
              "    </tr>\n",
              "    <tr>\n",
              "      <th>4</th>\n",
              "      <td>DRB13_BABATUNJI013</td>\n",
              "      <td>7390.739611</td>\n",
              "    </tr>\n",
              "  </tbody>\n",
              "</table>\n",
              "</div>"
            ],
            "text/plain": [
              "        Item_Store_ID  Item_Store_Returns\n",
              "0  DRA59_BABATUNJI010         1676.353543\n",
              "1  DRA59_BABATUNJI013         7521.955408\n",
              "2  DRB01_BABATUNJI013         7354.947330\n",
              "3  DRB13_BABATUNJI010         1517.498157\n",
              "4  DRB13_BABATUNJI013         7390.739611"
            ]
          },
          "metadata": {
            "tags": []
          },
          "execution_count": 204
        }
      ]
    },
    {
      "cell_type": "code",
      "metadata": {
        "id": "zCr5Sy_DVqiP",
        "colab_type": "code",
        "colab": {}
      },
      "source": [
        "sub.to_csv(\"store_sub.csv\",index =False)"
      ],
      "execution_count": null,
      "outputs": []
    },
    {
      "cell_type": "code",
      "metadata": {
        "id": "Cbz7P480O6h-",
        "colab_type": "code",
        "colab": {
          "base_uri": "https://localhost:8080/",
          "height": 450
        },
        "outputId": "3f6efcde-36d6-4206-97e6-cd1f19abc74e"
      },
      "source": [
        "fea_imp = pd.DataFrame({'imp':model.feature_importances_, 'col': X.columns})\n",
        "fea_imp = fea_imp.sort_values(['imp', 'col'], ascending=[True, False]).iloc[-30:]\n",
        "_ = fea_imp.plot(kind='barh', x='col', y='imp', figsize=(20, 10))\n",
        "plt.savefig('catboost_feature_importance.png')    "
      ],
      "execution_count": null,
      "outputs": [
        {
          "output_type": "display_data",
          "data": {
            "image/png": "[encoded data removed]",
            "text/plain": [
              "<Figure size 1440x720 with 1 Axes>"
            ]
          },
          "metadata": {
            "tags": [],
            "needs_background": "light"
          }
        }
      ]
    },
    {
      "cell_type": "code",
      "metadata": {
        "id": "jwgcYoGHiUyQ",
        "colab_type": "code",
        "colab": {}
      },
      "source": [
        ""
      ],
      "execution_count": null,
      "outputs": []
    },
    {
      "cell_type": "code",
      "metadata": {
        "id": "yWWO4aSyiUtM",
        "colab_type": "code",
        "colab": {}
      },
      "source": [
        ""
      ],
      "execution_count": null,
      "outputs": []
    },
    {
      "cell_type": "markdown",
      "metadata": {
        "id": "TtwEIodDer1H",
        "colab_type": "text"
      },
      "source": [
        "#Lgbm bayesian Optimization:"
      ]
    },
    {
      "cell_type": "code",
      "metadata": {
        "id": "z3k5Ms5xez68",
        "colab_type": "code",
        "colab": {}
      },
      "source": [
        "!pip install bayesian-optimization"
      ],
      "execution_count": null,
      "outputs": []
    },
    {
      "cell_type": "code",
      "metadata": {
        "id": "qXDaFyD8encb",
        "colab_type": "code",
        "colab": {}
      },
      "source": [
        "import lightgbm as lgb\n",
        "import xgboost as xgb\n",
        "from bayes_opt import BayesianOptimization\n",
        "from sklearn.metrics import r2_score,mean_squared_error\n",
        "import warnings\n",
        "warnings.filterwarnings('ignore')"
      ],
      "execution_count": null,
      "outputs": []
    },
    {
      "cell_type": "code",
      "metadata": {
        "id": "CA6dAty6eiIk",
        "colab_type": "code",
        "colab": {
          "base_uri": "https://localhost:8080/",
          "height": 323
        },
        "outputId": "27643a32-8e87-4132-cc76-cd67f8b78660"
      },
      "source": [
        "def bayesion_opt_lgbm(X, y, init_iter=3, n_iters=7, random_state=11, seed = 101, num_iterations = 100):\n",
        "  dtrain = lgb.Dataset(data=X, label=y)\n",
        "  def lgb_mse(preds, dtrain):\n",
        "      labels = dtrain.get_label()\n",
        "      return 'mse', mean_squared_error(labels, preds), True\n",
        "  # Objective Function\n",
        "  def hyp_lgbm(num_leaves, feature_fraction, bagging_fraction, max_depth, min_split_gain, min_child_weight):\n",
        "        \n",
        "          params = {'application':'regression','num_iterations': num_iterations,\n",
        "                    'learning_rate':0.21202, 'early_stopping_round':50,\n",
        "                    'metric':'lgb_mse'} # Default parameters\n",
        "          params[\"num_leaves\"] = int(round(num_leaves))\n",
        "          params['feature_fraction'] = max(min(feature_fraction, 1), 0)\n",
        "          params['bagging_fraction'] = max(min(bagging_fraction, 1), 0)\n",
        "          params['max_depth'] = int(round(max_depth))\n",
        "          params['min_split_gain'] = min_split_gain\n",
        "          params['min_child_weight'] = min_child_weight\n",
        "          cv_results = lgb.cv(params, dtrain, nfold=5, seed=seed,categorical_feature=[], stratified=False,\n",
        "                              verbose_eval =None, feval=lgb_mse)\n",
        "          # print(cv_results)\n",
        "          return np.max(cv_results['mse-mean'])\n",
        "  # Domain space-- Range of hyperparameters \n",
        "  pds = {'num_leaves': (80, 100),\n",
        "            'feature_fraction': (0.1, 0.9),\n",
        "            'bagging_fraction': (0.8, 1),\n",
        "            'max_depth': (17, 25),\n",
        "            'min_split_gain': (0.001, 0.1),\n",
        "            'min_child_weight': (10, 25)\n",
        "            }\n",
        "\n",
        "  # Surrogate model\n",
        "  optimizer = BayesianOptimization(hyp_lgbm, pds, random_state=random_state)\n",
        "                                    \n",
        "  # Optimize\n",
        "  optimizer.maximize(init_points=init_iter, n_iter=n_iters)\n",
        "\n",
        "bayesion_opt_lgbm(X, y, init_iter=5, n_iters=10, random_state=77, seed = 101, num_iterations = 1000)"
      ],
      "execution_count": null,
      "outputs": [
        {
          "output_type": "stream",
          "text": [
            "|   iter    |  target   | baggin... | featur... | max_depth | min_ch... | min_sp... | num_le... |\n",
            "-------------------------------------------------------------------------------------------------\n",
            "| \u001b[0m 1       \u001b[0m | \u001b[0m 1.634e+0\u001b[0m | \u001b[0m 0.9838  \u001b[0m | \u001b[0m 0.6138  \u001b[0m | \u001b[0m 23.03   \u001b[0m | \u001b[0m 12.09   \u001b[0m | \u001b[0m 0.009645\u001b[0m | \u001b[0m 95.76   \u001b[0m |\n",
            "| \u001b[0m 2       \u001b[0m | \u001b[0m 1.634e+0\u001b[0m | \u001b[0m 0.8652  \u001b[0m | \u001b[0m 0.5329  \u001b[0m | \u001b[0m 18.92   \u001b[0m | \u001b[0m 18.18   \u001b[0m | \u001b[0m 0.04065 \u001b[0m | \u001b[0m 94.3    \u001b[0m |\n",
            "| \u001b[95m 3       \u001b[0m | \u001b[95m 1.635e+0\u001b[0m | \u001b[95m 0.9673  \u001b[0m | \u001b[95m 0.5708  \u001b[0m | \u001b[95m 19.37   \u001b[0m | \u001b[95m 14.22   \u001b[0m | \u001b[95m 0.07085 \u001b[0m | \u001b[95m 88.45   \u001b[0m |\n",
            "| \u001b[95m 4       \u001b[0m | \u001b[95m 1.635e+0\u001b[0m | \u001b[95m 0.8115  \u001b[0m | \u001b[95m 0.6976  \u001b[0m | \u001b[95m 20.62   \u001b[0m | \u001b[95m 12.64   \u001b[0m | \u001b[95m 0.005888\u001b[0m | \u001b[95m 85.85   \u001b[0m |\n",
            "| \u001b[0m 5       \u001b[0m | \u001b[0m 1.634e+0\u001b[0m | \u001b[0m 0.8134  \u001b[0m | \u001b[0m 0.7009  \u001b[0m | \u001b[0m 17.51   \u001b[0m | \u001b[0m 16.48   \u001b[0m | \u001b[0m 0.03705 \u001b[0m | \u001b[0m 83.04   \u001b[0m |\n",
            "| \u001b[0m 6       \u001b[0m | \u001b[0m 1.635e+0\u001b[0m | \u001b[0m 0.8259  \u001b[0m | \u001b[0m 0.6859  \u001b[0m | \u001b[0m 20.55   \u001b[0m | \u001b[0m 12.73   \u001b[0m | \u001b[0m 0.01155 \u001b[0m | \u001b[0m 86.12   \u001b[0m |\n",
            "| \u001b[0m 7       \u001b[0m | \u001b[0m 1.635e+0\u001b[0m | \u001b[0m 0.8183  \u001b[0m | \u001b[0m 0.692   \u001b[0m | \u001b[0m 20.59   \u001b[0m | \u001b[0m 12.67   \u001b[0m | \u001b[0m 0.008653\u001b[0m | \u001b[0m 85.99   \u001b[0m |\n",
            "| \u001b[0m 8       \u001b[0m | \u001b[0m 1.635e+0\u001b[0m | \u001b[0m 0.824   \u001b[0m | \u001b[0m 0.6892  \u001b[0m | \u001b[0m 20.44   \u001b[0m | \u001b[0m 12.84   \u001b[0m | \u001b[0m 0.008947\u001b[0m | \u001b[0m 85.92   \u001b[0m |\n",
            "| \u001b[0m 9       \u001b[0m | \u001b[0m 1.635e+0\u001b[0m | \u001b[0m 0.8211  \u001b[0m | \u001b[0m 0.6904  \u001b[0m | \u001b[0m 20.51   \u001b[0m | \u001b[0m 12.76   \u001b[0m | \u001b[0m 0.008689\u001b[0m | \u001b[0m 85.95   \u001b[0m |\n",
            "| \u001b[0m 10      \u001b[0m | \u001b[0m 1.635e+0\u001b[0m | \u001b[0m 0.8335  \u001b[0m | \u001b[0m 0.6925  \u001b[0m | \u001b[0m 20.44   \u001b[0m | \u001b[0m 12.82   \u001b[0m | \u001b[0m 0.01723 \u001b[0m | \u001b[0m 86.06   \u001b[0m |\n",
            "| \u001b[0m 11      \u001b[0m | \u001b[0m 1.635e+0\u001b[0m | \u001b[0m 0.8205  \u001b[0m | \u001b[0m 0.6813  \u001b[0m | \u001b[0m 20.5    \u001b[0m | \u001b[0m 12.8    \u001b[0m | \u001b[0m 0.001   \u001b[0m | \u001b[0m 86.07   \u001b[0m |\n",
            "| \u001b[0m 12      \u001b[0m | \u001b[0m 1.635e+0\u001b[0m | \u001b[0m 0.8319  \u001b[0m | \u001b[0m 0.6884  \u001b[0m | \u001b[0m 20.49   \u001b[0m | \u001b[0m 12.77   \u001b[0m | \u001b[0m 0.02278 \u001b[0m | \u001b[0m 86.05   \u001b[0m |\n",
            "| \u001b[0m 13      \u001b[0m | \u001b[0m 1.635e+0\u001b[0m | \u001b[0m 0.815   \u001b[0m | \u001b[0m 0.7229  \u001b[0m | \u001b[0m 20.5    \u001b[0m | \u001b[0m 12.73   \u001b[0m | \u001b[0m 0.001   \u001b[0m | \u001b[0m 86.08   \u001b[0m |\n",
            "| \u001b[0m 14      \u001b[0m | \u001b[0m 1.635e+0\u001b[0m | \u001b[0m 0.8375  \u001b[0m | \u001b[0m 0.6864  \u001b[0m | \u001b[0m 20.48   \u001b[0m | \u001b[0m 12.76   \u001b[0m | \u001b[0m 0.001   \u001b[0m | \u001b[0m 86.07   \u001b[0m |\n",
            "| \u001b[0m 15      \u001b[0m | \u001b[0m 1.635e+0\u001b[0m | \u001b[0m 0.8104  \u001b[0m | \u001b[0m 0.7123  \u001b[0m | \u001b[0m 20.58   \u001b[0m | \u001b[0m 12.68   \u001b[0m | \u001b[0m 0.001   \u001b[0m | \u001b[0m 85.88   \u001b[0m |\n",
            "=================================================================================================\n"
          ],
          "name": "stdout"
        }
      ]
    }
  ]
}