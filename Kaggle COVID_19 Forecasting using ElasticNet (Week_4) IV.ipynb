{
  "nbformat": 4,
  "nbformat_minor": 0,
  "metadata": {
    "colab": {
      "name": "Kaggle COVID-19 Forecasting using ElasticNet(Week 4) III.ipynb",
      "provenance": [],
      "collapsed_sections": [],
      "authorship_tag": "ABX9TyNsBEH4StWABVKwWZeDMSNv",
      "include_colab_link": true
    },
    "kernelspec": {
      "name": "python3",
      "display_name": "Python 3"
    }
  },
  "cells": [
    {
      "cell_type": "markdown",
      "metadata": {
        "id": "view-in-github",
        "colab_type": "text"
      },
      "source": [
        "<a href=\"https://colab.research.google.com/github/Adeyinka-hub/MY-MACHINE-LEARNING-AND-DEEP-LEARNING-WORKS-ON-KAGGLE-AND-ZINDI-RESPECTIVELY/blob/master/Kaggle%20COVID_19%20Forecasting%20using%20ElasticNet%20(Week_4)%20IV.ipynb\" target=\"_parent\"><img src=\"https://colab.research.google.com/assets/colab-badge.svg\" alt=\"Open In Colab\"/></a>"
      ]
    },
    {
      "cell_type": "markdown",
      "metadata": {
        "id": "8Kc9cw-j6kdo",
        "colab_type": "text"
      },
      "source": [
        "#COVID-19 Forecasting using ElasticNet"
      ]
    },
    {
      "cell_type": "markdown",
      "metadata": {
        "id": "0CiFXDCFA119",
        "colab_type": "text"
      },
      "source": [
        "**Importing Libraries**"
      ]
    },
    {
      "cell_type": "code",
      "metadata": {
        "id": "szU5UiuI5QEf",
        "colab_type": "code",
        "colab": {}
      },
      "source": [
        "%matplotlib inline\n",
        "import warnings\n",
        "warnings.filterwarnings(\"ignore\")\n",
        "import matplotlib.pyplot as plt\n",
        "from sklearn.metrics import mean_squared_error\n",
        "from sklearn import metrics\n",
        "from sklearn.linear_model import ElasticNet\n",
        "from sklearn.model_selection import RandomizedSearchCV\n",
        "import pickle\n",
        "from sklearn.model_selection import train_test_split\n",
        "from tqdm import tqdm\n",
        "from sklearn.utils import shuffle\n",
        "import numpy as np # linear algebra\n",
        "import pandas as pd # data processing, CSV file I/O (e.g. pd.read_csv)\n",
        "import os"
      ],
      "execution_count": null,
      "outputs": []
    },
    {
      "cell_type": "code",
      "metadata": {
        "id": "UvGeJdls6yJx",
        "colab_type": "code",
        "colab": {}
      },
      "source": [
        "df=pd.read_csv(\"train.csv\")\n",
        "test=pd.read_csv(\"test.csv\")\n",
        "submission = pd.read_csv(\"submission.csv\")"
      ],
      "execution_count": null,
      "outputs": []
    },
    {
      "cell_type": "code",
      "metadata": {
        "id": "dbiPyt3a7Xtl",
        "colab_type": "code",
        "colab": {
          "base_uri": "https://localhost:8080/",
          "height": 141
        },
        "outputId": "b1219ef1-a090-4a33-a061-7c014cf19f6c"
      },
      "source": [
        "print(df.shape,\"\\n\",df.head())"
      ],
      "execution_count": null,
      "outputs": [
        {
          "output_type": "stream",
          "text": [
            "(25353, 6) \n",
            "    Id Province_State Country_Region        Date  ConfirmedCases  Fatalities\n",
            "0   1            NaN    Afghanistan  2020-01-22             0.0         0.0\n",
            "1   2            NaN    Afghanistan  2020-01-23             0.0         0.0\n",
            "2   3            NaN    Afghanistan  2020-01-24             0.0         0.0\n",
            "3   4            NaN    Afghanistan  2020-01-25             0.0         0.0\n",
            "4   5            NaN    Afghanistan  2020-01-26             0.0         0.0\n"
          ],
          "name": "stdout"
        }
      ]
    },
    {
      "cell_type": "markdown",
      "metadata": {
        "id": "IxcHHsii7d7Y",
        "colab_type": "text"
      },
      "source": [
        "**Note: Some countries where the provinces are not mentioned can be replaced .And some data preprocessing.**"
      ]
    },
    {
      "cell_type": "code",
      "metadata": {
        "id": "ZwOhl7TD7kE5",
        "colab_type": "code",
        "colab": {
          "base_uri": "https://localhost:8080/",
          "height": 141
        },
        "outputId": "eb40c54f-f19a-4d2f-a126-27503d5f4dfd"
      },
      "source": [
        "df[\"Province_State\"].fillna(\"state\", inplace = True)    \n",
        "df[\"Country_Region\"] = [country_name.replace(\"'\",\"\") for country_name in df[\"Country_Region\"]]\n",
        "print(df.shape,\"\\n\",df.head())"
      ],
      "execution_count": null,
      "outputs": [
        {
          "output_type": "stream",
          "text": [
            "(25353, 6) \n",
            "    Id Province_State Country_Region        Date  ConfirmedCases  Fatalities\n",
            "0   1          state    Afghanistan  2020-01-22             0.0         0.0\n",
            "1   2          state    Afghanistan  2020-01-23             0.0         0.0\n",
            "2   3          state    Afghanistan  2020-01-24             0.0         0.0\n",
            "3   4          state    Afghanistan  2020-01-25             0.0         0.0\n",
            "4   5          state    Afghanistan  2020-01-26             0.0         0.0\n"
          ],
          "name": "stdout"
        }
      ]
    },
    {
      "cell_type": "markdown",
      "metadata": {
        "id": "Gyqdf6dv7uPz",
        "colab_type": "text"
      },
      "source": [
        "**Dataset preparation**\n",
        "\n",
        "Considering the past 7 days data to forecast the cases and fatalities on the 8th day."
      ]
    },
    {
      "cell_type": "code",
      "metadata": {
        "id": "8Qhdip2r7ow0",
        "colab_type": "code",
        "colab": {}
      },
      "source": [
        "data=[]\n",
        "countries=df.Country_Region.unique()\n",
        "for country in countries:\n",
        "    provinces=df[df.Country_Region==country].Province_State.unique()\n",
        "    for province in provinces:\n",
        "        temp_df=df[(df['Country_Region'] == country) & (df['Province_State']==province)]\n",
        "        for i in range(0,74):\n",
        "            Iday1=float(temp_df.iloc[i].ConfirmedCases)\n",
        "            Iday2=float(temp_df.iloc[i+1].ConfirmedCases)\n",
        "            Iday3=float(temp_df.iloc[i+2].ConfirmedCases)\n",
        "            Iday4=float(temp_df.iloc[i+3].ConfirmedCases)\n",
        "            Iday5=float(temp_df.iloc[i+4].ConfirmedCases)\n",
        "            Iday6=float(temp_df.iloc[i+5].ConfirmedCases)\n",
        "            Iday7=float(temp_df.iloc[i+6].ConfirmedCases)\n",
        "            Fday1=float(temp_df.iloc[i].Fatalities)\n",
        "            Fday2=float(temp_df.iloc[i+1].Fatalities)\n",
        "            Fday3=float(temp_df.iloc[i+2].Fatalities)\n",
        "            Fday4=float(temp_df.iloc[i+3].Fatalities)\n",
        "            Fday5=float(temp_df.iloc[i+4].Fatalities)\n",
        "            Fday6=float(temp_df.iloc[i+5].Fatalities)\n",
        "            Fday7=float(temp_df.iloc[i+6].Fatalities)\n",
        "            target_infection=float(temp_df.iloc[i+7].ConfirmedCases)\n",
        "            target_fatal=float(temp_df.iloc[i+7].Fatalities)\n",
        "            data.append({\"Iday1\":Iday1,\"Iday2\":Iday2,\"Iday3\":Iday3,\"Iday4\":\n",
        "                         Iday4,\"Iday5\":Iday5,\n",
        "                         \"Iday6\":Iday6,\"Iday7\":Iday7,\"Fday1\":Fday1,\"Fday2\":\n",
        "                         Fday2,\"Fday3\":Fday3,\n",
        "                         \n",
        "                         \"Fday4\":Fday4,\"Fday5\":Fday5,\"Fday6\":Fday6,\"Fday7\":Fday7,\n",
        "                         \"target_infection\":target_infection,\"target_fatal\":target_fatal})        "
      ],
      "execution_count": null,
      "outputs": []
    },
    {
      "cell_type": "code",
      "metadata": {
        "id": "0b9yWXzM8Aei",
        "colab_type": "code",
        "colab": {
          "base_uri": "https://localhost:8080/",
          "height": 354
        },
        "outputId": "ccccdab2-f476-4545-b5a2-99a4d622a190"
      },
      "source": [
        "new_data=pd.DataFrame(data)\n",
        "print(\"The shape of new dataFrame:\",new_data.shape,\"\\nThe columns are:\",new_data.columns)\n",
        "print(new_data.head(-5))"
      ],
      "execution_count": null,
      "outputs": [
        {
          "output_type": "stream",
          "text": [
            "The shape of new dataFrame: (23162, 16) \n",
            "The columns are: Index(['Iday1', 'Iday2', 'Iday3', 'Iday4', 'Iday5', 'Iday6', 'Iday7', 'Fday1',\n",
            "       'Fday2', 'Fday3', 'Fday4', 'Fday5', 'Fday6', 'Fday7',\n",
            "       'target_infection', 'target_fatal'],\n",
            "      dtype='object')\n",
            "       Iday1  Iday2  Iday3  Iday4  ...  Fday6  Fday7  target_infection  target_fatal\n",
            "0        0.0    0.0    0.0    0.0  ...    0.0    0.0               0.0           0.0\n",
            "1        0.0    0.0    0.0    0.0  ...    0.0    0.0               0.0           0.0\n",
            "2        0.0    0.0    0.0    0.0  ...    0.0    0.0               0.0           0.0\n",
            "3        0.0    0.0    0.0    0.0  ...    0.0    0.0               0.0           0.0\n",
            "4        0.0    0.0    0.0    0.0  ...    0.0    0.0               0.0           0.0\n",
            "...      ...    ...    ...    ...  ...    ...    ...               ...           ...\n",
            "23152    3.0    5.0    7.0    7.0  ...    1.0    1.0               9.0           1.0\n",
            "23153    5.0    7.0    7.0    7.0  ...    1.0    1.0               9.0           1.0\n",
            "23154    7.0    7.0    7.0    8.0  ...    1.0    1.0               9.0           1.0\n",
            "23155    7.0    7.0    8.0    8.0  ...    1.0    1.0               9.0           1.0\n",
            "23156    7.0    8.0    8.0    9.0  ...    1.0    1.0              10.0           1.0\n",
            "\n",
            "[23157 rows x 16 columns]\n"
          ],
          "name": "stdout"
        }
      ]
    },
    {
      "cell_type": "markdown",
      "metadata": {
        "id": "VwCRPlvW9gLF",
        "colab_type": "text"
      },
      "source": [
        "#Splitting the data into Train and test data"
      ]
    },
    {
      "cell_type": "code",
      "metadata": {
        "id": "cnRDonxJ9iKn",
        "colab_type": "code",
        "colab": {
          "base_uri": "https://localhost:8080/",
          "height": 87
        },
        "outputId": "736562cd-8e88-4175-9904-aa38465b1754"
      },
      "source": [
        "X_y=shuffle(new_data)\n",
        "y_cases=X_y['target_infection']\n",
        "y_fatal=X_y['target_fatal']\n",
        "X=X_y.drop(['target_infection','target_fatal'],axis=1)\n",
        "X_train_cases, X_test_cases, y_train_cases, y_test_cases = train_test_split(X, y_cases, test_size=0.33)\n",
        "X_train_fatal, X_test_fatal, y_train_fatal, y_test_fatal = train_test_split(X, y_fatal, test_size=0.33)\n",
        "print(\"Shape of infection train dataset:\",(X_train_cases.shape,y_train_cases.shape))\n",
        "print(\"Shape of infection test dataset:\",(X_test_cases.shape,y_test_cases.shape))\n",
        "print(\"Shape of fatal train dataset:\",(X_train_fatal.shape,y_train_fatal.shape))\n",
        "print(\"Shape of fatal test dataset:\",(X_test_fatal.shape,y_test_fatal.shape))"
      ],
      "execution_count": null,
      "outputs": [
        {
          "output_type": "stream",
          "text": [
            "Shape of infection train dataset: ((15518, 14), (15518,))\n",
            "Shape of infection test dataset: ((7644, 14), (7644,))\n",
            "Shape of fatal train dataset: ((15518, 14), (15518,))\n",
            "Shape of fatal test dataset: ((7644, 14), (7644,))\n"
          ],
          "name": "stdout"
        }
      ]
    },
    {
      "cell_type": "markdown",
      "metadata": {
        "id": "sGoPA94p9r1e",
        "colab_type": "text"
      },
      "source": [
        "#Training the Infection data using Elastic Net"
      ]
    },
    {
      "cell_type": "markdown",
      "metadata": {
        "id": "fTwCgl6K9xFP",
        "colab_type": "text"
      },
      "source": [
        "RandomSearch is been done to find out the best parameter.\n",
        "\n",
        "Note:Scaling didn't yield good output hence proceeded with the original data"
      ]
    },
    {
      "cell_type": "code",
      "metadata": {
        "id": "ja3S199Y9opf",
        "colab_type": "code",
        "colab": {}
      },
      "source": [
        "reg_case=ElasticNet(random_state=42,l1_ratio=0.1,max_iter=2200)\n",
        "params = [{'alpha': [10**-4,10**-3, 10**-2,10**-1, 10**0,10**1, 10**2,10**3,10**4]}]\n",
        "clf = RandomizedSearchCV(reg_case, params, cv=4, scoring='neg_root_mean_squared_error',return_train_score=True)\n",
        "search=clf.fit(X_train_cases, y_train_cases)\n",
        "results = pd.DataFrame.from_dict(clf.cv_results_)"
      ],
      "execution_count": null,
      "outputs": []
    },
    {
      "cell_type": "code",
      "metadata": {
        "id": "XVCyUV7I97e7",
        "colab_type": "code",
        "colab": {
          "base_uri": "https://localhost:8080/",
          "height": 70
        },
        "outputId": "ca7c638b-d02c-4d48-c6aa-ebd5794bc4dc"
      },
      "source": [
        "best_alpha=10\n",
        "best_itr=2400\n",
        "final_reg_case=ElasticNet(random_state=42,alpha=best_alpha,l1_ratio=0.1,max_iter=best_itr)\n",
        "final_reg_case.fit(X_train_cases,y_train_cases)"
      ],
      "execution_count": null,
      "outputs": [
        {
          "output_type": "execute_result",
          "data": {
            "text/plain": [
              "ElasticNet(alpha=10, copy_X=True, fit_intercept=True, l1_ratio=0.1,\n",
              "           max_iter=2400, normalize=False, positive=False, precompute=False,\n",
              "           random_state=42, selection='cyclic', tol=0.0001, warm_start=False)"
            ]
          },
          "metadata": {
            "tags": []
          },
          "execution_count": 11
        }
      ]
    },
    {
      "cell_type": "markdown",
      "metadata": {
        "id": "GlcnetIj-BGh",
        "colab_type": "text"
      },
      "source": [
        "**Calculating the Root mean squared value.**\n",
        "\n",
        "**Since the data isn't noramlized we get a large value.**"
      ]
    },
    {
      "cell_type": "code",
      "metadata": {
        "id": "Fb0Hf7oX-Q7g",
        "colab_type": "code",
        "colab": {
          "base_uri": "https://localhost:8080/",
          "height": 34
        },
        "outputId": "c1aac80c-39d0-4a15-d791-7e9e6932d4e2"
      },
      "source": [
        "pred=final_reg_case.predict(X_test_cases)\n",
        "print(\"The RMSE value\",(mean_squared_error(y_test_cases,pred))**0.5)"
      ],
      "execution_count": null,
      "outputs": [
        {
          "output_type": "stream",
          "text": [
            "The RMSE value 219.5493640396012\n"
          ],
          "name": "stdout"
        }
      ]
    },
    {
      "cell_type": "markdown",
      "metadata": {
        "id": "dhYy_Fb1-cdh",
        "colab_type": "text"
      },
      "source": [
        "**Training the fatality data.**\n",
        "\n",
        "The same procedure is been followed on this data also"
      ]
    },
    {
      "cell_type": "code",
      "metadata": {
        "id": "KKVv5rLQ-bqC",
        "colab_type": "code",
        "colab": {}
      },
      "source": [
        "reg_fatal=ElasticNet(random_state=42,l1_ratio=0.1,max_iter=3500)\n",
        "params = [{'alpha': [10**-4,10**-3, 10**-2,10**-1, 10**0,10**1, 10**2,10**3,10**4]}]\n",
        "clf = RandomizedSearchCV(reg_fatal, params, cv=4, scoring='neg_root_mean_squared_error',return_train_score=True)\n",
        "search=clf.fit(X_train_fatal, y_train_fatal)\n",
        "results = pd.DataFrame.from_dict(clf.cv_results_)"
      ],
      "execution_count": null,
      "outputs": []
    },
    {
      "cell_type": "code",
      "metadata": {
        "id": "OJqktzfC-nCn",
        "colab_type": "code",
        "colab": {
          "base_uri": "https://localhost:8080/",
          "height": 70
        },
        "outputId": "8d4970f4-f6d9-459b-87ba-08c9d45cd9d7"
      },
      "source": [
        "best_alpha=100\n",
        "best_iter=3500\n",
        "final_reg_fatal = ElasticNet(random_state=42,alpha=best_alpha,l1_ratio=0.1,max_iter=best_iter)\n",
        "final_reg_fatal.fit(X_train_fatal, y_train_fatal)"
      ],
      "execution_count": null,
      "outputs": [
        {
          "output_type": "execute_result",
          "data": {
            "text/plain": [
              "ElasticNet(alpha=100, copy_X=True, fit_intercept=True, l1_ratio=0.1,\n",
              "           max_iter=3500, normalize=False, positive=False, precompute=False,\n",
              "           random_state=42, selection='cyclic', tol=0.0001, warm_start=False)"
            ]
          },
          "metadata": {
            "tags": []
          },
          "execution_count": 14
        }
      ]
    },
    {
      "cell_type": "code",
      "metadata": {
        "id": "CrsThGX0-q8N",
        "colab_type": "code",
        "colab": {
          "base_uri": "https://localhost:8080/",
          "height": 34
        },
        "outputId": "6d7b09da-a48a-4181-cd0e-b11739ca8d45"
      },
      "source": [
        "pred=final_reg_fatal.predict(X_test_fatal)\n",
        "print(\"The RMSE value\",(mean_squared_error(y_test_fatal,pred))**0.5)"
      ],
      "execution_count": null,
      "outputs": [
        {
          "output_type": "stream",
          "text": [
            "The RMSE value 17.33542326659928\n"
          ],
          "name": "stdout"
        }
      ]
    },
    {
      "cell_type": "markdown",
      "metadata": {
        "id": "oXdbVRrG-vHN",
        "colab_type": "text"
      },
      "source": [
        "**Featurization**\n",
        "\n",
        "Considering the fact that the number of cases on a given day is influenced by the ratio of cases in the two previous days.Taking this into account we create two new features 'iratio' and 'fratio'"
      ]
    },
    {
      "cell_type": "code",
      "metadata": {
        "id": "3n2oCJQ5-1VP",
        "colab_type": "code",
        "colab": {}
      },
      "source": [
        "data=[]\n",
        "countries=df.Country_Region.unique()\n",
        "for country in countries:\n",
        "    provinces=df[df.Country_Region==country].Province_State.unique()\n",
        "    for province in provinces:\n",
        "        temp_df=df[(df['Country_Region'] == country) & (df['Province_State']==province)]\n",
        "        for i in range(0,74):\n",
        "            Iday1=float(temp_df.iloc[i].ConfirmedCases)\n",
        "            Iday2=float(temp_df.iloc[i+1].ConfirmedCases)\n",
        "            Iday3=float(temp_df.iloc[i+2].ConfirmedCases)\n",
        "            Iday4=float(temp_df.iloc[i+3].ConfirmedCases)\n",
        "            Iday5=float(temp_df.iloc[i+4].ConfirmedCases)\n",
        "            Iday6=float(temp_df.iloc[i+5].ConfirmedCases)\n",
        "            Iday7=float(temp_df.iloc[i+6].ConfirmedCases)\n",
        "            Fday1=float(temp_df.iloc[i].Fatalities)\n",
        "            Fday2=float(temp_df.iloc[i+1].Fatalities)\n",
        "            Fday3=float(temp_df.iloc[i+2].Fatalities)\n",
        "            Fday4=float(temp_df.iloc[i+3].Fatalities)\n",
        "            Fday5=float(temp_df.iloc[i+4].Fatalities)\n",
        "            Fday6=float(temp_df.iloc[i+5].Fatalities)\n",
        "            Fday7=float(temp_df.iloc[i+6].Fatalities)\n",
        "            if Iday6==0 :\n",
        "                iavg=1\n",
        "            else:\n",
        "                iavg=Iday7/(Iday6)\n",
        "            if Fday6==0:\n",
        "                favg=1\n",
        "            else:    \n",
        "                favg=Fday7/(Fday6)        \n",
        "            target_infection=float(temp_df.iloc[i+7].ConfirmedCases)\n",
        "            target_fatal=float(temp_df.iloc[i+7].Fatalities)\n",
        "            data.append({\"Iday1\":Iday1,\"Iday2\":Iday2,\"Iday3\":Iday3,\"Iday4\":Iday4,\"Iday5\":Iday5,\n",
        "                         \"Iday6\":Iday6,\"Iday7\":Iday7,\"Fday1\":Fday1,\"Fday2\":Fday2,\"Fday3\":Fday3,\n",
        "                         \"Fday4\":Fday4,\"Fday5\":Fday5,\"Fday6\":Fday6,\"Fday7\":Fday7,'iratio':iavg,\"fratio\":favg,\"target_infection\":target_infection,\"target_fatal\":target_fatal})        "
      ],
      "execution_count": null,
      "outputs": []
    },
    {
      "cell_type": "markdown",
      "metadata": {
        "id": "AZoOX0fR_FZq",
        "colab_type": "text"
      },
      "source": [
        "**All other procedures remain the same**"
      ]
    },
    {
      "cell_type": "code",
      "metadata": {
        "id": "DwRXny_d_IHH",
        "colab_type": "code",
        "colab": {
          "base_uri": "https://localhost:8080/",
          "height": 87
        },
        "outputId": "1aa091ce-7e53-4ca0-a768-7490287aed16"
      },
      "source": [
        "featured=pd.DataFrame(data)\n",
        "X_y_f=shuffle(featured)\n",
        "y_cases_f=X_y_f['target_infection']\n",
        "y_fatal_f=X_y_f['target_fatal']\n",
        "X_f=X_y_f.drop(['target_infection','target_fatal'],axis=1)\n",
        "X_train_cases_f, X_test_cases_f, y_train_cases_f, y_test_cases_f = train_test_split(X_f, y_cases_f, test_size=0.33)\n",
        "X_train_fatal_f, X_test_fatal_f, y_train_fatal_f, y_test_fatal_f = train_test_split(X_f, y_fatal_f, test_size=0.33)\n",
        "print(\"Shape of featurized infection train dataset:\",(X_train_cases_f.shape,y_train_cases_f.shape))\n",
        "print(\"Shape of featurized infection test dataset:\",(X_test_cases_f.shape,y_test_cases_f.shape))\n",
        "print(\"Shape of featurized fatal train dataset:\",(X_train_fatal_f.shape,y_train_fatal_f.shape))\n",
        "print(\"Shape of featurized fatal test dataset:\",(X_test_fatal_f.shape,y_test_fatal_f.shape))"
      ],
      "execution_count": null,
      "outputs": [
        {
          "output_type": "stream",
          "text": [
            "Shape of featurized infection train dataset: ((15518, 16), (15518,))\n",
            "Shape of featurized infection test dataset: ((7644, 16), (7644,))\n",
            "Shape of featurized fatal train dataset: ((15518, 16), (15518,))\n",
            "Shape of featurized fatal test dataset: ((7644, 16), (7644,))\n"
          ],
          "name": "stdout"
        }
      ]
    },
    {
      "cell_type": "code",
      "metadata": {
        "id": "hyBbuQPF_Lpj",
        "colab_type": "code",
        "colab": {}
      },
      "source": [
        "reg_case_f=ElasticNet(random_state=42,l1_ratio=0.1,max_iter=2200)\n",
        "params = [{'alpha': [10**-4,10**-3, 10**-2,10**-1, 10**0,10**1, 10**2,10**3,10**4]}]\n",
        "clf_f= RandomizedSearchCV(reg_case_f, params, cv=4, scoring='neg_root_mean_squared_error',return_train_score=True)\n",
        "search_f=clf_f.fit(X_train_cases_f, y_train_cases_f)\n",
        "results_f = pd.DataFrame.from_dict(clf_f.cv_results_)"
      ],
      "execution_count": null,
      "outputs": []
    },
    {
      "cell_type": "code",
      "metadata": {
        "id": "tpYDNr_h_PtG",
        "colab_type": "code",
        "colab": {
          "base_uri": "https://localhost:8080/",
          "height": 70
        },
        "outputId": "d2f5d140-3059-4867-cb8a-c141d9f190f5"
      },
      "source": [
        "best_alpha=10000\n",
        "best_itr=4200\n",
        "final_reg_case_f=ElasticNet(random_state=42,alpha=best_alpha,l1_ratio=0.1,max_iter=best_itr)\n",
        "final_reg_case_f.fit(X_train_cases_f,y_train_cases_f)"
      ],
      "execution_count": null,
      "outputs": [
        {
          "output_type": "execute_result",
          "data": {
            "text/plain": [
              "ElasticNet(alpha=10000, copy_X=True, fit_intercept=True, l1_ratio=0.1,\n",
              "           max_iter=4200, normalize=False, positive=False, precompute=False,\n",
              "           random_state=42, selection='cyclic', tol=0.0001, warm_start=False)"
            ]
          },
          "metadata": {
            "tags": []
          },
          "execution_count": 19
        }
      ]
    },
    {
      "cell_type": "code",
      "metadata": {
        "id": "_qqM4tO3_XWn",
        "colab_type": "code",
        "colab": {
          "base_uri": "https://localhost:8080/",
          "height": 34
        },
        "outputId": "395adfab-44fa-40b6-f46b-418efaf20328"
      },
      "source": [
        "pred_f=final_reg_case_f.predict(X_test_cases_f)\n",
        "print(\"RMSE is:\",(mean_squared_error(y_test_cases_f,pred_f))**0.5)"
      ],
      "execution_count": null,
      "outputs": [
        {
          "output_type": "stream",
          "text": [
            "RMSE is: 168.51287039410292\n"
          ],
          "name": "stdout"
        }
      ]
    },
    {
      "cell_type": "code",
      "metadata": {
        "id": "sdxJAeSr_cJq",
        "colab_type": "code",
        "colab": {}
      },
      "source": [
        "reg_fatal_f=ElasticNet(random_state=42,alpha=best_alpha,l1_ratio=0.1,max_iter=2200)\n",
        "params = [{'alpha': [10**-4,10**-3, 10**-2,10**-1, 10**0,10**1, 10**2,10**3,10**4]}]\n",
        "clf_f= RandomizedSearchCV(reg_fatal_f, params, cv=4, scoring='neg_root_mean_squared_error',return_train_score=True)\n",
        "search_f=clf_f.fit(X_train_fatal_f, y_train_fatal_f)\n",
        "results_f = pd.DataFrame.from_dict(clf_f.cv_results_)"
      ],
      "execution_count": null,
      "outputs": []
    },
    {
      "cell_type": "code",
      "metadata": {
        "id": "38tb-ISD_eWM",
        "colab_type": "code",
        "colab": {
          "base_uri": "https://localhost:8080/",
          "height": 70
        },
        "outputId": "936146c5-64aa-4e0f-e65e-4b4b64d3f5ef"
      },
      "source": [
        "best_alpha=100\n",
        "best_itr=2400\n",
        "final_reg_fatal_f=ElasticNet(random_state=42,alpha=best_alpha,l1_ratio=0.1,max_iter=best_itr)\n",
        "final_reg_fatal_f.fit(X_train_fatal_f,y_train_fatal_f)"
      ],
      "execution_count": null,
      "outputs": [
        {
          "output_type": "execute_result",
          "data": {
            "text/plain": [
              "ElasticNet(alpha=100, copy_X=True, fit_intercept=True, l1_ratio=0.1,\n",
              "           max_iter=2400, normalize=False, positive=False, precompute=False,\n",
              "           random_state=42, selection='cyclic', tol=0.0001, warm_start=False)"
            ]
          },
          "metadata": {
            "tags": []
          },
          "execution_count": 22
        }
      ]
    },
    {
      "cell_type": "code",
      "metadata": {
        "id": "tPlyKwyj_lXi",
        "colab_type": "code",
        "colab": {
          "base_uri": "https://localhost:8080/",
          "height": 34
        },
        "outputId": "fe779c5f-1e17-466c-8c97-fa2845278b7e"
      },
      "source": [
        "pred_f=final_reg_fatal_f.predict(X_test_fatal_f)\n",
        "print(\"RMSE is:\",(mean_squared_error(y_test_fatal_f,pred_f))**0.5)"
      ],
      "execution_count": null,
      "outputs": [
        {
          "output_type": "stream",
          "text": [
            "RMSE is: 15.737933698293167\n"
          ],
          "name": "stdout"
        }
      ]
    },
    {
      "cell_type": "markdown",
      "metadata": {
        "id": "N9oQkMub_p1J",
        "colab_type": "text"
      },
      "source": [
        "**Forecasting the number of cases and fatalities**"
      ]
    },
    {
      "cell_type": "code",
      "metadata": {
        "id": "0XrqH9N6_sSY",
        "colab_type": "code",
        "colab": {}
      },
      "source": [
        "test[\"Province_State\"].fillna(\"state\", inplace = True)    \n",
        "test[\"Country_Region\"] = [country_name.replace(\"'\",\"\") for country_name in test[\"Country_Region\"]]"
      ],
      "execution_count": null,
      "outputs": []
    },
    {
      "cell_type": "markdown",
      "metadata": {
        "id": "8QHCJgcq_2DM",
        "colab_type": "text"
      },
      "source": [
        "**Method used:**\n",
        "\n",
        "1)Intialize the list with the data of previous seven days and predict the value for the next day.\n",
        "\n",
        "2)Append this value to the list and use this updated list's latest data to predict the next one.(So on........)"
      ]
    },
    {
      "cell_type": "code",
      "metadata": {
        "id": "Yj3Ld-kg_w33",
        "colab_type": "code",
        "colab": {}
      },
      "source": [
        "import math\n",
        "import random\n",
        "predicted_case=[]\n",
        "predicted_fatal=[]\n",
        "countries=df.Country_Region.unique()\n",
        "for country in countries:\n",
        "    provinces=df[df.Country_Region==country].Province_State.unique()\n",
        "    for province in provinces:\n",
        "        temp_df=df[(df['Country_Region'] == country) & (df['Province_State']==province)&(df['Date']>='2020-04-02')]\n",
        "        ongoingCases=list(temp_df.ConfirmedCases.values)\n",
        "        ongoingFatal=list(temp_df.Fatalities.values)\n",
        "        predicted_case.extend(ongoingCases)\n",
        "        predicted_fatal.extend(ongoingFatal)\n",
        "        for _ in range(1,34):  \n",
        "            if ongoingCases[-2]==0:\n",
        "                iavg=ongoingCases[-1]\n",
        "            else:\n",
        "                iavg=ongoingCases[-1]/ongoingCases[-2]\n",
        "            if ongoingFatal[-2]==0:\n",
        "                favg=ongoingFatal[-1]\n",
        "            else:    \n",
        "                favg=ongoingFatal[-1]/ongoingFatal[-2]\n",
        "            point=ongoingCases[len(ongoingCases)-7:]+ongoingFatal[len(ongoingFatal)-7:]+[iavg,favg]\n",
        "            # print(point)\n",
        "            # print()\n",
        "            randF=random.random()\n",
        "            randI=random.random()\n",
        "            predC=final_reg_case_f.predict([point])\n",
        "            predF=final_reg_fatal_f.predict([point])\n",
        "            predicted_case.append(int(predC[0]-(randI*predC[0]*0.002)))\n",
        "            predicted_fatal.append(abs(int(predF[0]-(randF*predF[0]*0.0005))))\n",
        "            ongoingCases.append(predC[0]-(randI*predC[0]*0.002))\n",
        "            ongoingFatal.append(abs(predF[0]-(randF*predF[0]*0.0005)))    "
      ],
      "execution_count": null,
      "outputs": []
    },
    {
      "cell_type": "markdown",
      "metadata": {
        "id": "wIgT-7htAVEu",
        "colab_type": "text"
      },
      "source": [
        "#Updating the values in the test data"
      ]
    },
    {
      "cell_type": "code",
      "metadata": {
        "id": "y_ZP-7wuARoW",
        "colab_type": "code",
        "colab": {}
      },
      "source": [
        "test['ConfirmedCases']=list(map(int,predicted_case))\n",
        "test['Fatalities']=list(map(int,predicted_fatal))"
      ],
      "execution_count": null,
      "outputs": []
    },
    {
      "cell_type": "code",
      "metadata": {
        "id": "NjCJGWoiAe7J",
        "colab_type": "code",
        "colab": {}
      },
      "source": [
        "submission_file=test[['ForecastId','ConfirmedCases','Fatalities']]\n",
        "submission_file=shuffle(submission_file)\n",
        "submission_file.to_csv(\"submission_convid19.csv\",index=False)"
      ],
      "execution_count": null,
      "outputs": []
    }
  ]
}