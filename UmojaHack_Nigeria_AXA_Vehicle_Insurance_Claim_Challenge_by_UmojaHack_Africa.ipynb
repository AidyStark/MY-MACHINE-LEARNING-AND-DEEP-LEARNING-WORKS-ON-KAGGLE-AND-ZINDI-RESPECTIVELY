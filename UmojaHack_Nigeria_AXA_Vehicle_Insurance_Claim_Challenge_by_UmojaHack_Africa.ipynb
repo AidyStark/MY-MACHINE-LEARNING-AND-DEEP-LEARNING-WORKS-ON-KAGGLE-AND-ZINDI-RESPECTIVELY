{
  "nbformat": 4,
  "nbformat_minor": 0,
  "metadata": {
    "kernelspec": {
      "name": "python3",
      "display_name": "Python 3",
      "language": "python"
    },
    "language_info": {
      "name": "python",
      "version": "3.7.6",
      "mimetype": "text/x-python",
      "codemirror_mode": {
        "name": "ipython",
        "version": 3
      },
      "pygments_lexer": "ipython3",
      "nbconvert_exporter": "python",
      "file_extension": ".py"
    },
    "colab": {
      "name": "UmojaHack Nigeria: AXA Vehicle Insurance Claim Challenge by UmojaHack Africa.ipynb",
      "provenance": [],
      "toc_visible": true,
      "include_colab_link": true
    }
  },
  "cells": [
    {
      "cell_type": "markdown",
      "metadata": {
        "id": "view-in-github",
        "colab_type": "text"
      },
      "source": [
        "<a href=\"https://colab.research.google.com/github/Adeyinka-hub/MY-MACHINE-LEARNING-AND-DEEP-LEARNING-WORKS-ON-KAGGLE-AND-ZINDI-RESPECTIVELY/blob/master/UmojaHack_Nigeria_AXA_Vehicle_Insurance_Claim_Challenge_by_UmojaHack_Africa.ipynb\" target=\"_parent\"><img src=\"https://colab.research.google.com/assets/colab-badge.svg\" alt=\"Open In Colab\"/></a>"
      ]
    },
    {
      "cell_type": "code",
      "metadata": {
        "id": "GuCtuo1iKYPt"
      },
      "source": [
        "seed= 42 \n",
        "# 1. Set `PYTHONHASHSEED` environment variable at a fixed value\n",
        "import os\n",
        "os.environ['PYTHONHASHSEED']=str(seed)\n",
        "# 2. Set `python` built-in pseudo-random generator at a fixed value\n",
        "import random\n",
        "random.seed(seed)\n",
        "# 3. Set `numpy` pseudo-random generator at a fixed value\n",
        "import numpy as np\n",
        "np.random.seed(seed)"
      ],
      "execution_count": 576,
      "outputs": []
    },
    {
      "cell_type": "markdown",
      "metadata": {
        "id": "g4QPYaxGESEz"
      },
      "source": [
        "# Import libraries "
      ]
    },
    {
      "cell_type": "code",
      "metadata": {
        "trusted": true,
        "id": "nFso26vzESE1"
      },
      "source": [
        "import pandas as pd\n",
        "import numpy as np\n",
        "import datetime\n",
        "\n",
        "import seaborn as sns\n",
        "import matplotlib.pyplot as plt\n",
        "\n",
        "from sklearn.model_selection import train_test_split\n",
        "from sklearn.metrics import f1_score"
      ],
      "execution_count": 577,
      "outputs": []
    },
    {
      "cell_type": "markdown",
      "metadata": {
        "id": "Q1y1SyZDESE3"
      },
      "source": [
        "# Read data "
      ]
    },
    {
      "cell_type": "code",
      "metadata": {
        "trusted": true,
        "id": "s0KsmK6hESE3"
      },
      "source": [
        "train = pd.read_csv('/content/Train_dsn_umoja.csv')\n",
        "test = pd.read_csv('/content/Test_dsn_umoja.csv')\n",
        "ss = pd.read_csv('/content/SampleSubmission_dsn_umoja.csv')\n",
        "#variable_def = pd.read_csv('../input/umojahack/VariableDefinitions_-_Sheet1.csv')"
      ],
      "execution_count": 578,
      "outputs": []
    },
    {
      "cell_type": "markdown",
      "metadata": {
        "id": "_QW4z_OGESE3"
      },
      "source": [
        "# Simple EDA"
      ]
    },
    {
      "cell_type": "code",
      "metadata": {
        "trusted": true,
        "id": "PIERulJRESE3",
        "colab": {
          "base_uri": "https://localhost:8080/"
        },
        "outputId": "f376767e-8dbb-4c5e-af67-27ba79e0df7b"
      },
      "source": [
        "for i in train.columns:\n",
        "    print(train[i].value_counts())"
      ],
      "execution_count": 579,
      "outputs": [
        {
          "output_type": "stream",
          "text": [
            "WE4MMXG    1\n",
            "1Z9E2YP    1\n",
            "UIM0DQ2    1\n",
            "SQ04SY9    1\n",
            "8B7RCA5    1\n",
            "          ..\n",
            "DX07XYO    1\n",
            "YJ2AD91    1\n",
            "NNL1UZB    1\n",
            "USYQU82    1\n",
            "NNE7WJK    1\n",
            "Name: ID, Length: 12079, dtype: int64\n",
            "2010-03-27    89\n",
            "2010-12-23    79\n",
            "2010-07-05    79\n",
            "2010-02-26    78\n",
            "2010-10-31    72\n",
            "              ..\n",
            "2007-03-04     1\n",
            "2005-08-05     1\n",
            "2010-06-09     1\n",
            "2009-08-29     1\n",
            "2001-12-11     1\n",
            "Name: Policy Start Date, Length: 376, dtype: int64\n",
            "2010-12-31    169\n",
            "2011-03-26     99\n",
            "2011-02-25     77\n",
            "2011-04-17     74\n",
            "2011-02-27     72\n",
            "             ... \n",
            "2012-01-20      1\n",
            "2012-01-01      1\n",
            "2034-05-20      1\n",
            "2016-06-25      1\n",
            "2016-09-06      1\n",
            "Name: Policy End Date, Length: 372, dtype: int64\n",
            "Male            7617\n",
            "Female          3327\n",
            "Entity           277\n",
            "Joint Gender     223\n",
            "NOT STATED       175\n",
            "NO GENDER         66\n",
            "SEX               35\n",
            "Name: Gender, dtype: int64\n",
            " 40      821\n",
            " 50      628\n",
            " 41      491\n",
            " 36      486\n",
            " 38      472\n",
            "        ... \n",
            " 112       1\n",
            " 128       1\n",
            " 90        1\n",
            "-22        1\n",
            "-6099      1\n",
            "Name: Age, Length: 110, dtype: int64\n",
            "2010-03-27    89\n",
            "2010-12-23    79\n",
            "2010-07-05    79\n",
            "2010-02-26    78\n",
            "2010-10-31    72\n",
            "              ..\n",
            "2007-03-04     1\n",
            "2005-08-05     1\n",
            "2010-06-09     1\n",
            "2009-08-29     1\n",
            "2001-12-11     1\n",
            "Name: First Transaction Date, Length: 376, dtype: int64\n",
            "1     9580\n",
            "2     1696\n",
            "3      539\n",
            "4      206\n",
            "5       24\n",
            "7       17\n",
            "10       9\n",
            "6        8\n",
            "Name: No_Pol, dtype: int64\n",
            "Saloon                     6034\n",
            "JEEP                       2021\n",
            "Truck                        97\n",
            "Bus                          54\n",
            "Mini Bus                     36\n",
            "Pick Up                      30\n",
            "Motorcycle                   17\n",
            "Mini Van                     13\n",
            "Sedan                        12\n",
            "Wagon                        10\n",
            "Shape Of Vehicle Chasis       6\n",
            "Station 4 Wheel               5\n",
            "Van                           3\n",
            "Pick Up > 3 Tons              1\n",
            "CAMRY CAR HIRE                1\n",
            "Tipper Truck                  1\n",
            "Name: Car_Category, dtype: int64\n",
            "Black             1880\n",
            "Silver             554\n",
            "Grey               514\n",
            "As Attached        498\n",
            "Blue               361\n",
            "White              293\n",
            "Red                251\n",
            "Green              233\n",
            "Gold               173\n",
            "Ash                133\n",
            "Wine                89\n",
            "Brown               58\n",
            "Cream                8\n",
            "Yellow               8\n",
            "White & Blue         5\n",
            "Orange               5\n",
            "Dark Gray            5\n",
            "Red & White          4\n",
            "Purple               4\n",
            "Blue & Red           3\n",
            "Light Green          3\n",
            "D. Red               3\n",
            "Dark Grey            2\n",
            "Gray & Gray          2\n",
            "Red & Black          2\n",
            "White & Red          2\n",
            "B.Silver             2\n",
            "Gray & Silver        2\n",
            "Dark Blue            2\n",
            "Black & Orange       2\n",
            "Black & White        2\n",
            "Red & Yellow         1\n",
            "White & Yellow       1\n",
            "Blue Sky             1\n",
            "Yellow & White       1\n",
            "Burgundy             1\n",
            "D. Gold              1\n",
            "Champagne            1\n",
            "Light Gray           1\n",
            "Dark Green           1\n",
            "Blue&White&Red       1\n",
            "Red & Blue           1\n",
            "Dark Red             1\n",
            "Beige Mitalic        1\n",
            "Light Blue           1\n",
            "Name: Subject_Car_Colour, dtype: int64\n",
            "TOYOTA       4975\n",
            "Honda        1043\n",
            "Lexus         604\n",
            "Mercedes      521\n",
            "Hyundai       457\n",
            "             ... \n",
            "REXTON          1\n",
            "Bajaj           1\n",
            "Caddillac       1\n",
            "Lincoln         1\n",
            "COMMANDER       1\n",
            "Name: Subject_Car_Make, Length: 74, dtype: int64\n",
            "Victoria Island      1162\n",
            "Ikeja                 401\n",
            "Surulere              288\n",
            "Abuja Municipal       232\n",
            "Lagos Mainland        222\n",
            "                     ... \n",
            "Ogba/Egbema/Ndoni       1\n",
            "Oshimili North          1\n",
            "Kano                    1\n",
            "Bida                    1\n",
            "Garko                   1\n",
            "Name: LGA_Name, Length: 258, dtype: int64\n",
            "Lagos              3186\n",
            "Benue               626\n",
            "Abuja-Municipal     232\n",
            "Eti-Osa             217\n",
            "Ibeju-Lekki         123\n",
            "                   ... \n",
            "Nasarawa              1\n",
            "Ethiope-East          1\n",
            "Ijebu-North           1\n",
            "Bauchi                1\n",
            "Kebbi                 1\n",
            "Name: State, Length: 111, dtype: int64\n",
            "Car Classic         6485\n",
            "CarSafe             3774\n",
            "Customized Motor     545\n",
            "Car Plus             486\n",
            "CVTP                 469\n",
            "CarFlex              176\n",
            "Muuve                 93\n",
            "Motor Cycle           46\n",
            "Car Vintage            5\n",
            "Name: ProductName, dtype: int64\n",
            "0    10624\n",
            "1     1455\n",
            "Name: target, dtype: int64\n"
          ],
          "name": "stdout"
        }
      ]
    },
    {
      "cell_type": "code",
      "metadata": {
        "trusted": true,
        "id": "Sb6qnm1EESE7",
        "colab": {
          "base_uri": "https://localhost:8080/",
          "height": 288
        },
        "outputId": "84369963-1e6c-46dd-a514-67682971a4e9"
      },
      "source": [
        "train.describe()"
      ],
      "execution_count": 580,
      "outputs": [
        {
          "output_type": "execute_result",
          "data": {
            "text/html": [
              "<div>\n",
              "<style scoped>\n",
              "    .dataframe tbody tr th:only-of-type {\n",
              "        vertical-align: middle;\n",
              "    }\n",
              "\n",
              "    .dataframe tbody tr th {\n",
              "        vertical-align: top;\n",
              "    }\n",
              "\n",
              "    .dataframe thead th {\n",
              "        text-align: right;\n",
              "    }\n",
              "</style>\n",
              "<table border=\"1\" class=\"dataframe\">\n",
              "  <thead>\n",
              "    <tr style=\"text-align: right;\">\n",
              "      <th></th>\n",
              "      <th>Age</th>\n",
              "      <th>No_Pol</th>\n",
              "      <th>target</th>\n",
              "    </tr>\n",
              "  </thead>\n",
              "  <tbody>\n",
              "    <tr>\n",
              "      <th>count</th>\n",
              "      <td>12079.000000</td>\n",
              "      <td>12079.000000</td>\n",
              "      <td>12079.000000</td>\n",
              "    </tr>\n",
              "    <tr>\n",
              "      <th>mean</th>\n",
              "      <td>42.234539</td>\n",
              "      <td>1.307227</td>\n",
              "      <td>0.120457</td>\n",
              "    </tr>\n",
              "    <tr>\n",
              "      <th>std</th>\n",
              "      <td>97.492565</td>\n",
              "      <td>0.733085</td>\n",
              "      <td>0.325509</td>\n",
              "    </tr>\n",
              "    <tr>\n",
              "      <th>min</th>\n",
              "      <td>-6099.000000</td>\n",
              "      <td>1.000000</td>\n",
              "      <td>0.000000</td>\n",
              "    </tr>\n",
              "    <tr>\n",
              "      <th>25%</th>\n",
              "      <td>35.000000</td>\n",
              "      <td>1.000000</td>\n",
              "      <td>0.000000</td>\n",
              "    </tr>\n",
              "    <tr>\n",
              "      <th>50%</th>\n",
              "      <td>41.000000</td>\n",
              "      <td>1.000000</td>\n",
              "      <td>0.000000</td>\n",
              "    </tr>\n",
              "    <tr>\n",
              "      <th>75%</th>\n",
              "      <td>50.000000</td>\n",
              "      <td>1.000000</td>\n",
              "      <td>0.000000</td>\n",
              "    </tr>\n",
              "    <tr>\n",
              "      <th>max</th>\n",
              "      <td>320.000000</td>\n",
              "      <td>10.000000</td>\n",
              "      <td>1.000000</td>\n",
              "    </tr>\n",
              "  </tbody>\n",
              "</table>\n",
              "</div>"
            ],
            "text/plain": [
              "                Age        No_Pol        target\n",
              "count  12079.000000  12079.000000  12079.000000\n",
              "mean      42.234539      1.307227      0.120457\n",
              "std       97.492565      0.733085      0.325509\n",
              "min    -6099.000000      1.000000      0.000000\n",
              "25%       35.000000      1.000000      0.000000\n",
              "50%       41.000000      1.000000      0.000000\n",
              "75%       50.000000      1.000000      0.000000\n",
              "max      320.000000     10.000000      1.000000"
            ]
          },
          "metadata": {
            "tags": []
          },
          "execution_count": 580
        }
      ]
    },
    {
      "cell_type": "code",
      "metadata": {
        "trusted": true,
        "id": "jjPazkQEESE8",
        "colab": {
          "base_uri": "https://localhost:8080/",
          "height": 339
        },
        "outputId": "1c440126-75f4-4ca5-c207-789602b56f66"
      },
      "source": [
        "test.head()"
      ],
      "execution_count": 581,
      "outputs": [
        {
          "output_type": "execute_result",
          "data": {
            "text/html": [
              "<div>\n",
              "<style scoped>\n",
              "    .dataframe tbody tr th:only-of-type {\n",
              "        vertical-align: middle;\n",
              "    }\n",
              "\n",
              "    .dataframe tbody tr th {\n",
              "        vertical-align: top;\n",
              "    }\n",
              "\n",
              "    .dataframe thead th {\n",
              "        text-align: right;\n",
              "    }\n",
              "</style>\n",
              "<table border=\"1\" class=\"dataframe\">\n",
              "  <thead>\n",
              "    <tr style=\"text-align: right;\">\n",
              "      <th></th>\n",
              "      <th>ID</th>\n",
              "      <th>Policy Start Date</th>\n",
              "      <th>Policy End Date</th>\n",
              "      <th>Gender</th>\n",
              "      <th>Age</th>\n",
              "      <th>First Transaction Date</th>\n",
              "      <th>No_Pol</th>\n",
              "      <th>Car_Category</th>\n",
              "      <th>Subject_Car_Colour</th>\n",
              "      <th>Subject_Car_Make</th>\n",
              "      <th>LGA_Name</th>\n",
              "      <th>State</th>\n",
              "      <th>ProductName</th>\n",
              "    </tr>\n",
              "  </thead>\n",
              "  <tbody>\n",
              "    <tr>\n",
              "      <th>0</th>\n",
              "      <td>009D84L</td>\n",
              "      <td>2010-04-24</td>\n",
              "      <td>2011-03-27</td>\n",
              "      <td>NO GENDER</td>\n",
              "      <td>25</td>\n",
              "      <td>2010-04-24</td>\n",
              "      <td>1</td>\n",
              "      <td>NaN</td>\n",
              "      <td>As Attached</td>\n",
              "      <td>Iveco</td>\n",
              "      <td>Victoria Island</td>\n",
              "      <td>Lagos</td>\n",
              "      <td>CVTP</td>\n",
              "    </tr>\n",
              "    <tr>\n",
              "      <th>1</th>\n",
              "      <td>01DO2EQ</td>\n",
              "      <td>2010-01-01</td>\n",
              "      <td>2010-12-31</td>\n",
              "      <td>NaN</td>\n",
              "      <td>120</td>\n",
              "      <td>2010-01-01</td>\n",
              "      <td>4</td>\n",
              "      <td>NaN</td>\n",
              "      <td>As Attached</td>\n",
              "      <td>TOYOTA</td>\n",
              "      <td>Victoria Island</td>\n",
              "      <td>Lagos</td>\n",
              "      <td>Muuve</td>\n",
              "    </tr>\n",
              "    <tr>\n",
              "      <th>2</th>\n",
              "      <td>01QM0NU</td>\n",
              "      <td>2010-10-23</td>\n",
              "      <td>2011-10-22</td>\n",
              "      <td>Female</td>\n",
              "      <td>46</td>\n",
              "      <td>2010-10-23</td>\n",
              "      <td>1</td>\n",
              "      <td>NaN</td>\n",
              "      <td>NaN</td>\n",
              "      <td>Ford</td>\n",
              "      <td>Abuja Municipal</td>\n",
              "      <td>Abuja-Municipal</td>\n",
              "      <td>Car Classic</td>\n",
              "    </tr>\n",
              "    <tr>\n",
              "      <th>3</th>\n",
              "      <td>024NJLZ</td>\n",
              "      <td>2010-10-14</td>\n",
              "      <td>2011-10-13</td>\n",
              "      <td>Male</td>\n",
              "      <td>32</td>\n",
              "      <td>2010-10-14</td>\n",
              "      <td>1</td>\n",
              "      <td>NaN</td>\n",
              "      <td>NaN</td>\n",
              "      <td>NaN</td>\n",
              "      <td>Kosofe</td>\n",
              "      <td>Benue</td>\n",
              "      <td>Car Classic</td>\n",
              "    </tr>\n",
              "    <tr>\n",
              "      <th>4</th>\n",
              "      <td>02BYET3</td>\n",
              "      <td>2010-09-16</td>\n",
              "      <td>2010-12-31</td>\n",
              "      <td>NaN</td>\n",
              "      <td>120</td>\n",
              "      <td>2010-09-16</td>\n",
              "      <td>4</td>\n",
              "      <td>NaN</td>\n",
              "      <td>NaN</td>\n",
              "      <td>TOYOTA</td>\n",
              "      <td>Victoria Island</td>\n",
              "      <td>Lagos</td>\n",
              "      <td>Muuve</td>\n",
              "    </tr>\n",
              "  </tbody>\n",
              "</table>\n",
              "</div>"
            ],
            "text/plain": [
              "        ID Policy Start Date  ...            State  ProductName\n",
              "0  009D84L        2010-04-24  ...            Lagos         CVTP\n",
              "1  01DO2EQ        2010-01-01  ...            Lagos        Muuve\n",
              "2  01QM0NU        2010-10-23  ...  Abuja-Municipal  Car Classic\n",
              "3  024NJLZ        2010-10-14  ...            Benue  Car Classic\n",
              "4  02BYET3        2010-09-16  ...            Lagos        Muuve\n",
              "\n",
              "[5 rows x 13 columns]"
            ]
          },
          "metadata": {
            "tags": []
          },
          "execution_count": 581
        }
      ]
    },
    {
      "cell_type": "code",
      "metadata": {
        "trusted": true,
        "id": "GqahJ2yTESE8",
        "colab": {
          "base_uri": "https://localhost:8080/",
          "height": 198
        },
        "outputId": "ff70e44d-0c11-49f6-fa2f-9ccded0275a2"
      },
      "source": [
        "ss.head()"
      ],
      "execution_count": 582,
      "outputs": [
        {
          "output_type": "execute_result",
          "data": {
            "text/html": [
              "<div>\n",
              "<style scoped>\n",
              "    .dataframe tbody tr th:only-of-type {\n",
              "        vertical-align: middle;\n",
              "    }\n",
              "\n",
              "    .dataframe tbody tr th {\n",
              "        vertical-align: top;\n",
              "    }\n",
              "\n",
              "    .dataframe thead th {\n",
              "        text-align: right;\n",
              "    }\n",
              "</style>\n",
              "<table border=\"1\" class=\"dataframe\">\n",
              "  <thead>\n",
              "    <tr style=\"text-align: right;\">\n",
              "      <th></th>\n",
              "      <th>ID</th>\n",
              "      <th>target</th>\n",
              "    </tr>\n",
              "  </thead>\n",
              "  <tbody>\n",
              "    <tr>\n",
              "      <th>0</th>\n",
              "      <td>009D84L</td>\n",
              "      <td>0</td>\n",
              "    </tr>\n",
              "    <tr>\n",
              "      <th>1</th>\n",
              "      <td>01DO2EQ</td>\n",
              "      <td>0</td>\n",
              "    </tr>\n",
              "    <tr>\n",
              "      <th>2</th>\n",
              "      <td>01QM0NU</td>\n",
              "      <td>0</td>\n",
              "    </tr>\n",
              "    <tr>\n",
              "      <th>3</th>\n",
              "      <td>024NJLZ</td>\n",
              "      <td>0</td>\n",
              "    </tr>\n",
              "    <tr>\n",
              "      <th>4</th>\n",
              "      <td>02BYET3</td>\n",
              "      <td>0</td>\n",
              "    </tr>\n",
              "  </tbody>\n",
              "</table>\n",
              "</div>"
            ],
            "text/plain": [
              "        ID  target\n",
              "0  009D84L       0\n",
              "1  01DO2EQ       0\n",
              "2  01QM0NU       0\n",
              "3  024NJLZ       0\n",
              "4  02BYET3       0"
            ]
          },
          "metadata": {
            "tags": []
          },
          "execution_count": 582
        }
      ]
    },
    {
      "cell_type": "code",
      "metadata": {
        "trusted": true,
        "id": "TjglTU7qESE9"
      },
      "source": [
        "#variable_def"
      ],
      "execution_count": 583,
      "outputs": []
    },
    {
      "cell_type": "code",
      "metadata": {
        "trusted": true,
        "id": "zd9cWCcGESE9",
        "colab": {
          "base_uri": "https://localhost:8080/"
        },
        "outputId": "f98e0919-9e46-4ab3-be09-06dfe930387a"
      },
      "source": [
        "print('Train shape:',train.shape,'\\nTest shape:', test.shape, '\\nsamplesubmission shape:',ss.shape)"
      ],
      "execution_count": 584,
      "outputs": [
        {
          "output_type": "stream",
          "text": [
            "Train shape: (12079, 14) \n",
            "Test shape: (5177, 13) \n",
            "samplesubmission shape: (5177, 2)\n"
          ],
          "name": "stdout"
        }
      ]
    },
    {
      "cell_type": "code",
      "metadata": {
        "trusted": true,
        "id": "nx4awpNGESE-",
        "colab": {
          "base_uri": "https://localhost:8080/"
        },
        "outputId": "49cf72c3-3b8c-4a62-98d9-2de4896a8ecc"
      },
      "source": [
        "train.info()"
      ],
      "execution_count": 585,
      "outputs": [
        {
          "output_type": "stream",
          "text": [
            "<class 'pandas.core.frame.DataFrame'>\n",
            "RangeIndex: 12079 entries, 0 to 12078\n",
            "Data columns (total 14 columns):\n",
            " #   Column                  Non-Null Count  Dtype \n",
            "---  ------                  --------------  ----- \n",
            " 0   ID                      12079 non-null  object\n",
            " 1   Policy Start Date       12079 non-null  object\n",
            " 2   Policy End Date         12079 non-null  object\n",
            " 3   Gender                  11720 non-null  object\n",
            " 4   Age                     12079 non-null  int64 \n",
            " 5   First Transaction Date  12079 non-null  object\n",
            " 6   No_Pol                  12079 non-null  int64 \n",
            " 7   Car_Category            8341 non-null   object\n",
            " 8   Subject_Car_Colour      5117 non-null   object\n",
            " 9   Subject_Car_Make        9603 non-null   object\n",
            " 10  LGA_Name                5603 non-null   object\n",
            " 11  State                   5591 non-null   object\n",
            " 12  ProductName             12079 non-null  object\n",
            " 13  target                  12079 non-null  int64 \n",
            "dtypes: int64(3), object(11)\n",
            "memory usage: 1.3+ MB\n"
          ],
          "name": "stdout"
        }
      ]
    },
    {
      "cell_type": "code",
      "metadata": {
        "trusted": true,
        "id": "JtoBhbKYESE-",
        "colab": {
          "base_uri": "https://localhost:8080/"
        },
        "outputId": "59987f2d-9d93-42a1-edcb-1bdc0e435c41"
      },
      "source": [
        "test.info()"
      ],
      "execution_count": 586,
      "outputs": [
        {
          "output_type": "stream",
          "text": [
            "<class 'pandas.core.frame.DataFrame'>\n",
            "RangeIndex: 5177 entries, 0 to 5176\n",
            "Data columns (total 13 columns):\n",
            " #   Column                  Non-Null Count  Dtype \n",
            "---  ------                  --------------  ----- \n",
            " 0   ID                      5177 non-null   object\n",
            " 1   Policy Start Date       5177 non-null   object\n",
            " 2   Policy End Date         5177 non-null   object\n",
            " 3   Gender                  5021 non-null   object\n",
            " 4   Age                     5177 non-null   int64 \n",
            " 5   First Transaction Date  5177 non-null   object\n",
            " 6   No_Pol                  5177 non-null   int64 \n",
            " 7   Car_Category            3539 non-null   object\n",
            " 8   Subject_Car_Colour      2172 non-null   object\n",
            " 9   Subject_Car_Make        4116 non-null   object\n",
            " 10  LGA_Name                2395 non-null   object\n",
            " 11  State                   2389 non-null   object\n",
            " 12  ProductName             5177 non-null   object\n",
            "dtypes: int64(2), object(11)\n",
            "memory usage: 525.9+ KB\n"
          ],
          "name": "stdout"
        }
      ]
    },
    {
      "cell_type": "code",
      "metadata": {
        "id": "DHCjUwOEJTg2"
      },
      "source": [
        "index_to_use_later = test['ID'].values"
      ],
      "execution_count": 587,
      "outputs": []
    },
    {
      "cell_type": "markdown",
      "metadata": {
        "id": "KDBlDiQ3ESE-"
      },
      "source": [
        "# Since the ratio of categorical variables to numerical variable is high, consider combining both train and test for easy preproccessing "
      ]
    },
    {
      "cell_type": "code",
      "metadata": {
        "trusted": true,
        "id": "S1mxFvCOESE_",
        "colab": {
          "base_uri": "https://localhost:8080/"
        },
        "outputId": "5a131087-b906-4541-bd95-f3e68a03e79c"
      },
      "source": [
        "# join train and test together\n",
        "ntrain = train.shape[0]\n",
        "ntest = test.shape[0]\n",
        "\n",
        "all_data = pd.concat((train, test)).reset_index(drop=True)\n",
        "print(\"all_data size is : {}\".format(all_data.shape))"
      ],
      "execution_count": 588,
      "outputs": [
        {
          "output_type": "stream",
          "text": [
            "all_data size is : (17256, 14)\n"
          ],
          "name": "stdout"
        }
      ]
    },
    {
      "cell_type": "code",
      "metadata": {
        "trusted": true,
        "id": "Sd_HczUwESE_",
        "colab": {
          "base_uri": "https://localhost:8080/",
          "height": 339
        },
        "outputId": "c0429b91-ad33-4e81-cc6d-99fd92d42611"
      },
      "source": [
        "all_data.tail()"
      ],
      "execution_count": 589,
      "outputs": [
        {
          "output_type": "execute_result",
          "data": {
            "text/html": [
              "<div>\n",
              "<style scoped>\n",
              "    .dataframe tbody tr th:only-of-type {\n",
              "        vertical-align: middle;\n",
              "    }\n",
              "\n",
              "    .dataframe tbody tr th {\n",
              "        vertical-align: top;\n",
              "    }\n",
              "\n",
              "    .dataframe thead th {\n",
              "        text-align: right;\n",
              "    }\n",
              "</style>\n",
              "<table border=\"1\" class=\"dataframe\">\n",
              "  <thead>\n",
              "    <tr style=\"text-align: right;\">\n",
              "      <th></th>\n",
              "      <th>ID</th>\n",
              "      <th>Policy Start Date</th>\n",
              "      <th>Policy End Date</th>\n",
              "      <th>Gender</th>\n",
              "      <th>Age</th>\n",
              "      <th>First Transaction Date</th>\n",
              "      <th>No_Pol</th>\n",
              "      <th>Car_Category</th>\n",
              "      <th>Subject_Car_Colour</th>\n",
              "      <th>Subject_Car_Make</th>\n",
              "      <th>LGA_Name</th>\n",
              "      <th>State</th>\n",
              "      <th>ProductName</th>\n",
              "      <th>target</th>\n",
              "    </tr>\n",
              "  </thead>\n",
              "  <tbody>\n",
              "    <tr>\n",
              "      <th>17251</th>\n",
              "      <td>ZYXX5AF</td>\n",
              "      <td>2010-07-18</td>\n",
              "      <td>2011-07-17</td>\n",
              "      <td>Male</td>\n",
              "      <td>48</td>\n",
              "      <td>2010-07-18</td>\n",
              "      <td>1</td>\n",
              "      <td>Saloon</td>\n",
              "      <td>NaN</td>\n",
              "      <td>Honda</td>\n",
              "      <td>NaN</td>\n",
              "      <td>NaN</td>\n",
              "      <td>CarSafe</td>\n",
              "      <td>NaN</td>\n",
              "    </tr>\n",
              "    <tr>\n",
              "      <th>17252</th>\n",
              "      <td>ZYYOZ5L</td>\n",
              "      <td>2010-12-04</td>\n",
              "      <td>2011-12-03</td>\n",
              "      <td>NaN</td>\n",
              "      <td>50</td>\n",
              "      <td>2010-12-04</td>\n",
              "      <td>1</td>\n",
              "      <td>NaN</td>\n",
              "      <td>NaN</td>\n",
              "      <td>NaN</td>\n",
              "      <td>Victoria Island</td>\n",
              "      <td>Lagos</td>\n",
              "      <td>Car Classic</td>\n",
              "      <td>NaN</td>\n",
              "    </tr>\n",
              "    <tr>\n",
              "      <th>17253</th>\n",
              "      <td>ZZ1GTKD</td>\n",
              "      <td>2010-09-24</td>\n",
              "      <td>2011-09-23</td>\n",
              "      <td>Male</td>\n",
              "      <td>1</td>\n",
              "      <td>2010-09-24</td>\n",
              "      <td>1</td>\n",
              "      <td>NaN</td>\n",
              "      <td>NaN</td>\n",
              "      <td>NaN</td>\n",
              "      <td>NaN</td>\n",
              "      <td>NaN</td>\n",
              "      <td>CarSafe</td>\n",
              "      <td>NaN</td>\n",
              "    </tr>\n",
              "    <tr>\n",
              "      <th>17254</th>\n",
              "      <td>ZZDXQSI</td>\n",
              "      <td>2010-07-17</td>\n",
              "      <td>2011-07-16</td>\n",
              "      <td>Female</td>\n",
              "      <td>52</td>\n",
              "      <td>2010-07-17</td>\n",
              "      <td>1</td>\n",
              "      <td>Saloon</td>\n",
              "      <td>Grey</td>\n",
              "      <td>TOYOTA</td>\n",
              "      <td>NaN</td>\n",
              "      <td>NaN</td>\n",
              "      <td>Car Classic</td>\n",
              "      <td>NaN</td>\n",
              "    </tr>\n",
              "    <tr>\n",
              "      <th>17255</th>\n",
              "      <td>ZZYTLV1</td>\n",
              "      <td>2010-07-17</td>\n",
              "      <td>2011-07-16</td>\n",
              "      <td>Male</td>\n",
              "      <td>68</td>\n",
              "      <td>2010-07-17</td>\n",
              "      <td>1</td>\n",
              "      <td>Saloon</td>\n",
              "      <td>NaN</td>\n",
              "      <td>Peugeot</td>\n",
              "      <td>NaN</td>\n",
              "      <td>NaN</td>\n",
              "      <td>CarSafe</td>\n",
              "      <td>NaN</td>\n",
              "    </tr>\n",
              "  </tbody>\n",
              "</table>\n",
              "</div>"
            ],
            "text/plain": [
              "            ID Policy Start Date Policy End Date  ...  State  ProductName target\n",
              "17251  ZYXX5AF        2010-07-18      2011-07-17  ...    NaN      CarSafe    NaN\n",
              "17252  ZYYOZ5L        2010-12-04      2011-12-03  ...  Lagos  Car Classic    NaN\n",
              "17253  ZZ1GTKD        2010-09-24      2011-09-23  ...    NaN      CarSafe    NaN\n",
              "17254  ZZDXQSI        2010-07-17      2011-07-16  ...    NaN  Car Classic    NaN\n",
              "17255  ZZYTLV1        2010-07-17      2011-07-16  ...    NaN      CarSafe    NaN\n",
              "\n",
              "[5 rows x 14 columns]"
            ]
          },
          "metadata": {
            "tags": []
          },
          "execution_count": 589
        }
      ]
    },
    {
      "cell_type": "code",
      "metadata": {
        "trusted": true,
        "id": "7Sp7KakaESE_",
        "colab": {
          "base_uri": "https://localhost:8080/"
        },
        "outputId": "57ffb647-29a6-4f3f-ffd6-89f748a0cfe2"
      },
      "source": [
        "date_col = ['Policy Start Date','Policy End Date','First Transaction Date']\n",
        "num_col = ['Age']\n",
        "cat_col = [col for col in test.columns if col not in date_col+num_col]\n",
        "cat_col"
      ],
      "execution_count": 590,
      "outputs": [
        {
          "output_type": "execute_result",
          "data": {
            "text/plain": [
              "['ID',\n",
              " 'Gender',\n",
              " 'No_Pol',\n",
              " 'Car_Category',\n",
              " 'Subject_Car_Colour',\n",
              " 'Subject_Car_Make',\n",
              " 'LGA_Name',\n",
              " 'State',\n",
              " 'ProductName']"
            ]
          },
          "metadata": {
            "tags": []
          },
          "execution_count": 590
        }
      ]
    },
    {
      "cell_type": "code",
      "metadata": {
        "id": "fn5OU-XxLX2r"
      },
      "source": [
        "train['ProductName_count']= train.groupby([\"ProductName\"])[\"ID\"].transform(\"count\")\n",
        "test['ProductName_count'] = test.groupby([\"ProductName\"])[\"ID\"].transform(\"count\")"
      ],
      "execution_count": 591,
      "outputs": []
    },
    {
      "cell_type": "code",
      "metadata": {
        "trusted": true,
        "id": "hZLp6MQRESFA"
      },
      "source": [
        "cat_col.remove('ID')"
      ],
      "execution_count": 592,
      "outputs": []
    },
    {
      "cell_type": "code",
      "metadata": {
        "trusted": true,
        "id": "pp9V4i0cESFA",
        "colab": {
          "base_uri": "https://localhost:8080/",
          "height": 288
        },
        "outputId": "633a04ca-c0f6-46f0-e497-4fa2cab84b28"
      },
      "source": [
        "train.describe()"
      ],
      "execution_count": 593,
      "outputs": [
        {
          "output_type": "execute_result",
          "data": {
            "text/html": [
              "<div>\n",
              "<style scoped>\n",
              "    .dataframe tbody tr th:only-of-type {\n",
              "        vertical-align: middle;\n",
              "    }\n",
              "\n",
              "    .dataframe tbody tr th {\n",
              "        vertical-align: top;\n",
              "    }\n",
              "\n",
              "    .dataframe thead th {\n",
              "        text-align: right;\n",
              "    }\n",
              "</style>\n",
              "<table border=\"1\" class=\"dataframe\">\n",
              "  <thead>\n",
              "    <tr style=\"text-align: right;\">\n",
              "      <th></th>\n",
              "      <th>Age</th>\n",
              "      <th>No_Pol</th>\n",
              "      <th>target</th>\n",
              "      <th>ProductName_count</th>\n",
              "    </tr>\n",
              "  </thead>\n",
              "  <tbody>\n",
              "    <tr>\n",
              "      <th>count</th>\n",
              "      <td>12079.000000</td>\n",
              "      <td>12079.000000</td>\n",
              "      <td>12079.000000</td>\n",
              "      <td>12079.000000</td>\n",
              "    </tr>\n",
              "    <tr>\n",
              "      <th>mean</th>\n",
              "      <td>42.234539</td>\n",
              "      <td>1.307227</td>\n",
              "      <td>0.120457</td>\n",
              "      <td>4726.653614</td>\n",
              "    </tr>\n",
              "    <tr>\n",
              "      <th>std</th>\n",
              "      <td>97.492565</td>\n",
              "      <td>0.733085</td>\n",
              "      <td>0.325509</td>\n",
              "      <td>2172.546884</td>\n",
              "    </tr>\n",
              "    <tr>\n",
              "      <th>min</th>\n",
              "      <td>-6099.000000</td>\n",
              "      <td>1.000000</td>\n",
              "      <td>0.000000</td>\n",
              "      <td>5.000000</td>\n",
              "    </tr>\n",
              "    <tr>\n",
              "      <th>25%</th>\n",
              "      <td>35.000000</td>\n",
              "      <td>1.000000</td>\n",
              "      <td>0.000000</td>\n",
              "      <td>3774.000000</td>\n",
              "    </tr>\n",
              "    <tr>\n",
              "      <th>50%</th>\n",
              "      <td>41.000000</td>\n",
              "      <td>1.000000</td>\n",
              "      <td>0.000000</td>\n",
              "      <td>6485.000000</td>\n",
              "    </tr>\n",
              "    <tr>\n",
              "      <th>75%</th>\n",
              "      <td>50.000000</td>\n",
              "      <td>1.000000</td>\n",
              "      <td>0.000000</td>\n",
              "      <td>6485.000000</td>\n",
              "    </tr>\n",
              "    <tr>\n",
              "      <th>max</th>\n",
              "      <td>320.000000</td>\n",
              "      <td>10.000000</td>\n",
              "      <td>1.000000</td>\n",
              "      <td>6485.000000</td>\n",
              "    </tr>\n",
              "  </tbody>\n",
              "</table>\n",
              "</div>"
            ],
            "text/plain": [
              "                Age        No_Pol        target  ProductName_count\n",
              "count  12079.000000  12079.000000  12079.000000       12079.000000\n",
              "mean      42.234539      1.307227      0.120457        4726.653614\n",
              "std       97.492565      0.733085      0.325509        2172.546884\n",
              "min    -6099.000000      1.000000      0.000000           5.000000\n",
              "25%       35.000000      1.000000      0.000000        3774.000000\n",
              "50%       41.000000      1.000000      0.000000        6485.000000\n",
              "75%       50.000000      1.000000      0.000000        6485.000000\n",
              "max      320.000000     10.000000      1.000000        6485.000000"
            ]
          },
          "metadata": {
            "tags": []
          },
          "execution_count": 593
        }
      ]
    },
    {
      "cell_type": "code",
      "metadata": {
        "trusted": true,
        "id": "HDX0reITESFA",
        "colab": {
          "base_uri": "https://localhost:8080/",
          "height": 288
        },
        "outputId": "cfcbf165-fd66-4c89-e25a-68233f18d7a2"
      },
      "source": [
        "test.describe()"
      ],
      "execution_count": 594,
      "outputs": [
        {
          "output_type": "execute_result",
          "data": {
            "text/html": [
              "<div>\n",
              "<style scoped>\n",
              "    .dataframe tbody tr th:only-of-type {\n",
              "        vertical-align: middle;\n",
              "    }\n",
              "\n",
              "    .dataframe tbody tr th {\n",
              "        vertical-align: top;\n",
              "    }\n",
              "\n",
              "    .dataframe thead th {\n",
              "        text-align: right;\n",
              "    }\n",
              "</style>\n",
              "<table border=\"1\" class=\"dataframe\">\n",
              "  <thead>\n",
              "    <tr style=\"text-align: right;\">\n",
              "      <th></th>\n",
              "      <th>Age</th>\n",
              "      <th>No_Pol</th>\n",
              "      <th>ProductName_count</th>\n",
              "    </tr>\n",
              "  </thead>\n",
              "  <tbody>\n",
              "    <tr>\n",
              "      <th>count</th>\n",
              "      <td>5177.000000</td>\n",
              "      <td>5177.000000</td>\n",
              "      <td>5177.000000</td>\n",
              "    </tr>\n",
              "    <tr>\n",
              "      <th>mean</th>\n",
              "      <td>43.710257</td>\n",
              "      <td>1.308287</td>\n",
              "      <td>2021.433842</td>\n",
              "    </tr>\n",
              "    <tr>\n",
              "      <th>std</th>\n",
              "      <td>22.439018</td>\n",
              "      <td>0.712004</td>\n",
              "      <td>934.401107</td>\n",
              "    </tr>\n",
              "    <tr>\n",
              "      <th>min</th>\n",
              "      <td>-76.000000</td>\n",
              "      <td>1.000000</td>\n",
              "      <td>1.000000</td>\n",
              "    </tr>\n",
              "    <tr>\n",
              "      <th>25%</th>\n",
              "      <td>34.000000</td>\n",
              "      <td>1.000000</td>\n",
              "      <td>1611.000000</td>\n",
              "    </tr>\n",
              "    <tr>\n",
              "      <th>50%</th>\n",
              "      <td>40.000000</td>\n",
              "      <td>1.000000</td>\n",
              "      <td>2779.000000</td>\n",
              "    </tr>\n",
              "    <tr>\n",
              "      <th>75%</th>\n",
              "      <td>50.000000</td>\n",
              "      <td>1.000000</td>\n",
              "      <td>2779.000000</td>\n",
              "    </tr>\n",
              "    <tr>\n",
              "      <th>max</th>\n",
              "      <td>320.000000</td>\n",
              "      <td>10.000000</td>\n",
              "      <td>2779.000000</td>\n",
              "    </tr>\n",
              "  </tbody>\n",
              "</table>\n",
              "</div>"
            ],
            "text/plain": [
              "               Age       No_Pol  ProductName_count\n",
              "count  5177.000000  5177.000000        5177.000000\n",
              "mean     43.710257     1.308287        2021.433842\n",
              "std      22.439018     0.712004         934.401107\n",
              "min     -76.000000     1.000000           1.000000\n",
              "25%      34.000000     1.000000        1611.000000\n",
              "50%      40.000000     1.000000        2779.000000\n",
              "75%      50.000000     1.000000        2779.000000\n",
              "max     320.000000    10.000000        2779.000000"
            ]
          },
          "metadata": {
            "tags": []
          },
          "execution_count": 594
        }
      ]
    },
    {
      "cell_type": "code",
      "metadata": {
        "trusted": true,
        "id": "ACbEva7tESFA",
        "colab": {
          "base_uri": "https://localhost:8080/",
          "height": 297
        },
        "outputId": "32fb839d-98fa-42e6-eed7-568540edad7b"
      },
      "source": [
        "sns.countplot(train.target)"
      ],
      "execution_count": 595,
      "outputs": [
        {
          "output_type": "execute_result",
          "data": {
            "text/plain": [
              "<matplotlib.axes._subplots.AxesSubplot at 0x7ff08198bb00>"
            ]
          },
          "metadata": {
            "tags": []
          },
          "execution_count": 595
        },
        {
          "output_type": "display_data",
          "data": {
            "image/png": "[encoded data removed]",
            "text/plain": [
              "<Figure size 432x288 with 1 Axes>"
            ]
          },
          "metadata": {
            "tags": [],
            "needs_background": "light"
          }
        }
      ]
    },
    {
      "cell_type": "markdown",
      "metadata": {
        "id": "gzfllW4mESFB"
      },
      "source": [
        "The dataset is is skewed towards class 0, consider balancing the dataset "
      ]
    },
    {
      "cell_type": "code",
      "metadata": {
        "trusted": true,
        "id": "3ddAQaeYESFB",
        "colab": {
          "base_uri": "https://localhost:8080/"
        },
        "outputId": "9010cc82-f497-4330-f0c3-375611377cc1"
      },
      "source": [
        "print(\"Are There Missing value in train? :\",train.isnull().any().any())\n",
        "print((train.isnull().sum()/train.shape[0])*100)"
      ],
      "execution_count": 596,
      "outputs": [
        {
          "output_type": "stream",
          "text": [
            "Are There Missing value in train? : True\n",
            "ID                         0.000000\n",
            "Policy Start Date          0.000000\n",
            "Policy End Date            0.000000\n",
            "Gender                     2.972100\n",
            "Age                        0.000000\n",
            "First Transaction Date     0.000000\n",
            "No_Pol                     0.000000\n",
            "Car_Category              30.946270\n",
            "Subject_Car_Colour        57.637222\n",
            "Subject_Car_Make          20.498386\n",
            "LGA_Name                  53.613710\n",
            "State                     53.713056\n",
            "ProductName                0.000000\n",
            "target                     0.000000\n",
            "ProductName_count          0.000000\n",
            "dtype: float64\n"
          ],
          "name": "stdout"
        }
      ]
    },
    {
      "cell_type": "code",
      "metadata": {
        "trusted": true,
        "id": "3GDB_YEqESFB",
        "colab": {
          "base_uri": "https://localhost:8080/"
        },
        "outputId": "a4ca8d0e-7471-4ec2-d31d-fba6317ba1f8"
      },
      "source": [
        "print(\"Are There Missing value in test? :\",test.isnull().any().any())\n",
        "print((test.isnull().sum()/test.shape[0])*100)"
      ],
      "execution_count": 597,
      "outputs": [
        {
          "output_type": "stream",
          "text": [
            "Are There Missing value in test? : True\n",
            "ID                         0.000000\n",
            "Policy Start Date          0.000000\n",
            "Policy End Date            0.000000\n",
            "Gender                     3.013328\n",
            "Age                        0.000000\n",
            "First Transaction Date     0.000000\n",
            "No_Pol                     0.000000\n",
            "Car_Category              31.639946\n",
            "Subject_Car_Colour        58.045200\n",
            "Subject_Car_Make          20.494495\n",
            "LGA_Name                  53.737686\n",
            "State                     53.853583\n",
            "ProductName                0.000000\n",
            "ProductName_count          0.000000\n",
            "dtype: float64\n"
          ],
          "name": "stdout"
        }
      ]
    },
    {
      "cell_type": "markdown",
      "metadata": {
        "id": "uQH6xf1qESFB"
      },
      "source": [
        "Remember to handle the missing values "
      ]
    },
    {
      "cell_type": "code",
      "metadata": {
        "trusted": true,
        "id": "zNH6uwMkESFB",
        "colab": {
          "base_uri": "https://localhost:8080/",
          "height": 512
        },
        "outputId": "e0d59d3c-f56b-4fa4-804c-8fce4718c59d"
      },
      "source": [
        "f,ax=plt.subplots(figsize=(8,8))\n",
        "sns.heatmap(train.corr(),annot=True,linewidth=.5,fmt='.1f',ax=ax)\n",
        "plt.show()"
      ],
      "execution_count": 598,
      "outputs": [
        {
          "output_type": "display_data",
          "data": {
            "image/png": "[encoded data removed]",
            "text/plain": [
              "<Figure size 576x576 with 2 Axes>"
            ]
          },
          "metadata": {
            "tags": [],
            "needs_background": "light"
          }
        }
      ]
    },
    {
      "cell_type": "markdown",
      "metadata": {
        "id": "ulsssJzWESFC"
      },
      "source": [
        "### Correlation might not be a best measure for this dataset since there are more categorical features"
      ]
    },
    {
      "cell_type": "code",
      "metadata": {
        "trusted": true,
        "id": "bP4TP79jESFC",
        "colab": {
          "base_uri": "https://localhost:8080/",
          "height": 339
        },
        "outputId": "145d99f6-66c6-46c5-a909-f1aa2761367d"
      },
      "source": [
        "all_data.head()"
      ],
      "execution_count": 599,
      "outputs": [
        {
          "output_type": "execute_result",
          "data": {
            "text/html": [
              "<div>\n",
              "<style scoped>\n",
              "    .dataframe tbody tr th:only-of-type {\n",
              "        vertical-align: middle;\n",
              "    }\n",
              "\n",
              "    .dataframe tbody tr th {\n",
              "        vertical-align: top;\n",
              "    }\n",
              "\n",
              "    .dataframe thead th {\n",
              "        text-align: right;\n",
              "    }\n",
              "</style>\n",
              "<table border=\"1\" class=\"dataframe\">\n",
              "  <thead>\n",
              "    <tr style=\"text-align: right;\">\n",
              "      <th></th>\n",
              "      <th>ID</th>\n",
              "      <th>Policy Start Date</th>\n",
              "      <th>Policy End Date</th>\n",
              "      <th>Gender</th>\n",
              "      <th>Age</th>\n",
              "      <th>First Transaction Date</th>\n",
              "      <th>No_Pol</th>\n",
              "      <th>Car_Category</th>\n",
              "      <th>Subject_Car_Colour</th>\n",
              "      <th>Subject_Car_Make</th>\n",
              "      <th>LGA_Name</th>\n",
              "      <th>State</th>\n",
              "      <th>ProductName</th>\n",
              "      <th>target</th>\n",
              "    </tr>\n",
              "  </thead>\n",
              "  <tbody>\n",
              "    <tr>\n",
              "      <th>0</th>\n",
              "      <td>0040R73</td>\n",
              "      <td>2010-05-14</td>\n",
              "      <td>2011-05-13</td>\n",
              "      <td>Male</td>\n",
              "      <td>30</td>\n",
              "      <td>2010-05-14</td>\n",
              "      <td>1</td>\n",
              "      <td>Saloon</td>\n",
              "      <td>Black</td>\n",
              "      <td>TOYOTA</td>\n",
              "      <td>NaN</td>\n",
              "      <td>NaN</td>\n",
              "      <td>Car Classic</td>\n",
              "      <td>0.0</td>\n",
              "    </tr>\n",
              "    <tr>\n",
              "      <th>1</th>\n",
              "      <td>0046BNK</td>\n",
              "      <td>2010-11-29</td>\n",
              "      <td>2011-11-28</td>\n",
              "      <td>Female</td>\n",
              "      <td>79</td>\n",
              "      <td>2010-11-29</td>\n",
              "      <td>1</td>\n",
              "      <td>JEEP</td>\n",
              "      <td>Grey</td>\n",
              "      <td>TOYOTA</td>\n",
              "      <td>NaN</td>\n",
              "      <td>NaN</td>\n",
              "      <td>Car Classic</td>\n",
              "      <td>1.0</td>\n",
              "    </tr>\n",
              "    <tr>\n",
              "      <th>2</th>\n",
              "      <td>005QMC3</td>\n",
              "      <td>2010-03-21</td>\n",
              "      <td>2011-03-20</td>\n",
              "      <td>Male</td>\n",
              "      <td>43</td>\n",
              "      <td>2010-03-21</td>\n",
              "      <td>1</td>\n",
              "      <td>Saloon</td>\n",
              "      <td>Red</td>\n",
              "      <td>TOYOTA</td>\n",
              "      <td>NaN</td>\n",
              "      <td>NaN</td>\n",
              "      <td>Car Classic</td>\n",
              "      <td>0.0</td>\n",
              "    </tr>\n",
              "    <tr>\n",
              "      <th>3</th>\n",
              "      <td>0079OHW</td>\n",
              "      <td>2010-08-21</td>\n",
              "      <td>2011-08-20</td>\n",
              "      <td>Male</td>\n",
              "      <td>2</td>\n",
              "      <td>2010-08-21</td>\n",
              "      <td>1</td>\n",
              "      <td>NaN</td>\n",
              "      <td>NaN</td>\n",
              "      <td>NaN</td>\n",
              "      <td>NaN</td>\n",
              "      <td>NaN</td>\n",
              "      <td>CarSafe</td>\n",
              "      <td>0.0</td>\n",
              "    </tr>\n",
              "    <tr>\n",
              "      <th>4</th>\n",
              "      <td>00BRP63</td>\n",
              "      <td>2010-08-29</td>\n",
              "      <td>2010-12-31</td>\n",
              "      <td>Entity</td>\n",
              "      <td>20</td>\n",
              "      <td>2010-08-29</td>\n",
              "      <td>3</td>\n",
              "      <td>NaN</td>\n",
              "      <td>NaN</td>\n",
              "      <td>NaN</td>\n",
              "      <td>Lagos</td>\n",
              "      <td>Lagos</td>\n",
              "      <td>Muuve</td>\n",
              "      <td>1.0</td>\n",
              "    </tr>\n",
              "  </tbody>\n",
              "</table>\n",
              "</div>"
            ],
            "text/plain": [
              "        ID Policy Start Date Policy End Date  ...  State  ProductName target\n",
              "0  0040R73        2010-05-14      2011-05-13  ...    NaN  Car Classic    0.0\n",
              "1  0046BNK        2010-11-29      2011-11-28  ...    NaN  Car Classic    1.0\n",
              "2  005QMC3        2010-03-21      2011-03-20  ...    NaN  Car Classic    0.0\n",
              "3  0079OHW        2010-08-21      2011-08-20  ...    NaN      CarSafe    0.0\n",
              "4  00BRP63        2010-08-29      2010-12-31  ...  Lagos        Muuve    1.0\n",
              "\n",
              "[5 rows x 14 columns]"
            ]
          },
          "metadata": {
            "tags": []
          },
          "execution_count": 599
        }
      ]
    },
    {
      "cell_type": "code",
      "metadata": {
        "trusted": true,
        "id": "iaQ95nPpESFC"
      },
      "source": [
        "def check_categorical_relationship(cat_col,y_col,df):\n",
        "    for feat in cat_col:\n",
        "        plt.figure(figsize=(20,5))\n",
        "        sns.barplot(df[feat],df[y_col])\n",
        "        plt.show()\n",
        "        print(\"\\n \\n \\n \")"
      ],
      "execution_count": 600,
      "outputs": []
    },
    {
      "cell_type": "code",
      "metadata": {
        "trusted": true,
        "id": "w8RS-eXbESFC",
        "colab": {
          "base_uri": "https://localhost:8080/"
        },
        "outputId": "8eebb166-c722-4e1d-c289-4643917b45cc"
      },
      "source": [
        "all_data.Gender.unique()"
      ],
      "execution_count": 601,
      "outputs": [
        {
          "output_type": "execute_result",
          "data": {
            "text/plain": [
              "array(['Male', 'Female', 'Entity', 'Joint Gender', nan, 'NO GENDER',\n",
              "       'NOT STATED', 'SEX'], dtype=object)"
            ]
          },
          "metadata": {
            "tags": []
          },
          "execution_count": 601
        }
      ]
    },
    {
      "cell_type": "markdown",
      "metadata": {
        "id": "fzf0PTy7ESFC"
      },
      "source": [
        "# Basic Data preprocessing "
      ]
    },
    {
      "cell_type": "code",
      "metadata": {
        "trusted": true,
        "id": "xln3C18GESFC",
        "colab": {
          "base_uri": "https://localhost:8080/"
        },
        "outputId": "f19c372c-dc53-4e8c-9099-0be3ba454204"
      },
      "source": [
        "train.columns"
      ],
      "execution_count": 602,
      "outputs": [
        {
          "output_type": "execute_result",
          "data": {
            "text/plain": [
              "Index(['ID', 'Policy Start Date', 'Policy End Date', 'Gender', 'Age',\n",
              "       'First Transaction Date', 'No_Pol', 'Car_Category',\n",
              "       'Subject_Car_Colour', 'Subject_Car_Make', 'LGA_Name', 'State',\n",
              "       'ProductName', 'target', 'ProductName_count'],\n",
              "      dtype='object')"
            ]
          },
          "metadata": {
            "tags": []
          },
          "execution_count": 602
        }
      ]
    },
    {
      "cell_type": "markdown",
      "metadata": {
        "id": "xf22XDRCESFD"
      },
      "source": [
        "### fill mising value"
      ]
    },
    {
      "cell_type": "code",
      "metadata": {
        "trusted": true,
        "id": "8IeCIiN4ESFD",
        "colab": {
          "base_uri": "https://localhost:8080/",
          "height": 339
        },
        "outputId": "ff53eb3d-a804-4342-a874-a89a3bf78f2f"
      },
      "source": [
        "all_data = all_data.fillna(9999)\n",
        "all_data.head()"
      ],
      "execution_count": 603,
      "outputs": [
        {
          "output_type": "execute_result",
          "data": {
            "text/html": [
              "<div>\n",
              "<style scoped>\n",
              "    .dataframe tbody tr th:only-of-type {\n",
              "        vertical-align: middle;\n",
              "    }\n",
              "\n",
              "    .dataframe tbody tr th {\n",
              "        vertical-align: top;\n",
              "    }\n",
              "\n",
              "    .dataframe thead th {\n",
              "        text-align: right;\n",
              "    }\n",
              "</style>\n",
              "<table border=\"1\" class=\"dataframe\">\n",
              "  <thead>\n",
              "    <tr style=\"text-align: right;\">\n",
              "      <th></th>\n",
              "      <th>ID</th>\n",
              "      <th>Policy Start Date</th>\n",
              "      <th>Policy End Date</th>\n",
              "      <th>Gender</th>\n",
              "      <th>Age</th>\n",
              "      <th>First Transaction Date</th>\n",
              "      <th>No_Pol</th>\n",
              "      <th>Car_Category</th>\n",
              "      <th>Subject_Car_Colour</th>\n",
              "      <th>Subject_Car_Make</th>\n",
              "      <th>LGA_Name</th>\n",
              "      <th>State</th>\n",
              "      <th>ProductName</th>\n",
              "      <th>target</th>\n",
              "    </tr>\n",
              "  </thead>\n",
              "  <tbody>\n",
              "    <tr>\n",
              "      <th>0</th>\n",
              "      <td>0040R73</td>\n",
              "      <td>2010-05-14</td>\n",
              "      <td>2011-05-13</td>\n",
              "      <td>Male</td>\n",
              "      <td>30</td>\n",
              "      <td>2010-05-14</td>\n",
              "      <td>1</td>\n",
              "      <td>Saloon</td>\n",
              "      <td>Black</td>\n",
              "      <td>TOYOTA</td>\n",
              "      <td>9999</td>\n",
              "      <td>9999</td>\n",
              "      <td>Car Classic</td>\n",
              "      <td>0.0</td>\n",
              "    </tr>\n",
              "    <tr>\n",
              "      <th>1</th>\n",
              "      <td>0046BNK</td>\n",
              "      <td>2010-11-29</td>\n",
              "      <td>2011-11-28</td>\n",
              "      <td>Female</td>\n",
              "      <td>79</td>\n",
              "      <td>2010-11-29</td>\n",
              "      <td>1</td>\n",
              "      <td>JEEP</td>\n",
              "      <td>Grey</td>\n",
              "      <td>TOYOTA</td>\n",
              "      <td>9999</td>\n",
              "      <td>9999</td>\n",
              "      <td>Car Classic</td>\n",
              "      <td>1.0</td>\n",
              "    </tr>\n",
              "    <tr>\n",
              "      <th>2</th>\n",
              "      <td>005QMC3</td>\n",
              "      <td>2010-03-21</td>\n",
              "      <td>2011-03-20</td>\n",
              "      <td>Male</td>\n",
              "      <td>43</td>\n",
              "      <td>2010-03-21</td>\n",
              "      <td>1</td>\n",
              "      <td>Saloon</td>\n",
              "      <td>Red</td>\n",
              "      <td>TOYOTA</td>\n",
              "      <td>9999</td>\n",
              "      <td>9999</td>\n",
              "      <td>Car Classic</td>\n",
              "      <td>0.0</td>\n",
              "    </tr>\n",
              "    <tr>\n",
              "      <th>3</th>\n",
              "      <td>0079OHW</td>\n",
              "      <td>2010-08-21</td>\n",
              "      <td>2011-08-20</td>\n",
              "      <td>Male</td>\n",
              "      <td>2</td>\n",
              "      <td>2010-08-21</td>\n",
              "      <td>1</td>\n",
              "      <td>9999</td>\n",
              "      <td>9999</td>\n",
              "      <td>9999</td>\n",
              "      <td>9999</td>\n",
              "      <td>9999</td>\n",
              "      <td>CarSafe</td>\n",
              "      <td>0.0</td>\n",
              "    </tr>\n",
              "    <tr>\n",
              "      <th>4</th>\n",
              "      <td>00BRP63</td>\n",
              "      <td>2010-08-29</td>\n",
              "      <td>2010-12-31</td>\n",
              "      <td>Entity</td>\n",
              "      <td>20</td>\n",
              "      <td>2010-08-29</td>\n",
              "      <td>3</td>\n",
              "      <td>9999</td>\n",
              "      <td>9999</td>\n",
              "      <td>9999</td>\n",
              "      <td>Lagos</td>\n",
              "      <td>Lagos</td>\n",
              "      <td>Muuve</td>\n",
              "      <td>1.0</td>\n",
              "    </tr>\n",
              "  </tbody>\n",
              "</table>\n",
              "</div>"
            ],
            "text/plain": [
              "        ID Policy Start Date Policy End Date  ...  State  ProductName target\n",
              "0  0040R73        2010-05-14      2011-05-13  ...   9999  Car Classic    0.0\n",
              "1  0046BNK        2010-11-29      2011-11-28  ...   9999  Car Classic    1.0\n",
              "2  005QMC3        2010-03-21      2011-03-20  ...   9999  Car Classic    0.0\n",
              "3  0079OHW        2010-08-21      2011-08-20  ...   9999      CarSafe    0.0\n",
              "4  00BRP63        2010-08-29      2010-12-31  ...  Lagos        Muuve    1.0\n",
              "\n",
              "[5 rows x 14 columns]"
            ]
          },
          "metadata": {
            "tags": []
          },
          "execution_count": 603
        }
      ]
    },
    {
      "cell_type": "code",
      "metadata": {
        "trusted": true,
        "id": "20n7Ct1lESFD",
        "colab": {
          "base_uri": "https://localhost:8080/"
        },
        "outputId": "b2517b4a-2322-477e-aa81-dd36e84ad884"
      },
      "source": [
        "print(\"Are There still Missing value in data? :\",all_data.isnull().any().any())\n",
        "print((all_data.isnull().sum()/all_data.shape[0])*100)"
      ],
      "execution_count": 604,
      "outputs": [
        {
          "output_type": "stream",
          "text": [
            "Are There still Missing value in data? : False\n",
            "ID                        0.0\n",
            "Policy Start Date         0.0\n",
            "Policy End Date           0.0\n",
            "Gender                    0.0\n",
            "Age                       0.0\n",
            "First Transaction Date    0.0\n",
            "No_Pol                    0.0\n",
            "Car_Category              0.0\n",
            "Subject_Car_Colour        0.0\n",
            "Subject_Car_Make          0.0\n",
            "LGA_Name                  0.0\n",
            "State                     0.0\n",
            "ProductName               0.0\n",
            "target                    0.0\n",
            "dtype: float64\n"
          ],
          "name": "stdout"
        }
      ]
    },
    {
      "cell_type": "markdown",
      "metadata": {
        "id": "-x-vsQISESFD"
      },
      "source": [
        "### date features"
      ]
    },
    {
      "cell_type": "code",
      "metadata": {
        "trusted": true,
        "id": "oI04odhXESFD",
        "colab": {
          "base_uri": "https://localhost:8080/"
        },
        "outputId": "e5621c0a-8e33-4b2b-eb80-7abd66958bda"
      },
      "source": [
        "date_col"
      ],
      "execution_count": 605,
      "outputs": [
        {
          "output_type": "execute_result",
          "data": {
            "text/plain": [
              "['Policy Start Date', 'Policy End Date', 'First Transaction Date']"
            ]
          },
          "metadata": {
            "tags": []
          },
          "execution_count": 605
        }
      ]
    },
    {
      "cell_type": "code",
      "metadata": {
        "trusted": true,
        "id": "8acNOauqESFE"
      },
      "source": [
        "for feat in date_col:\n",
        "    all_data[feat] = pd.to_datetime(all_data[feat])"
      ],
      "execution_count": 606,
      "outputs": []
    },
    {
      "cell_type": "code",
      "metadata": {
        "trusted": true,
        "id": "x6ixCKXaESFE",
        "colab": {
          "base_uri": "https://localhost:8080/"
        },
        "outputId": "372f48e3-2486-45ff-f0af-6d14d4cd40d4"
      },
      "source": [
        "all_data.info()"
      ],
      "execution_count": 607,
      "outputs": [
        {
          "output_type": "stream",
          "text": [
            "<class 'pandas.core.frame.DataFrame'>\n",
            "RangeIndex: 17256 entries, 0 to 17255\n",
            "Data columns (total 14 columns):\n",
            " #   Column                  Non-Null Count  Dtype         \n",
            "---  ------                  --------------  -----         \n",
            " 0   ID                      17256 non-null  object        \n",
            " 1   Policy Start Date       17256 non-null  datetime64[ns]\n",
            " 2   Policy End Date         17256 non-null  datetime64[ns]\n",
            " 3   Gender                  17256 non-null  object        \n",
            " 4   Age                     17256 non-null  int64         \n",
            " 5   First Transaction Date  17256 non-null  datetime64[ns]\n",
            " 6   No_Pol                  17256 non-null  int64         \n",
            " 7   Car_Category            17256 non-null  object        \n",
            " 8   Subject_Car_Colour      17256 non-null  object        \n",
            " 9   Subject_Car_Make        17256 non-null  object        \n",
            " 10  LGA_Name                17256 non-null  object        \n",
            " 11  State                   17256 non-null  object        \n",
            " 12  ProductName             17256 non-null  object        \n",
            " 13  target                  17256 non-null  float64       \n",
            "dtypes: datetime64[ns](3), float64(1), int64(2), object(8)\n",
            "memory usage: 1.8+ MB\n"
          ],
          "name": "stdout"
        }
      ]
    },
    {
      "cell_type": "code",
      "metadata": {
        "trusted": true,
        "id": "Cj1KkJstESFE"
      },
      "source": [
        "from datetime import date"
      ],
      "execution_count": 608,
      "outputs": []
    },
    {
      "cell_type": "code",
      "metadata": {
        "trusted": true,
        "id": "1gCWBnqSESFE"
      },
      "source": [
        "def extract_date_info(df,cols,):\n",
        "    for feat in cols:\n",
        "        df[feat +'_year'] = df[feat].dt.quarter\n",
        "        df[feat +'_day'] = df[feat].dt.day\n",
        "        df[feat +'_month'] = df[feat].dt.month\n",
        "       # df[feat +'_quarter'] = df[feat].dt.quarter\n",
        "    df.drop(columns=date_col,axis=1,inplace=True)\n"
      ],
      "execution_count": 609,
      "outputs": []
    },
    {
      "cell_type": "code",
      "metadata": {
        "trusted": true,
        "id": "7h5eMlKyESFE"
      },
      "source": [
        "extract_date_info(all_data,date_col)"
      ],
      "execution_count": 610,
      "outputs": []
    },
    {
      "cell_type": "code",
      "metadata": {
        "trusted": true,
        "id": "uMduujNPESFE",
        "colab": {
          "base_uri": "https://localhost:8080/",
          "height": 479
        },
        "outputId": "b6ab49ad-4dad-42de-d31c-f823e5fe1b55"
      },
      "source": [
        "all_data"
      ],
      "execution_count": 611,
      "outputs": [
        {
          "output_type": "execute_result",
          "data": {
            "text/html": [
              "<div>\n",
              "<style scoped>\n",
              "    .dataframe tbody tr th:only-of-type {\n",
              "        vertical-align: middle;\n",
              "    }\n",
              "\n",
              "    .dataframe tbody tr th {\n",
              "        vertical-align: top;\n",
              "    }\n",
              "\n",
              "    .dataframe thead th {\n",
              "        text-align: right;\n",
              "    }\n",
              "</style>\n",
              "<table border=\"1\" class=\"dataframe\">\n",
              "  <thead>\n",
              "    <tr style=\"text-align: right;\">\n",
              "      <th></th>\n",
              "      <th>ID</th>\n",
              "      <th>Gender</th>\n",
              "      <th>Age</th>\n",
              "      <th>No_Pol</th>\n",
              "      <th>Car_Category</th>\n",
              "      <th>Subject_Car_Colour</th>\n",
              "      <th>Subject_Car_Make</th>\n",
              "      <th>LGA_Name</th>\n",
              "      <th>State</th>\n",
              "      <th>ProductName</th>\n",
              "      <th>target</th>\n",
              "      <th>Policy Start Date_year</th>\n",
              "      <th>Policy Start Date_day</th>\n",
              "      <th>Policy Start Date_month</th>\n",
              "      <th>Policy End Date_year</th>\n",
              "      <th>Policy End Date_day</th>\n",
              "      <th>Policy End Date_month</th>\n",
              "      <th>First Transaction Date_year</th>\n",
              "      <th>First Transaction Date_day</th>\n",
              "      <th>First Transaction Date_month</th>\n",
              "    </tr>\n",
              "  </thead>\n",
              "  <tbody>\n",
              "    <tr>\n",
              "      <th>0</th>\n",
              "      <td>0040R73</td>\n",
              "      <td>Male</td>\n",
              "      <td>30</td>\n",
              "      <td>1</td>\n",
              "      <td>Saloon</td>\n",
              "      <td>Black</td>\n",
              "      <td>TOYOTA</td>\n",
              "      <td>9999</td>\n",
              "      <td>9999</td>\n",
              "      <td>Car Classic</td>\n",
              "      <td>0.0</td>\n",
              "      <td>2</td>\n",
              "      <td>14</td>\n",
              "      <td>5</td>\n",
              "      <td>2</td>\n",
              "      <td>13</td>\n",
              "      <td>5</td>\n",
              "      <td>2</td>\n",
              "      <td>14</td>\n",
              "      <td>5</td>\n",
              "    </tr>\n",
              "    <tr>\n",
              "      <th>1</th>\n",
              "      <td>0046BNK</td>\n",
              "      <td>Female</td>\n",
              "      <td>79</td>\n",
              "      <td>1</td>\n",
              "      <td>JEEP</td>\n",
              "      <td>Grey</td>\n",
              "      <td>TOYOTA</td>\n",
              "      <td>9999</td>\n",
              "      <td>9999</td>\n",
              "      <td>Car Classic</td>\n",
              "      <td>1.0</td>\n",
              "      <td>4</td>\n",
              "      <td>29</td>\n",
              "      <td>11</td>\n",
              "      <td>4</td>\n",
              "      <td>28</td>\n",
              "      <td>11</td>\n",
              "      <td>4</td>\n",
              "      <td>29</td>\n",
              "      <td>11</td>\n",
              "    </tr>\n",
              "    <tr>\n",
              "      <th>2</th>\n",
              "      <td>005QMC3</td>\n",
              "      <td>Male</td>\n",
              "      <td>43</td>\n",
              "      <td>1</td>\n",
              "      <td>Saloon</td>\n",
              "      <td>Red</td>\n",
              "      <td>TOYOTA</td>\n",
              "      <td>9999</td>\n",
              "      <td>9999</td>\n",
              "      <td>Car Classic</td>\n",
              "      <td>0.0</td>\n",
              "      <td>1</td>\n",
              "      <td>21</td>\n",
              "      <td>3</td>\n",
              "      <td>1</td>\n",
              "      <td>20</td>\n",
              "      <td>3</td>\n",
              "      <td>1</td>\n",
              "      <td>21</td>\n",
              "      <td>3</td>\n",
              "    </tr>\n",
              "    <tr>\n",
              "      <th>3</th>\n",
              "      <td>0079OHW</td>\n",
              "      <td>Male</td>\n",
              "      <td>2</td>\n",
              "      <td>1</td>\n",
              "      <td>9999</td>\n",
              "      <td>9999</td>\n",
              "      <td>9999</td>\n",
              "      <td>9999</td>\n",
              "      <td>9999</td>\n",
              "      <td>CarSafe</td>\n",
              "      <td>0.0</td>\n",
              "      <td>3</td>\n",
              "      <td>21</td>\n",
              "      <td>8</td>\n",
              "      <td>3</td>\n",
              "      <td>20</td>\n",
              "      <td>8</td>\n",
              "      <td>3</td>\n",
              "      <td>21</td>\n",
              "      <td>8</td>\n",
              "    </tr>\n",
              "    <tr>\n",
              "      <th>4</th>\n",
              "      <td>00BRP63</td>\n",
              "      <td>Entity</td>\n",
              "      <td>20</td>\n",
              "      <td>3</td>\n",
              "      <td>9999</td>\n",
              "      <td>9999</td>\n",
              "      <td>9999</td>\n",
              "      <td>Lagos</td>\n",
              "      <td>Lagos</td>\n",
              "      <td>Muuve</td>\n",
              "      <td>1.0</td>\n",
              "      <td>3</td>\n",
              "      <td>29</td>\n",
              "      <td>8</td>\n",
              "      <td>4</td>\n",
              "      <td>31</td>\n",
              "      <td>12</td>\n",
              "      <td>3</td>\n",
              "      <td>29</td>\n",
              "      <td>8</td>\n",
              "    </tr>\n",
              "    <tr>\n",
              "      <th>...</th>\n",
              "      <td>...</td>\n",
              "      <td>...</td>\n",
              "      <td>...</td>\n",
              "      <td>...</td>\n",
              "      <td>...</td>\n",
              "      <td>...</td>\n",
              "      <td>...</td>\n",
              "      <td>...</td>\n",
              "      <td>...</td>\n",
              "      <td>...</td>\n",
              "      <td>...</td>\n",
              "      <td>...</td>\n",
              "      <td>...</td>\n",
              "      <td>...</td>\n",
              "      <td>...</td>\n",
              "      <td>...</td>\n",
              "      <td>...</td>\n",
              "      <td>...</td>\n",
              "      <td>...</td>\n",
              "      <td>...</td>\n",
              "    </tr>\n",
              "    <tr>\n",
              "      <th>17251</th>\n",
              "      <td>ZYXX5AF</td>\n",
              "      <td>Male</td>\n",
              "      <td>48</td>\n",
              "      <td>1</td>\n",
              "      <td>Saloon</td>\n",
              "      <td>9999</td>\n",
              "      <td>Honda</td>\n",
              "      <td>9999</td>\n",
              "      <td>9999</td>\n",
              "      <td>CarSafe</td>\n",
              "      <td>9999.0</td>\n",
              "      <td>3</td>\n",
              "      <td>18</td>\n",
              "      <td>7</td>\n",
              "      <td>3</td>\n",
              "      <td>17</td>\n",
              "      <td>7</td>\n",
              "      <td>3</td>\n",
              "      <td>18</td>\n",
              "      <td>7</td>\n",
              "    </tr>\n",
              "    <tr>\n",
              "      <th>17252</th>\n",
              "      <td>ZYYOZ5L</td>\n",
              "      <td>9999</td>\n",
              "      <td>50</td>\n",
              "      <td>1</td>\n",
              "      <td>9999</td>\n",
              "      <td>9999</td>\n",
              "      <td>9999</td>\n",
              "      <td>Victoria Island</td>\n",
              "      <td>Lagos</td>\n",
              "      <td>Car Classic</td>\n",
              "      <td>9999.0</td>\n",
              "      <td>4</td>\n",
              "      <td>4</td>\n",
              "      <td>12</td>\n",
              "      <td>4</td>\n",
              "      <td>3</td>\n",
              "      <td>12</td>\n",
              "      <td>4</td>\n",
              "      <td>4</td>\n",
              "      <td>12</td>\n",
              "    </tr>\n",
              "    <tr>\n",
              "      <th>17253</th>\n",
              "      <td>ZZ1GTKD</td>\n",
              "      <td>Male</td>\n",
              "      <td>1</td>\n",
              "      <td>1</td>\n",
              "      <td>9999</td>\n",
              "      <td>9999</td>\n",
              "      <td>9999</td>\n",
              "      <td>9999</td>\n",
              "      <td>9999</td>\n",
              "      <td>CarSafe</td>\n",
              "      <td>9999.0</td>\n",
              "      <td>3</td>\n",
              "      <td>24</td>\n",
              "      <td>9</td>\n",
              "      <td>3</td>\n",
              "      <td>23</td>\n",
              "      <td>9</td>\n",
              "      <td>3</td>\n",
              "      <td>24</td>\n",
              "      <td>9</td>\n",
              "    </tr>\n",
              "    <tr>\n",
              "      <th>17254</th>\n",
              "      <td>ZZDXQSI</td>\n",
              "      <td>Female</td>\n",
              "      <td>52</td>\n",
              "      <td>1</td>\n",
              "      <td>Saloon</td>\n",
              "      <td>Grey</td>\n",
              "      <td>TOYOTA</td>\n",
              "      <td>9999</td>\n",
              "      <td>9999</td>\n",
              "      <td>Car Classic</td>\n",
              "      <td>9999.0</td>\n",
              "      <td>3</td>\n",
              "      <td>17</td>\n",
              "      <td>7</td>\n",
              "      <td>3</td>\n",
              "      <td>16</td>\n",
              "      <td>7</td>\n",
              "      <td>3</td>\n",
              "      <td>17</td>\n",
              "      <td>7</td>\n",
              "    </tr>\n",
              "    <tr>\n",
              "      <th>17255</th>\n",
              "      <td>ZZYTLV1</td>\n",
              "      <td>Male</td>\n",
              "      <td>68</td>\n",
              "      <td>1</td>\n",
              "      <td>Saloon</td>\n",
              "      <td>9999</td>\n",
              "      <td>Peugeot</td>\n",
              "      <td>9999</td>\n",
              "      <td>9999</td>\n",
              "      <td>CarSafe</td>\n",
              "      <td>9999.0</td>\n",
              "      <td>3</td>\n",
              "      <td>17</td>\n",
              "      <td>7</td>\n",
              "      <td>3</td>\n",
              "      <td>16</td>\n",
              "      <td>7</td>\n",
              "      <td>3</td>\n",
              "      <td>17</td>\n",
              "      <td>7</td>\n",
              "    </tr>\n",
              "  </tbody>\n",
              "</table>\n",
              "<p>17256 rows × 20 columns</p>\n",
              "</div>"
            ],
            "text/plain": [
              "            ID  ... First Transaction Date_month\n",
              "0      0040R73  ...                            5\n",
              "1      0046BNK  ...                           11\n",
              "2      005QMC3  ...                            3\n",
              "3      0079OHW  ...                            8\n",
              "4      00BRP63  ...                            8\n",
              "...        ...  ...                          ...\n",
              "17251  ZYXX5AF  ...                            7\n",
              "17252  ZYYOZ5L  ...                           12\n",
              "17253  ZZ1GTKD  ...                            9\n",
              "17254  ZZDXQSI  ...                            7\n",
              "17255  ZZYTLV1  ...                            7\n",
              "\n",
              "[17256 rows x 20 columns]"
            ]
          },
          "metadata": {
            "tags": []
          },
          "execution_count": 611
        }
      ]
    },
    {
      "cell_type": "code",
      "metadata": {
        "trusted": true,
        "id": "ZVX3aCIPESFF"
      },
      "source": [
        "mode=all_data.Age.mean()"
      ],
      "execution_count": 612,
      "outputs": []
    },
    {
      "cell_type": "code",
      "metadata": {
        "trusted": true,
        "id": "VW02xsJNESFF",
        "colab": {
          "base_uri": "https://localhost:8080/"
        },
        "outputId": "d7e385bc-d15a-47a0-bd0c-44903e026b16"
      },
      "source": [
        "all_data.Gender.value_counts()"
      ],
      "execution_count": 613,
      "outputs": [
        {
          "output_type": "execute_result",
          "data": {
            "text/plain": [
              "Male            10888\n",
              "Female           4735\n",
              "9999              515\n",
              "Entity            413\n",
              "Joint Gender      306\n",
              "NOT STATED        244\n",
              "NO GENDER         101\n",
              "SEX                54\n",
              "Name: Gender, dtype: int64"
            ]
          },
          "metadata": {
            "tags": []
          },
          "execution_count": 613
        }
      ]
    },
    {
      "cell_type": "code",
      "metadata": {
        "trusted": true,
        "id": "KdkUCrFbESFF",
        "colab": {
          "base_uri": "https://localhost:8080/"
        },
        "outputId": "423bc91f-9712-48b7-8fb8-02f9b28bf98b"
      },
      "source": [
        "all_data.Gender.unique()"
      ],
      "execution_count": 614,
      "outputs": [
        {
          "output_type": "execute_result",
          "data": {
            "text/plain": [
              "array(['Male', 'Female', 'Entity', 'Joint Gender', 9999, 'NO GENDER',\n",
              "       'NOT STATED', 'SEX'], dtype=object)"
            ]
          },
          "metadata": {
            "tags": []
          },
          "execution_count": 614
        }
      ]
    },
    {
      "cell_type": "code",
      "metadata": {
        "trusted": true,
        "id": "JjsqA3SKESFF"
      },
      "source": [
        "mapper = {\"Male\":\"M\",\"Female\":'F','Entity':'O','Joint Gender':'O',9999:'O','NO GENDER':'O','NOT STATED':'O','SEX':'O','rare':0 }"
      ],
      "execution_count": 615,
      "outputs": []
    },
    {
      "cell_type": "code",
      "metadata": {
        "trusted": true,
        "id": "ENJPQIz_ESFF"
      },
      "source": [
        "all_data.Gender = all_data.Gender.map(mapper)"
      ],
      "execution_count": 616,
      "outputs": []
    },
    {
      "cell_type": "code",
      "metadata": {
        "trusted": true,
        "id": "ELNDRk3QESFG",
        "colab": {
          "base_uri": "https://localhost:8080/"
        },
        "outputId": "558aebd3-087c-4c9f-d997-1685efc96878"
      },
      "source": [
        "all_data.Gender.unique()"
      ],
      "execution_count": 617,
      "outputs": [
        {
          "output_type": "execute_result",
          "data": {
            "text/plain": [
              "array(['M', 'F', 'O'], dtype=object)"
            ]
          },
          "metadata": {
            "tags": []
          },
          "execution_count": 617
        }
      ]
    },
    {
      "cell_type": "code",
      "metadata": {
        "trusted": true,
        "id": "AXqU1Q8MESFG"
      },
      "source": [
        "al_data=pd.get_dummies(all_data,columns=cat_col)"
      ],
      "execution_count": 618,
      "outputs": []
    },
    {
      "cell_type": "markdown",
      "metadata": {
        "id": "ep_4JZxuESFG"
      },
      "source": [
        "# Creat Base model "
      ]
    },
    {
      "cell_type": "code",
      "metadata": {
        "trusted": true,
        "id": "Hir-Uc62ESFG"
      },
      "source": [
        "all_data.target = all_data.target.astype(int)\n",
        "al_data.target = al_data.target.astype(int)"
      ],
      "execution_count": 619,
      "outputs": []
    },
    {
      "cell_type": "code",
      "metadata": {
        "trusted": true,
        "id": "MAuH81bHESFG"
      },
      "source": [
        "#all_data.drop(columns=['ID'],inplace=True)\n",
        "al_data.drop(columns=['ID'],inplace=True)"
      ],
      "execution_count": 620,
      "outputs": []
    },
    {
      "cell_type": "code",
      "metadata": {
        "trusted": true,
        "id": "vIqYSRhCESFG"
      },
      "source": [
        "#Get the new dataset\n",
        "train_n = al_data[:ntrain]\n",
        "test_n = al_data[ntrain:]"
      ],
      "execution_count": 621,
      "outputs": []
    },
    {
      "cell_type": "code",
      "metadata": {
        "trusted": true,
        "id": "HjyICsyoESFG"
      },
      "source": [
        "test_n.drop(\"target\",axis = 1,inplace = True)"
      ],
      "execution_count": 622,
      "outputs": []
    },
    {
      "cell_type": "code",
      "metadata": {
        "trusted": true,
        "id": "BuQdduURESFG"
      },
      "source": [
        "X= train_n.drop(columns=['target'])\n",
        "y= train_n.target"
      ],
      "execution_count": 623,
      "outputs": []
    },
    {
      "cell_type": "code",
      "metadata": {
        "colab": {
          "base_uri": "https://localhost:8080/"
        },
        "id": "GhxykW1QD1F9",
        "outputId": "a76873c5-7637-4018-9cdd-f2a4f7a8cabd"
      },
      "source": [
        "!pip install lightgbm"
      ],
      "execution_count": 624,
      "outputs": [
        {
          "output_type": "stream",
          "text": [
            "Requirement already satisfied: lightgbm in /usr/local/lib/python3.6/dist-packages (2.2.3)\n",
            "Requirement already satisfied: scikit-learn in /usr/local/lib/python3.6/dist-packages (from lightgbm) (0.22.2.post1)\n",
            "Requirement already satisfied: numpy in /usr/local/lib/python3.6/dist-packages (from lightgbm) (1.18.5)\n",
            "Requirement already satisfied: scipy in /usr/local/lib/python3.6/dist-packages (from lightgbm) (1.4.1)\n",
            "Requirement already satisfied: joblib>=0.11 in /usr/local/lib/python3.6/dist-packages (from scikit-learn->lightgbm) (0.17.0)\n"
          ],
          "name": "stdout"
        }
      ]
    },
    {
      "cell_type": "code",
      "metadata": {
        "colab": {
          "base_uri": "https://localhost:8080/"
        },
        "id": "jpCZCbnQG4k7",
        "outputId": "c951c4da-8904-409f-a527-b606dcefd9a1"
      },
      "source": [
        "import lightgbm as lgb   \n",
        "model = lgb.LGBMClassifier(random_state=42,n_estimators=1000,silent=False,\n",
        "                           scale_pos_weight= 3,colsample_bylevel=0.8,subsample=0.8)  #9\n",
        "model.fit(X,y)"
      ],
      "execution_count": 625,
      "outputs": [
        {
          "output_type": "execute_result",
          "data": {
            "text/plain": [
              "LGBMClassifier(boosting_type='gbdt', class_weight=None, colsample_bylevel=0.8,\n",
              "               colsample_bytree=1.0, importance_type='split', learning_rate=0.1,\n",
              "               max_depth=-1, min_child_samples=20, min_child_weight=0.001,\n",
              "               min_split_gain=0.0, n_estimators=1000, n_jobs=-1, num_leaves=31,\n",
              "               objective=None, random_state=42, reg_alpha=0.0, reg_lambda=0.0,\n",
              "               scale_pos_weight=3, silent=False, subsample=0.8,\n",
              "               subsample_for_bin=200000, subsample_freq=0)"
            ]
          },
          "metadata": {
            "tags": []
          },
          "execution_count": 625
        }
      ]
    },
    {
      "cell_type": "code",
      "metadata": {
        "colab": {
          "base_uri": "https://localhost:8080/",
          "height": 948
        },
        "id": "48pPLY7CG4g6",
        "outputId": "e5f4a0f4-2ad1-479a-e260-7a803ec0b411"
      },
      "source": [
        "fea_imp = pd.DataFrame({'imp': model.feature_importances_, 'col': X.columns})\n",
        "fea_imp.sort_values(by='imp',ascending=False,inplace=True)\n",
        "fea_imp.head(30)"
      ],
      "execution_count": 626,
      "outputs": [
        {
          "output_type": "execute_result",
          "data": {
            "text/html": [
              "<div>\n",
              "<style scoped>\n",
              "    .dataframe tbody tr th:only-of-type {\n",
              "        vertical-align: middle;\n",
              "    }\n",
              "\n",
              "    .dataframe tbody tr th {\n",
              "        vertical-align: top;\n",
              "    }\n",
              "\n",
              "    .dataframe thead th {\n",
              "        text-align: right;\n",
              "    }\n",
              "</style>\n",
              "<table border=\"1\" class=\"dataframe\">\n",
              "  <thead>\n",
              "    <tr style=\"text-align: right;\">\n",
              "      <th></th>\n",
              "      <th>imp</th>\n",
              "      <th>col</th>\n",
              "    </tr>\n",
              "  </thead>\n",
              "  <tbody>\n",
              "    <tr>\n",
              "      <th>0</th>\n",
              "      <td>5767</td>\n",
              "      <td>Age</td>\n",
              "    </tr>\n",
              "    <tr>\n",
              "      <th>5</th>\n",
              "      <td>3449</td>\n",
              "      <td>Policy End Date_day</td>\n",
              "    </tr>\n",
              "    <tr>\n",
              "      <th>2</th>\n",
              "      <td>3319</td>\n",
              "      <td>Policy Start Date_day</td>\n",
              "    </tr>\n",
              "    <tr>\n",
              "      <th>3</th>\n",
              "      <td>1771</td>\n",
              "      <td>Policy Start Date_month</td>\n",
              "    </tr>\n",
              "    <tr>\n",
              "      <th>6</th>\n",
              "      <td>1529</td>\n",
              "      <td>Policy End Date_month</td>\n",
              "    </tr>\n",
              "    <tr>\n",
              "      <th>1</th>\n",
              "      <td>814</td>\n",
              "      <td>Policy Start Date_year</td>\n",
              "    </tr>\n",
              "    <tr>\n",
              "      <th>154</th>\n",
              "      <td>681</td>\n",
              "      <td>Subject_Car_Make_TOYOTA</td>\n",
              "    </tr>\n",
              "    <tr>\n",
              "      <th>4</th>\n",
              "      <td>656</td>\n",
              "      <td>Policy End Date_year</td>\n",
              "    </tr>\n",
              "    <tr>\n",
              "      <th>11</th>\n",
              "      <td>602</td>\n",
              "      <td>Gender_M</td>\n",
              "    </tr>\n",
              "    <tr>\n",
              "      <th>38</th>\n",
              "      <td>575</td>\n",
              "      <td>Subject_Car_Colour_9999</td>\n",
              "    </tr>\n",
              "    <tr>\n",
              "      <th>30</th>\n",
              "      <td>549</td>\n",
              "      <td>Car_Category_Saloon</td>\n",
              "    </tr>\n",
              "    <tr>\n",
              "      <th>161</th>\n",
              "      <td>530</td>\n",
              "      <td>LGA_Name_9999</td>\n",
              "    </tr>\n",
              "    <tr>\n",
              "      <th>10</th>\n",
              "      <td>454</td>\n",
              "      <td>Gender_F</td>\n",
              "    </tr>\n",
              "    <tr>\n",
              "      <th>547</th>\n",
              "      <td>452</td>\n",
              "      <td>ProductName_Car Classic</td>\n",
              "    </tr>\n",
              "    <tr>\n",
              "      <th>43</th>\n",
              "      <td>411</td>\n",
              "      <td>Subject_Car_Colour_Black</td>\n",
              "    </tr>\n",
              "    <tr>\n",
              "      <th>507</th>\n",
              "      <td>391</td>\n",
              "      <td>State_Lagos</td>\n",
              "    </tr>\n",
              "    <tr>\n",
              "      <th>24</th>\n",
              "      <td>351</td>\n",
              "      <td>Car_Category_JEEP</td>\n",
              "    </tr>\n",
              "    <tr>\n",
              "      <th>14</th>\n",
              "      <td>299</td>\n",
              "      <td>No_Pol_2</td>\n",
              "    </tr>\n",
              "    <tr>\n",
              "      <th>13</th>\n",
              "      <td>288</td>\n",
              "      <td>No_Pol_1</td>\n",
              "    </tr>\n",
              "    <tr>\n",
              "      <th>21</th>\n",
              "      <td>257</td>\n",
              "      <td>Car_Category_9999</td>\n",
              "    </tr>\n",
              "    <tr>\n",
              "      <th>113</th>\n",
              "      <td>251</td>\n",
              "      <td>Subject_Car_Make_Honda</td>\n",
              "    </tr>\n",
              "    <tr>\n",
              "      <th>420</th>\n",
              "      <td>243</td>\n",
              "      <td>LGA_Name_Victoria Island</td>\n",
              "    </tr>\n",
              "    <tr>\n",
              "      <th>77</th>\n",
              "      <td>186</td>\n",
              "      <td>Subject_Car_Colour_Silver</td>\n",
              "    </tr>\n",
              "    <tr>\n",
              "      <th>129</th>\n",
              "      <td>180</td>\n",
              "      <td>Subject_Car_Make_Lexus</td>\n",
              "    </tr>\n",
              "    <tr>\n",
              "      <th>551</th>\n",
              "      <td>163</td>\n",
              "      <td>ProductName_CarSafe</td>\n",
              "    </tr>\n",
              "    <tr>\n",
              "      <th>85</th>\n",
              "      <td>160</td>\n",
              "      <td>Subject_Car_Make_9999</td>\n",
              "    </tr>\n",
              "    <tr>\n",
              "      <th>12</th>\n",
              "      <td>158</td>\n",
              "      <td>Gender_O</td>\n",
              "    </tr>\n",
              "    <tr>\n",
              "      <th>78</th>\n",
              "      <td>151</td>\n",
              "      <td>Subject_Car_Colour_White</td>\n",
              "    </tr>\n",
              "    <tr>\n",
              "      <th>552</th>\n",
              "      <td>145</td>\n",
              "      <td>ProductName_Customized Motor</td>\n",
              "    </tr>\n",
              "    <tr>\n",
              "      <th>285</th>\n",
              "      <td>136</td>\n",
              "      <td>LGA_Name_Ikeja</td>\n",
              "    </tr>\n",
              "  </tbody>\n",
              "</table>\n",
              "</div>"
            ],
            "text/plain": [
              "      imp                           col\n",
              "0    5767                           Age\n",
              "5    3449           Policy End Date_day\n",
              "2    3319         Policy Start Date_day\n",
              "3    1771       Policy Start Date_month\n",
              "6    1529         Policy End Date_month\n",
              "1     814        Policy Start Date_year\n",
              "154   681       Subject_Car_Make_TOYOTA\n",
              "4     656          Policy End Date_year\n",
              "11    602                      Gender_M\n",
              "38    575       Subject_Car_Colour_9999\n",
              "30    549           Car_Category_Saloon\n",
              "161   530                 LGA_Name_9999\n",
              "10    454                      Gender_F\n",
              "547   452       ProductName_Car Classic\n",
              "43    411      Subject_Car_Colour_Black\n",
              "507   391                   State_Lagos\n",
              "24    351             Car_Category_JEEP\n",
              "14    299                      No_Pol_2\n",
              "13    288                      No_Pol_1\n",
              "21    257             Car_Category_9999\n",
              "113   251        Subject_Car_Make_Honda\n",
              "420   243      LGA_Name_Victoria Island\n",
              "77    186     Subject_Car_Colour_Silver\n",
              "129   180        Subject_Car_Make_Lexus\n",
              "551   163           ProductName_CarSafe\n",
              "85    160         Subject_Car_Make_9999\n",
              "12    158                      Gender_O\n",
              "78    151      Subject_Car_Colour_White\n",
              "552   145  ProductName_Customized Motor\n",
              "285   136                LGA_Name_Ikeja"
            ]
          },
          "metadata": {
            "tags": []
          },
          "execution_count": 626
        }
      ]
    },
    {
      "cell_type": "code",
      "metadata": {
        "id": "-L181nViJb8u"
      },
      "source": [
        "index_to_use_later = test['ID'].values"
      ],
      "execution_count": 627,
      "outputs": []
    },
    {
      "cell_type": "code",
      "metadata": {
        "id": "PMOsvZcBG4bW"
      },
      "source": [
        "cols=list(X.columns)\n",
        "output= model.predict_proba(test_n[cols])"
      ],
      "execution_count": 628,
      "outputs": []
    },
    {
      "cell_type": "code",
      "metadata": {
        "id": "Pl-6B6fLIARV"
      },
      "source": [
        "submission_df = pd.DataFrame(columns=['ID','target'])    \n",
        "submission_df['ID'] = index_to_use_later\n",
        "submission_df['target'] = output[:,1]"
      ],
      "execution_count": 629,
      "outputs": []
    },
    {
      "cell_type": "code",
      "metadata": {
        "id": "KbxCTOPtIH-Z"
      },
      "source": [
        "submission_df['target']=np.where(submission_df['target'] > 0.5,1,0)"
      ],
      "execution_count": 630,
      "outputs": []
    },
    {
      "cell_type": "code",
      "metadata": {
        "id": "S3gzO3cOJlwY"
      },
      "source": [
        "submission_df.to_csv('lgbm_poswt3.csv',index=False)"
      ],
      "execution_count": 631,
      "outputs": []
    },
    {
      "cell_type": "code",
      "metadata": {
        "colab": {
          "base_uri": "https://localhost:8080/",
          "height": 198
        },
        "id": "C6oAjCw7JlsP",
        "outputId": "446ccb10-037b-4862-9cc5-c2f4551a5281"
      },
      "source": [
        "submission_df.head()"
      ],
      "execution_count": 632,
      "outputs": [
        {
          "output_type": "execute_result",
          "data": {
            "text/html": [
              "<div>\n",
              "<style scoped>\n",
              "    .dataframe tbody tr th:only-of-type {\n",
              "        vertical-align: middle;\n",
              "    }\n",
              "\n",
              "    .dataframe tbody tr th {\n",
              "        vertical-align: top;\n",
              "    }\n",
              "\n",
              "    .dataframe thead th {\n",
              "        text-align: right;\n",
              "    }\n",
              "</style>\n",
              "<table border=\"1\" class=\"dataframe\">\n",
              "  <thead>\n",
              "    <tr style=\"text-align: right;\">\n",
              "      <th></th>\n",
              "      <th>ID</th>\n",
              "      <th>target</th>\n",
              "    </tr>\n",
              "  </thead>\n",
              "  <tbody>\n",
              "    <tr>\n",
              "      <th>0</th>\n",
              "      <td>009D84L</td>\n",
              "      <td>1</td>\n",
              "    </tr>\n",
              "    <tr>\n",
              "      <th>1</th>\n",
              "      <td>01DO2EQ</td>\n",
              "      <td>1</td>\n",
              "    </tr>\n",
              "    <tr>\n",
              "      <th>2</th>\n",
              "      <td>01QM0NU</td>\n",
              "      <td>0</td>\n",
              "    </tr>\n",
              "    <tr>\n",
              "      <th>3</th>\n",
              "      <td>024NJLZ</td>\n",
              "      <td>0</td>\n",
              "    </tr>\n",
              "    <tr>\n",
              "      <th>4</th>\n",
              "      <td>02BYET3</td>\n",
              "      <td>1</td>\n",
              "    </tr>\n",
              "  </tbody>\n",
              "</table>\n",
              "</div>"
            ],
            "text/plain": [
              "        ID  target\n",
              "0  009D84L       1\n",
              "1  01DO2EQ       1\n",
              "2  01QM0NU       0\n",
              "3  024NJLZ       0\n",
              "4  02BYET3       1"
            ]
          },
          "metadata": {
            "tags": []
          },
          "execution_count": 632
        }
      ]
    },
    {
      "cell_type": "code",
      "metadata": {
        "colab": {
          "base_uri": "https://localhost:8080/"
        },
        "id": "1nabPeILJll5",
        "outputId": "3f96b547-a7d8-4068-e508-96bef049c4ff"
      },
      "source": [
        "submission_df.target.value_counts()"
      ],
      "execution_count": 633,
      "outputs": [
        {
          "output_type": "execute_result",
          "data": {
            "text/plain": [
              "0    4363\n",
              "1     814\n",
              "Name: target, dtype: int64"
            ]
          },
          "metadata": {
            "tags": []
          },
          "execution_count": 633
        }
      ]
    },
    {
      "cell_type": "markdown",
      "metadata": {
        "id": "WQ2LlQEKESFN"
      },
      "source": [
        "- Deep EDA and domain knowledge sourcing\n",
        "- Re-group Categorical features \n",
        "- Feature Engineering \n",
        "- Dataset balancing\n",
        "- Hyperparameter tunning with gridsearch\n",
        "- Ensembling of models \n",
        "- Cross-validation to avoid over fitting and under-fitting"
      ]
    },
    {
      "cell_type": "code",
      "metadata": {
        "colab": {
          "base_uri": "https://localhost:8080/"
        },
        "id": "hnSXmiJpRfPE",
        "outputId": "a38ef957-63b4-4fc9-c65a-5a184647383b"
      },
      "source": [
        "!pip install bayesian-optimization"
      ],
      "execution_count": 634,
      "outputs": [
        {
          "output_type": "stream",
          "text": [
            "Requirement already satisfied: bayesian-optimization in /usr/local/lib/python3.6/dist-packages (1.2.0)\n",
            "Requirement already satisfied: scipy>=0.14.0 in /usr/local/lib/python3.6/dist-packages (from bayesian-optimization) (1.4.1)\n",
            "Requirement already satisfied: numpy>=1.9.0 in /usr/local/lib/python3.6/dist-packages (from bayesian-optimization) (1.18.5)\n",
            "Requirement already satisfied: scikit-learn>=0.18.0 in /usr/local/lib/python3.6/dist-packages (from bayesian-optimization) (0.22.2.post1)\n",
            "Requirement already satisfied: joblib>=0.11 in /usr/local/lib/python3.6/dist-packages (from scikit-learn>=0.18.0->bayesian-optimization) (0.17.0)\n"
          ],
          "name": "stdout"
        }
      ]
    },
    {
      "cell_type": "markdown",
      "metadata": {
        "id": "zwLmIvF2TFuP"
      },
      "source": [
        "#Hyperparameter tunning with Bayesian Optimization:"
      ]
    },
    {
      "cell_type": "code",
      "metadata": {
        "id": "oOeKuhNWRcCC"
      },
      "source": [
        "from bayes_opt import BayesianOptimization\n",
        "from sklearn import metrics\n",
        "from sklearn.metrics import mean_squared_error,log_loss\n",
        "import numpy as np\n",
        "import warnings\n",
        "warnings.filterwarnings('ignore')"
      ],
      "execution_count": 635,
      "outputs": []
    },
    {
      "cell_type": "code",
      "metadata": {
        "id": "YTfeLBtXRXi5"
      },
      "source": [
        "def bayesion_opt_lgbm(X,y, init_iter=3, n_iters=7, random_state= 42, seed = 42, num_iterations = 100):\n",
        "      dtrain = lgb.Dataset(data=X, label=y)\n",
        "\n",
        "def lgb_logloss(preds, dtrain):\n",
        "      labels = dtrain.get_label()\n",
        "      return 'lgb_logloss', lgb_logloss(labels, preds), True\n",
        "\n",
        "  # Objective Function\n",
        "def hyp_lgbm(num_leaves, feature_fraction,colsample_bylevel,subsample, bagging_fraction, max_depth, min_split_gain, min_child_weight):\n",
        "        \n",
        "          params = {'application':'binary','num_iterations': num_iterations,\n",
        "                    'learning_rate':0.05, 'early_stopping_round':50,\n",
        "                    'metric':'lgb_binary_logloss'} # Default parameters\n",
        "          params[\"num_leaves\"] = int(round(num_leaves))\n",
        "          params['feature_fraction'] = max(min(feature_fraction, 1), 0)\n",
        "          params['bagging_fraction'] = max(min(bagging_fraction, 1), 0)\n",
        "          params['colsample_bylevel'] = max(min(colsample_bylevel, 1), 0)\n",
        "          params['subsample'] = max(min(subsample, 1), 0)\n",
        "          params['max_depth'] = int(round(max_depth))\n",
        "          params['min_split_gain'] = min_split_gain\n",
        "          params['min_child_weight'] = min_child_weight\n",
        "          cv_results = lgb.cv(params, dtrain, nfold=5, seed=seed,categorical_feature=[], stratified=False,\n",
        "                              verbose_eval =None, feval=lgb_logloss)\n",
        "          # print(cv_results)\n",
        "          return np.max(cv_results['binary_logloss-mean'])\n",
        "\n",
        "  # Domain space-- Range of hyperparameters \n",
        "pds = {'num_leaves': (65, 100),\n",
        "            'feature_fraction': (0.1, 1),\n",
        "            'bagging_fraction': (0.1, 1),\n",
        "            'colsample_bylevel': (0.1, 1),\n",
        "            'subsample': (0.1, 1),\n",
        "            'max_depth': (4, 10),\n",
        "            'min_split_gain': (0.01, 0.08),\n",
        "            'min_child_weight': (5, 20)\n",
        "            }\n",
        "\n",
        "  # Surrogate model\n",
        "optimizer = BayesianOptimization(hyp_lgbm, pds, random_state=42)\n",
        "                                    \n",
        "  # Optimize\n",
        "#optimizer.maximize(init_points=init_iter, n_iter=n_iters)\n",
        "\n",
        "bayesion_opt_lgbm(X,y, init_iter=4, n_iters=15, \n",
        "                  random_state=42, seed = 142, num_iterations = 5000)"
      ],
      "execution_count": 636,
      "outputs": []
    },
    {
      "cell_type": "code",
      "metadata": {
        "id": "68eXb-WYRXbm"
      },
      "source": [
        ""
      ],
      "execution_count": 636,
      "outputs": []
    },
    {
      "cell_type": "code",
      "metadata": {
        "id": "PEnzPzxgRXUR"
      },
      "source": [
        ""
      ],
      "execution_count": 636,
      "outputs": []
    }
  ]
}